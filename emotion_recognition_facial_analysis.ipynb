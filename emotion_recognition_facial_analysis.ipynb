{
 "cells": [
  {
   "cell_type": "code",
   "execution_count": 3,
   "metadata": {},
   "outputs": [],
   "source": [
    "import os\n",
    "import cv2\n",
    "import numpy as np\n",
    "import glob\n",
    "import shutil"
   ]
  },
  {
   "cell_type": "code",
   "execution_count": 41,
   "metadata": {
    "scrolled": true
   },
   "outputs": [
    {
     "name": "stdout",
     "output_type": "stream",
     "text": [
      "s04_trial01-0004.jpeg\n",
      "67\n",
      "s04_trial01-0004.jpeg\n",
      "204\n",
      "s04_trial01-0007.jpeg\n",
      "205\n",
      "s04_trial01-0010.jpeg\n",
      "202\n",
      "s04_trial01-0013.jpeg\n",
      "201\n",
      "s04_trial01-0016.jpeg\n",
      "202\n",
      "s04_trial01-0019.jpeg\n",
      "70\n",
      "s04_trial01-0019.jpeg\n",
      "201\n",
      "s04_trial01-0022.jpeg\n",
      "68\n",
      "s04_trial01-0022.jpeg\n",
      "202\n",
      "s04_trial01-0025.jpeg\n",
      "67\n",
      "s04_trial01-0025.jpeg\n",
      "202\n",
      "s04_trial01-0028.jpeg\n",
      "202\n",
      "s04_trial01-0031.jpeg\n",
      "205\n",
      "s04_trial01-0034.jpeg\n",
      "197\n",
      "s04_trial01-0037.jpeg\n",
      "70\n",
      "s04_trial01-0037.jpeg\n",
      "199\n",
      "s04_trial01-0040.jpeg\n",
      "200\n",
      "s04_trial01-0043.jpeg\n",
      "201\n",
      "s04_trial01-0046.jpeg\n",
      "200\n",
      "s04_trial01-0049.jpeg\n",
      "201\n",
      "s04_trial01-0052.jpeg\n",
      "199\n",
      "s04_trial01-0055.jpeg\n",
      "200\n",
      "s04_trial01-0058.jpeg\n",
      "43\n",
      "s04_trial01-0058.jpeg\n",
      "199\n",
      "s04_trial01-0061.jpeg\n",
      "40\n",
      "s04_trial01-0061.jpeg\n",
      "195\n",
      "s04_trial02-0004.jpeg\n",
      "66\n",
      "s04_trial02-0004.jpeg\n",
      "203\n",
      "s04_trial02-0007.jpeg\n",
      "205\n",
      "s04_trial02-0010.jpeg\n",
      "208\n",
      "s04_trial02-0013.jpeg\n",
      "214\n",
      "s04_trial02-0016.jpeg\n",
      "207\n",
      "s04_trial02-0019.jpeg\n",
      "203\n",
      "s04_trial02-0022.jpeg\n",
      "203\n",
      "s04_trial02-0025.jpeg\n",
      "201\n",
      "s04_trial02-0028.jpeg\n",
      "202\n",
      "s04_trial02-0031.jpeg\n",
      "68\n",
      "s04_trial02-0031.jpeg\n",
      "200\n",
      "s04_trial02-0034.jpeg\n",
      "207\n",
      "s04_trial02-0037.jpeg\n",
      "204\n",
      "s04_trial02-0040.jpeg\n",
      "30\n",
      "s04_trial02-0040.jpeg\n",
      "208\n",
      "s04_trial02-0043.jpeg\n",
      "199\n",
      "s04_trial02-0046.jpeg\n",
      "202\n",
      "s04_trial02-0049.jpeg\n",
      "199\n",
      "s04_trial02-0052.jpeg\n",
      "65\n",
      "s04_trial02-0052.jpeg\n",
      "204\n",
      "s04_trial02-0055.jpeg\n",
      "199\n",
      "s04_trial02-0058.jpeg\n",
      "34\n",
      "s04_trial02-0058.jpeg\n",
      "201\n",
      "s04_trial02-0061.jpeg\n",
      "66\n",
      "s04_trial02-0061.jpeg\n",
      "202\n",
      "s04_trial03-0004.jpeg\n",
      "30\n",
      "s04_trial03-0004.jpeg\n",
      "193\n",
      "s04_trial03-0007.jpeg\n",
      "195\n",
      "s04_trial03-0010.jpeg\n",
      "193\n",
      "s04_trial03-0013.jpeg\n",
      "201\n",
      "s04_trial03-0016.jpeg\n",
      "32\n",
      "s04_trial03-0016.jpeg\n",
      "199\n",
      "s04_trial03-0019.jpeg\n",
      "200\n",
      "s04_trial03-0022.jpeg\n",
      "202\n",
      "s04_trial03-0025.jpeg\n",
      "202\n",
      "s04_trial03-0028.jpeg\n",
      "199\n",
      "s04_trial03-0031.jpeg\n",
      "200\n",
      "s04_trial03-0034.jpeg\n",
      "199\n",
      "s04_trial03-0037.jpeg\n",
      "200\n",
      "s04_trial03-0040.jpeg\n",
      "28\n",
      "s04_trial03-0040.jpeg\n",
      "201\n",
      "s04_trial03-0043.jpeg\n",
      "200\n",
      "s04_trial03-0046.jpeg\n",
      "196\n",
      "s04_trial03-0049.jpeg\n",
      "28\n",
      "s04_trial03-0049.jpeg\n",
      "195\n",
      "s04_trial03-0052.jpeg\n",
      "30\n",
      "s04_trial03-0052.jpeg\n",
      "198\n",
      "s04_trial03-0055.jpeg\n",
      "200\n",
      "s04_trial03-0058.jpeg\n",
      "31\n",
      "s04_trial03-0058.jpeg\n",
      "197\n",
      "s04_trial03-0061.jpeg\n",
      "31\n",
      "s04_trial03-0061.jpeg\n",
      "196\n",
      "s04_trial04-0004.jpeg\n",
      "201\n",
      "s04_trial04-0007.jpeg\n",
      "204\n",
      "s04_trial04-0010.jpeg\n",
      "204\n",
      "s04_trial04-0013.jpeg\n",
      "201\n",
      "s04_trial04-0016.jpeg\n",
      "198\n",
      "s04_trial04-0019.jpeg\n",
      "195\n",
      "s04_trial04-0022.jpeg\n",
      "196\n",
      "s04_trial04-0025.jpeg\n",
      "198\n",
      "s04_trial04-0028.jpeg\n",
      "196\n",
      "s04_trial04-0031.jpeg\n",
      "196\n",
      "s04_trial04-0034.jpeg\n",
      "204\n",
      "s04_trial04-0037.jpeg\n",
      "198\n",
      "s04_trial04-0040.jpeg\n",
      "198\n",
      "s04_trial04-0043.jpeg\n",
      "200\n",
      "s04_trial04-0046.jpeg\n",
      "201\n",
      "s04_trial04-0049.jpeg\n",
      "203\n",
      "s04_trial04-0052.jpeg\n",
      "195\n",
      "s04_trial04-0055.jpeg\n",
      "198\n",
      "s04_trial04-0058.jpeg\n",
      "200\n",
      "s04_trial04-0061.jpeg\n",
      "203\n",
      "s04_trial05-0004.jpeg\n",
      "201\n",
      "s04_trial05-0007.jpeg\n",
      "69\n",
      "s04_trial05-0007.jpeg\n",
      "198\n",
      "s04_trial05-0010.jpeg\n",
      "197\n",
      "s04_trial05-0013.jpeg\n",
      "195\n",
      "s04_trial05-0016.jpeg\n",
      "192\n",
      "s04_trial05-0019.jpeg\n",
      "195\n",
      "s04_trial05-0022.jpeg\n",
      "190\n",
      "s04_trial05-0025.jpeg\n",
      "192\n",
      "s04_trial05-0025.jpeg\n",
      "70\n",
      "s04_trial05-0028.jpeg\n",
      "193\n",
      "s04_trial05-0031.jpeg\n",
      "194\n",
      "s04_trial05-0034.jpeg\n",
      "193\n",
      "s04_trial05-0037.jpeg\n",
      "194\n",
      "s04_trial05-0040.jpeg\n",
      "194\n",
      "s04_trial05-0043.jpeg\n",
      "198\n",
      "s04_trial05-0046.jpeg\n",
      "200\n",
      "s04_trial05-0049.jpeg\n",
      "198\n",
      "s04_trial05-0052.jpeg\n",
      "199\n",
      "s04_trial05-0055.jpeg\n",
      "33\n",
      "s04_trial05-0055.jpeg\n",
      "204\n",
      "s04_trial05-0058.jpeg\n",
      "204\n",
      "s04_trial05-0058.jpeg\n",
      "64\n",
      "s04_trial05-0061.jpeg\n",
      "205\n",
      "s04_trial06-0004.jpeg\n",
      "195\n",
      "s04_trial06-0007.jpeg\n",
      "197\n",
      "s04_trial06-0010.jpeg\n",
      "192\n",
      "s04_trial06-0013.jpeg\n",
      "190\n",
      "s04_trial06-0016.jpeg\n",
      "200\n",
      "s04_trial06-0019.jpeg\n",
      "60\n",
      "s04_trial06-0019.jpeg\n",
      "194\n",
      "s04_trial06-0022.jpeg\n",
      "197\n",
      "s04_trial06-0025.jpeg\n",
      "191\n",
      "s04_trial06-0028.jpeg\n",
      "187\n",
      "s04_trial06-0031.jpeg\n",
      "197\n",
      "s04_trial06-0034.jpeg\n",
      "188\n",
      "s04_trial06-0037.jpeg\n",
      "180\n",
      "s04_trial06-0040.jpeg\n",
      "191\n",
      "s04_trial06-0043.jpeg\n",
      "187\n",
      "s04_trial06-0046.jpeg\n",
      "192\n",
      "s04_trial06-0049.jpeg\n",
      "187\n",
      "s04_trial06-0052.jpeg\n",
      "185\n",
      "s04_trial06-0055.jpeg\n",
      "198\n",
      "s04_trial06-0058.jpeg\n",
      "204\n",
      "s04_trial06-0061.jpeg\n",
      "198\n",
      "s04_trial07-0004.jpeg\n",
      "192\n",
      "s04_trial07-0007.jpeg\n",
      "65\n",
      "s04_trial07-0007.jpeg\n",
      "196\n",
      "s04_trial07-0010.jpeg\n",
      "190\n",
      "s04_trial07-0013.jpeg\n",
      "194\n",
      "s04_trial07-0016.jpeg\n",
      "186\n",
      "s04_trial07-0019.jpeg\n",
      "186\n",
      "s04_trial07-0022.jpeg\n",
      "26\n",
      "s04_trial07-0022.jpeg\n",
      "26\n",
      "s04_trial07-0022.jpeg\n",
      "184\n",
      "s04_trial07-0025.jpeg\n",
      "25\n",
      "s04_trial07-0025.jpeg\n",
      "182\n",
      "s04_trial07-0028.jpeg\n",
      "25\n",
      "s04_trial07-0028.jpeg\n",
      "184\n",
      "s04_trial07-0031.jpeg\n",
      "25\n",
      "s04_trial07-0031.jpeg\n",
      "27\n",
      "s04_trial07-0031.jpeg\n",
      "193\n",
      "s04_trial07-0034.jpeg\n",
      "25\n",
      "s04_trial07-0034.jpeg\n",
      "182\n",
      "s04_trial07-0037.jpeg\n",
      "189\n",
      "s04_trial07-0040.jpeg\n",
      "195\n",
      "s04_trial07-0043.jpeg\n",
      "194\n",
      "s04_trial07-0046.jpeg\n",
      "191\n",
      "s04_trial07-0049.jpeg\n",
      "187\n",
      "s04_trial07-0052.jpeg\n",
      "26\n",
      "s04_trial07-0052.jpeg\n",
      "188\n",
      "s04_trial07-0055.jpeg\n",
      "194\n",
      "s04_trial07-0058.jpeg\n",
      "196\n",
      "s04_trial07-0061.jpeg\n",
      "188\n",
      "s04_trial08-0004.jpeg\n",
      "200\n",
      "s04_trial08-0007.jpeg\n",
      "31\n",
      "s04_trial08-0007.jpeg\n",
      "203\n",
      "s04_trial08-0010.jpeg\n",
      "194\n",
      "s04_trial08-0013.jpeg\n",
      "198\n",
      "s04_trial08-0016.jpeg\n",
      "200\n",
      "s04_trial08-0019.jpeg\n",
      "192\n",
      "s04_trial08-0022.jpeg\n",
      "190\n",
      "s04_trial08-0025.jpeg\n",
      "191\n",
      "s04_trial08-0028.jpeg\n",
      "194\n",
      "s04_trial08-0031.jpeg\n",
      "187\n",
      "s04_trial08-0034.jpeg\n",
      "187\n",
      "s04_trial08-0034.jpeg\n",
      "64\n",
      "s04_trial08-0037.jpeg\n",
      "204\n",
      "s04_trial08-0040.jpeg\n",
      "200\n",
      "s04_trial08-0040.jpeg\n",
      "69\n",
      "s04_trial08-0043.jpeg\n",
      "199\n",
      "s04_trial08-0046.jpeg\n",
      "196\n",
      "s04_trial08-0046.jpeg\n",
      "64\n",
      "s04_trial08-0049.jpeg\n",
      "200\n",
      "s04_trial08-0052.jpeg\n",
      "79\n",
      "s04_trial08-0052.jpeg\n",
      "200\n",
      "s04_trial08-0055.jpeg\n",
      "201\n",
      "s04_trial08-0058.jpeg\n",
      "199\n",
      "s04_trial08-0061.jpeg\n",
      "201\n",
      "s04_trial09-0004.jpeg\n",
      "67\n",
      "s04_trial09-0004.jpeg\n",
      "200\n",
      "s04_trial09-0007.jpeg\n",
      "197\n",
      "s04_trial09-0010.jpeg\n",
      "199\n",
      "s04_trial09-0013.jpeg\n",
      "196\n",
      "s04_trial09-0016.jpeg\n",
      "197\n",
      "s04_trial09-0019.jpeg\n",
      "198\n",
      "s04_trial09-0022.jpeg\n",
      "201\n",
      "s04_trial09-0025.jpeg\n",
      "201\n",
      "s04_trial09-0028.jpeg\n",
      "200\n",
      "s04_trial09-0031.jpeg\n",
      "201\n",
      "s04_trial09-0031.jpeg\n",
      "65\n",
      "s04_trial09-0034.jpeg\n",
      "200\n",
      "s04_trial09-0037.jpeg\n",
      "198\n",
      "s04_trial09-0040.jpeg\n",
      "30\n",
      "s04_trial09-0040.jpeg\n",
      "199\n",
      "s04_trial09-0043.jpeg\n",
      "200\n",
      "s04_trial09-0043.jpeg\n",
      "67\n",
      "s04_trial09-0046.jpeg\n",
      "203\n",
      "s04_trial09-0049.jpeg\n",
      "201\n",
      "s04_trial09-0052.jpeg\n",
      "201\n",
      "s04_trial09-0055.jpeg\n",
      "197\n",
      "s04_trial09-0058.jpeg\n",
      "201\n",
      "s04_trial09-0061.jpeg\n",
      "200\n",
      "s04_trial10-0004.jpeg\n",
      "197\n",
      "s04_trial10-0007.jpeg\n",
      "65\n",
      "s04_trial10-0007.jpeg\n",
      "196\n",
      "s04_trial10-0010.jpeg\n",
      "200\n",
      "s04_trial10-0013.jpeg\n",
      "201\n",
      "s04_trial10-0016.jpeg\n",
      "198\n",
      "s04_trial10-0016.jpeg\n",
      "67\n",
      "s04_trial10-0019.jpeg\n",
      "79\n",
      "s04_trial10-0019.jpeg\n",
      "64\n",
      "s04_trial10-0019.jpeg\n",
      "196\n",
      "s04_trial10-0019.jpeg\n",
      "29\n",
      "s04_trial10-0022.jpeg\n",
      "73\n",
      "s04_trial10-0022.jpeg\n",
      "198\n",
      "s04_trial10-0025.jpeg\n",
      "73\n",
      "s04_trial10-0025.jpeg\n",
      "62\n",
      "s04_trial10-0025.jpeg\n",
      "197\n",
      "s04_trial10-0028.jpeg\n",
      "196\n",
      "s04_trial10-0031.jpeg\n",
      "198\n",
      "s04_trial10-0034.jpeg\n",
      "208\n",
      "s04_trial10-0037.jpeg\n",
      "196\n",
      "s04_trial10-0040.jpeg\n",
      "200\n",
      "s04_trial10-0040.jpeg\n",
      "67\n",
      "s04_trial10-0043.jpeg\n",
      "199\n",
      "s04_trial10-0043.jpeg\n",
      "65\n",
      "s04_trial10-0046.jpeg\n",
      "72\n",
      "s04_trial10-0046.jpeg\n",
      "198\n",
      "s04_trial10-0049.jpeg\n",
      "72\n",
      "s04_trial10-0049.jpeg\n",
      "194\n",
      "s04_trial10-0052.jpeg\n",
      "62\n",
      "s04_trial10-0052.jpeg\n",
      "71\n",
      "s04_trial10-0052.jpeg\n",
      "198\n",
      "s04_trial10-0055.jpeg\n",
      "196\n",
      "s04_trial10-0058.jpeg\n",
      "190\n",
      "s04_trial10-0061.jpeg\n",
      "203\n",
      "s04_trial10-0061.jpeg\n",
      "68\n",
      "s04_trial11-0004.jpeg\n",
      "200\n",
      "s04_trial11-0007.jpeg\n",
      "201\n",
      "s04_trial11-0010.jpeg\n",
      "205\n",
      "s04_trial11-0013.jpeg\n",
      "209\n",
      "s04_trial11-0016.jpeg\n",
      "202\n",
      "s04_trial11-0019.jpeg\n",
      "209\n",
      "s04_trial11-0022.jpeg\n",
      "204\n",
      "s04_trial11-0022.jpeg\n",
      "68\n",
      "s04_trial11-0022.jpeg\n",
      "28\n",
      "s04_trial11-0025.jpeg\n",
      "199\n",
      "s04_trial11-0028.jpeg\n",
      "203\n",
      "s04_trial11-0031.jpeg\n",
      "200\n",
      "s04_trial11-0034.jpeg\n",
      "198\n",
      "s04_trial11-0037.jpeg\n",
      "199\n",
      "s04_trial11-0040.jpeg\n",
      "196\n",
      "s04_trial11-0043.jpeg\n",
      "199\n",
      "s04_trial11-0046.jpeg\n",
      "199\n",
      "s04_trial11-0049.jpeg\n",
      "199\n",
      "s04_trial11-0052.jpeg\n",
      "199\n",
      "s04_trial11-0055.jpeg\n",
      "203\n",
      "s04_trial11-0058.jpeg\n",
      "199\n",
      "s04_trial11-0061.jpeg\n",
      "197\n",
      "s04_trial12-0004.jpeg\n",
      "196\n",
      "s04_trial12-0007.jpeg\n",
      "195\n",
      "s04_trial12-0010.jpeg\n",
      "196\n",
      "s04_trial12-0013.jpeg\n",
      "200\n",
      "s04_trial12-0016.jpeg\n",
      "199\n",
      "s04_trial12-0019.jpeg\n",
      "195\n",
      "s04_trial12-0022.jpeg\n",
      "30\n",
      "s04_trial12-0022.jpeg\n",
      "196\n",
      "s04_trial12-0025.jpeg\n",
      "202\n",
      "s04_trial12-0028.jpeg\n",
      "197\n",
      "s04_trial12-0031.jpeg\n",
      "29\n",
      "s04_trial12-0031.jpeg\n",
      "199\n",
      "s04_trial12-0034.jpeg\n",
      "196\n",
      "s04_trial12-0037.jpeg\n",
      "197\n",
      "s04_trial12-0040.jpeg\n",
      "202\n",
      "s04_trial12-0043.jpeg\n",
      "202\n",
      "s04_trial12-0046.jpeg\n",
      "215\n",
      "s04_trial12-0049.jpeg\n",
      "206\n",
      "s04_trial12-0052.jpeg\n",
      "66\n",
      "s04_trial12-0052.jpeg\n",
      "195\n",
      "s04_trial12-0055.jpeg\n",
      "196\n",
      "s04_trial12-0055.jpeg\n",
      "66\n",
      "s04_trial12-0058.jpeg\n",
      "193\n",
      "s04_trial12-0061.jpeg\n",
      "199\n",
      "s04_trial13-0004.jpeg\n",
      "193\n",
      "s04_trial13-0007.jpeg\n",
      "203\n",
      "s04_trial13-0010.jpeg\n",
      "200\n",
      "s04_trial13-0013.jpeg\n",
      "199\n",
      "s04_trial13-0016.jpeg\n",
      "65\n",
      "s04_trial13-0016.jpeg\n",
      "203\n",
      "s04_trial13-0019.jpeg\n",
      "200\n",
      "s04_trial13-0022.jpeg\n",
      "26\n",
      "s04_trial13-0022.jpeg\n",
      "25\n",
      "s04_trial13-0022.jpeg\n",
      "199\n",
      "s04_trial13-0025.jpeg\n",
      "209\n",
      "s04_trial13-0028.jpeg\n",
      "204\n",
      "s04_trial13-0031.jpeg\n",
      "198\n",
      "s04_trial13-0034.jpeg\n",
      "24\n",
      "s04_trial13-0034.jpeg\n",
      "26\n",
      "s04_trial13-0034.jpeg\n",
      "200\n"
     ]
    },
    {
     "name": "stdout",
     "output_type": "stream",
     "text": [
      "s04_trial13-0037.jpeg\n",
      "25\n",
      "s04_trial13-0037.jpeg\n",
      "196\n",
      "s04_trial13-0040.jpeg\n",
      "191\n",
      "s04_trial13-0040.jpeg\n",
      "66\n",
      "s04_trial13-0043.jpeg\n",
      "25\n",
      "s04_trial13-0043.jpeg\n",
      "193\n",
      "s04_trial13-0046.jpeg\n",
      "25\n",
      "s04_trial13-0046.jpeg\n",
      "199\n",
      "s04_trial13-0049.jpeg\n",
      "25\n",
      "s04_trial13-0049.jpeg\n",
      "199\n",
      "s04_trial13-0052.jpeg\n",
      "192\n",
      "s04_trial13-0055.jpeg\n",
      "212\n",
      "s04_trial13-0058.jpeg\n",
      "206\n",
      "s04_trial13-0061.jpeg\n",
      "209\n",
      "s04_trial14-0004.jpeg\n",
      "201\n",
      "s04_trial14-0007.jpeg\n",
      "203\n",
      "s04_trial14-0010.jpeg\n",
      "197\n",
      "s04_trial14-0013.jpeg\n",
      "191\n",
      "s04_trial14-0016.jpeg\n",
      "26\n",
      "s04_trial14-0016.jpeg\n",
      "206\n",
      "s04_trial14-0019.jpeg\n",
      "185\n",
      "s04_trial14-0022.jpeg\n",
      "25\n",
      "s04_trial14-0022.jpeg\n",
      "193\n",
      "s04_trial14-0025.jpeg\n",
      "25\n",
      "s04_trial14-0025.jpeg\n",
      "195\n",
      "s04_trial14-0028.jpeg\n",
      "200\n",
      "s04_trial14-0031.jpeg\n",
      "67\n",
      "s04_trial14-0031.jpeg\n",
      "199\n",
      "s04_trial14-0034.jpeg\n",
      "191\n",
      "s04_trial14-0037.jpeg\n",
      "199\n",
      "s04_trial14-0040.jpeg\n",
      "196\n",
      "s04_trial14-0043.jpeg\n",
      "196\n",
      "s04_trial14-0046.jpeg\n",
      "26\n",
      "s04_trial14-0046.jpeg\n",
      "197\n",
      "s04_trial14-0049.jpeg\n",
      "27\n",
      "s04_trial14-0049.jpeg\n",
      "194\n",
      "s04_trial14-0052.jpeg\n",
      "194\n",
      "s04_trial14-0055.jpeg\n",
      "25\n",
      "s04_trial14-0055.jpeg\n",
      "197\n",
      "s04_trial14-0058.jpeg\n",
      "25\n",
      "s04_trial14-0058.jpeg\n",
      "197\n",
      "s04_trial14-0061.jpeg\n",
      "24\n",
      "s04_trial14-0061.jpeg\n",
      "26\n",
      "s04_trial14-0061.jpeg\n",
      "192\n",
      "s04_trial15-0004.jpeg\n",
      "204\n",
      "s04_trial15-0007.jpeg\n",
      "194\n",
      "s04_trial15-0010.jpeg\n",
      "196\n",
      "s04_trial15-0013.jpeg\n",
      "27\n",
      "s04_trial15-0013.jpeg\n",
      "189\n",
      "s04_trial15-0016.jpeg\n",
      "190\n",
      "s04_trial15-0019.jpeg\n",
      "26\n",
      "s04_trial15-0019.jpeg\n",
      "196\n",
      "s04_trial15-0022.jpeg\n",
      "182\n",
      "s04_trial15-0025.jpeg\n",
      "200\n",
      "s04_trial15-0028.jpeg\n",
      "178\n",
      "s04_trial15-0031.jpeg\n",
      "199\n",
      "s04_trial15-0034.jpeg\n",
      "202\n",
      "s04_trial15-0037.jpeg\n",
      "197\n",
      "s04_trial15-0040.jpeg\n",
      "197\n",
      "s04_trial15-0043.jpeg\n",
      "201\n",
      "s04_trial15-0046.jpeg\n",
      "208\n",
      "s04_trial15-0049.jpeg\n",
      "199\n",
      "s04_trial15-0052.jpeg\n",
      "197\n",
      "s04_trial15-0055.jpeg\n",
      "189\n",
      "s04_trial15-0058.jpeg\n",
      "197\n",
      "s04_trial15-0061.jpeg\n",
      "26\n",
      "s04_trial15-0061.jpeg\n",
      "192\n",
      "s04_trial16-0004.jpeg\n",
      "194\n",
      "s04_trial16-0007.jpeg\n",
      "192\n",
      "s04_trial16-0010.jpeg\n",
      "195\n",
      "s04_trial16-0013.jpeg\n",
      "200\n",
      "s04_trial16-0016.jpeg\n",
      "26\n",
      "s04_trial16-0016.jpeg\n",
      "203\n",
      "s04_trial16-0019.jpeg\n",
      "27\n",
      "s04_trial16-0019.jpeg\n",
      "194\n",
      "s04_trial16-0022.jpeg\n",
      "192\n",
      "s04_trial16-0025.jpeg\n",
      "25\n",
      "s04_trial16-0025.jpeg\n",
      "192\n",
      "s04_trial16-0028.jpeg\n",
      "27\n",
      "s04_trial16-0028.jpeg\n",
      "194\n",
      "s04_trial16-0031.jpeg\n",
      "185\n",
      "s04_trial16-0034.jpeg\n",
      "187\n",
      "s04_trial16-0037.jpeg\n",
      "187\n",
      "s04_trial16-0040.jpeg\n",
      "191\n",
      "s04_trial16-0043.jpeg\n",
      "195\n",
      "s04_trial16-0046.jpeg\n",
      "25\n",
      "s04_trial16-0046.jpeg\n",
      "196\n",
      "s04_trial16-0049.jpeg\n",
      "200\n",
      "s04_trial16-0052.jpeg\n",
      "199\n",
      "s04_trial16-0055.jpeg\n",
      "25\n",
      "s04_trial16-0055.jpeg\n",
      "192\n",
      "s04_trial16-0058.jpeg\n",
      "187\n",
      "s04_trial16-0061.jpeg\n",
      "208\n",
      "s04_trial17-0004.jpeg\n",
      "201\n",
      "s04_trial17-0007.jpeg\n",
      "162\n",
      "s04_trial17-0010.jpeg\n",
      "81\n",
      "s04_trial17-0010.jpeg\n",
      "50\n",
      "s04_trial17-0010.jpeg\n",
      "135\n",
      "s04_trial17-0013.jpeg\n",
      "188\n",
      "s04_trial17-0016.jpeg\n",
      "26\n",
      "s04_trial17-0016.jpeg\n",
      "47\n",
      "s04_trial17-0019.jpeg\n",
      "65\n",
      "s04_trial17-0019.jpeg\n",
      "28\n",
      "s04_trial17-0025.jpeg\n",
      "25\n",
      "s04_trial17-0025.jpeg\n",
      "115\n",
      "s04_trial17-0028.jpeg\n",
      "199\n",
      "s04_trial17-0031.jpeg\n",
      "28\n",
      "s04_trial17-0031.jpeg\n",
      "207\n",
      "s04_trial17-0034.jpeg\n",
      "201\n",
      "s04_trial17-0037.jpeg\n",
      "204\n",
      "s04_trial17-0040.jpeg\n",
      "199\n",
      "s04_trial17-0043.jpeg\n",
      "202\n",
      "s04_trial17-0046.jpeg\n",
      "201\n",
      "s04_trial17-0049.jpeg\n",
      "200\n",
      "s04_trial17-0052.jpeg\n",
      "194\n",
      "s04_trial17-0055.jpeg\n",
      "64\n",
      "s04_trial17-0058.jpeg\n",
      "25\n",
      "s04_trial17-0061.jpeg\n",
      "208\n",
      "s04_trial18-0004.jpeg\n",
      "200\n",
      "s04_trial18-0007.jpeg\n",
      "198\n",
      "s04_trial18-0010.jpeg\n",
      "198\n",
      "s04_trial18-0013.jpeg\n",
      "199\n",
      "s04_trial18-0016.jpeg\n",
      "195\n",
      "s04_trial18-0019.jpeg\n",
      "196\n",
      "s04_trial18-0022.jpeg\n",
      "197\n",
      "s04_trial18-0025.jpeg\n",
      "198\n",
      "s04_trial18-0028.jpeg\n",
      "202\n",
      "s04_trial18-0031.jpeg\n",
      "199\n",
      "s04_trial18-0034.jpeg\n",
      "194\n",
      "s04_trial18-0037.jpeg\n",
      "26\n",
      "s04_trial18-0037.jpeg\n",
      "196\n",
      "s04_trial18-0040.jpeg\n",
      "25\n",
      "s04_trial18-0040.jpeg\n",
      "55\n",
      "s04_trial18-0040.jpeg\n",
      "196\n",
      "s04_trial18-0043.jpeg\n",
      "25\n",
      "s04_trial18-0043.jpeg\n",
      "195\n",
      "s04_trial18-0046.jpeg\n",
      "25\n",
      "s04_trial18-0046.jpeg\n",
      "198\n",
      "s04_trial18-0049.jpeg\n",
      "25\n",
      "s04_trial18-0049.jpeg\n",
      "197\n",
      "s04_trial18-0052.jpeg\n",
      "195\n",
      "s04_trial18-0055.jpeg\n",
      "26\n",
      "s04_trial18-0055.jpeg\n",
      "192\n",
      "s04_trial18-0058.jpeg\n",
      "27\n",
      "s04_trial18-0058.jpeg\n",
      "197\n",
      "s04_trial18-0058.jpeg\n",
      "149\n",
      "s04_trial18-0061.jpeg\n",
      "25\n",
      "s04_trial18-0061.jpeg\n",
      "198\n",
      "s04_trial19-0004.jpeg\n",
      "207\n",
      "s04_trial19-0007.jpeg\n",
      "196\n",
      "s04_trial19-0010.jpeg\n",
      "26\n",
      "s04_trial19-0010.jpeg\n",
      "67\n",
      "s04_trial19-0010.jpeg\n",
      "199\n",
      "s04_trial19-0013.jpeg\n",
      "210\n",
      "s04_trial19-0016.jpeg\n",
      "27\n",
      "s04_trial19-0016.jpeg\n",
      "197\n",
      "s04_trial19-0019.jpeg\n",
      "204\n",
      "s04_trial19-0022.jpeg\n",
      "204\n",
      "s04_trial19-0025.jpeg\n",
      "26\n",
      "s04_trial19-0025.jpeg\n",
      "200\n",
      "s04_trial19-0028.jpeg\n",
      "25\n",
      "s04_trial19-0028.jpeg\n",
      "199\n",
      "s04_trial19-0031.jpeg\n",
      "26\n",
      "s04_trial19-0031.jpeg\n",
      "26\n",
      "s04_trial19-0031.jpeg\n",
      "197\n",
      "s04_trial19-0034.jpeg\n",
      "26\n",
      "s04_trial19-0034.jpeg\n",
      "25\n",
      "s04_trial19-0034.jpeg\n",
      "66\n",
      "s04_trial19-0034.jpeg\n",
      "194\n",
      "s04_trial19-0037.jpeg\n",
      "26\n",
      "s04_trial19-0037.jpeg\n",
      "34\n",
      "s04_trial19-0037.jpeg\n",
      "191\n",
      "s04_trial19-0040.jpeg\n",
      "26\n",
      "s04_trial19-0040.jpeg\n",
      "201\n",
      "s04_trial19-0043.jpeg\n",
      "26\n",
      "s04_trial19-0043.jpeg\n",
      "26\n",
      "s04_trial19-0043.jpeg\n",
      "203\n",
      "s04_trial19-0046.jpeg\n",
      "26\n",
      "s04_trial19-0046.jpeg\n",
      "28\n",
      "s04_trial19-0046.jpeg\n",
      "211\n",
      "s04_trial19-0049.jpeg\n",
      "26\n",
      "s04_trial19-0049.jpeg\n",
      "209\n",
      "s04_trial19-0052.jpeg\n",
      "213\n",
      "s04_trial19-0055.jpeg\n",
      "203\n",
      "s04_trial19-0058.jpeg\n",
      "34\n",
      "s04_trial19-0058.jpeg\n",
      "201\n",
      "s04_trial19-0061.jpeg\n",
      "199\n",
      "s04_trial20-0004.jpeg\n",
      "192\n",
      "s04_trial20-0007.jpeg\n",
      "209\n",
      "s04_trial20-0010.jpeg\n",
      "199\n",
      "s04_trial20-0013.jpeg\n",
      "199\n",
      "s04_trial20-0016.jpeg\n",
      "194\n",
      "s04_trial20-0019.jpeg\n",
      "200\n",
      "s04_trial20-0022.jpeg\n",
      "207\n",
      "s04_trial20-0025.jpeg\n",
      "27\n",
      "s04_trial20-0025.jpeg\n",
      "203\n",
      "s04_trial20-0028.jpeg\n",
      "204\n",
      "s04_trial20-0031.jpeg\n",
      "199\n",
      "s04_trial20-0034.jpeg\n",
      "205\n",
      "s04_trial20-0037.jpeg\n",
      "205\n",
      "s04_trial20-0040.jpeg\n",
      "56\n",
      "s04_trial20-0040.jpeg\n",
      "205\n",
      "s04_trial20-0043.jpeg\n",
      "206\n",
      "s04_trial20-0046.jpeg\n",
      "207\n",
      "s04_trial20-0049.jpeg\n",
      "200\n",
      "s04_trial20-0052.jpeg\n",
      "26\n",
      "s04_trial20-0052.jpeg\n",
      "55\n",
      "s04_trial20-0052.jpeg\n",
      "202\n",
      "s04_trial20-0055.jpeg\n",
      "207\n",
      "s04_trial20-0058.jpeg\n",
      "200\n",
      "s04_trial20-0061.jpeg\n",
      "201\n",
      "s04_trial21-0004.jpeg\n",
      "201\n",
      "s04_trial21-0007.jpeg\n",
      "204\n",
      "s04_trial21-0010.jpeg\n",
      "32\n",
      "s04_trial21-0010.jpeg\n",
      "205\n",
      "s04_trial21-0013.jpeg\n",
      "202\n",
      "s04_trial21-0016.jpeg\n",
      "29\n",
      "s04_trial21-0016.jpeg\n",
      "196\n",
      "s04_trial21-0019.jpeg\n",
      "200\n",
      "s04_trial21-0022.jpeg\n",
      "205\n",
      "s04_trial21-0025.jpeg\n",
      "201\n",
      "s04_trial21-0028.jpeg\n",
      "202\n",
      "s04_trial21-0031.jpeg\n",
      "204\n",
      "s04_trial21-0034.jpeg\n",
      "202\n",
      "s04_trial21-0037.jpeg\n",
      "204\n",
      "s04_trial21-0040.jpeg\n",
      "30\n",
      "s04_trial21-0040.jpeg\n",
      "208\n",
      "s04_trial21-0043.jpeg\n",
      "32\n",
      "s04_trial21-0043.jpeg\n",
      "205\n",
      "s04_trial21-0046.jpeg\n",
      "199\n",
      "s04_trial21-0049.jpeg\n",
      "202\n",
      "s04_trial21-0052.jpeg\n",
      "30\n",
      "s04_trial21-0052.jpeg\n",
      "194\n",
      "s04_trial21-0055.jpeg\n",
      "192\n",
      "s04_trial21-0058.jpeg\n",
      "195\n",
      "s04_trial21-0061.jpeg\n",
      "204\n",
      "s04_trial22-0004.jpeg\n",
      "188\n",
      "s04_trial22-0007.jpeg\n",
      "197\n",
      "s04_trial22-0010.jpeg\n",
      "26\n",
      "s04_trial22-0010.jpeg\n",
      "196\n",
      "s04_trial22-0013.jpeg\n",
      "195\n",
      "s04_trial22-0016.jpeg\n",
      "190\n",
      "s04_trial22-0019.jpeg\n",
      "197\n",
      "s04_trial22-0022.jpeg\n",
      "184\n",
      "s04_trial22-0025.jpeg\n",
      "179\n",
      "s04_trial22-0025.jpeg\n",
      "126\n",
      "s04_trial22-0028.jpeg\n",
      "181\n",
      "s04_trial22-0031.jpeg\n",
      "188\n",
      "s04_trial22-0034.jpeg\n",
      "194\n",
      "s04_trial22-0037.jpeg\n",
      "188\n",
      "s04_trial22-0040.jpeg\n",
      "193\n",
      "s04_trial22-0043.jpeg\n",
      "203\n",
      "s04_trial22-0046.jpeg\n",
      "190\n",
      "s04_trial22-0049.jpeg\n",
      "196\n",
      "s04_trial22-0052.jpeg\n",
      "198\n",
      "s04_trial22-0055.jpeg\n",
      "195\n",
      "s04_trial22-0058.jpeg\n",
      "193\n",
      "s04_trial22-0061.jpeg\n",
      "194\n",
      "s04_trial23-0004.jpeg\n",
      "195\n",
      "s04_trial23-0007.jpeg\n",
      "201\n",
      "s04_trial23-0010.jpeg\n",
      "25\n",
      "s04_trial23-0010.jpeg\n",
      "27\n",
      "s04_trial23-0010.jpeg\n",
      "33\n",
      "s04_trial23-0010.jpeg\n",
      "196\n",
      "s04_trial23-0013.jpeg\n",
      "26\n",
      "s04_trial23-0013.jpeg\n",
      "194\n",
      "s04_trial23-0016.jpeg\n",
      "28\n",
      "s04_trial23-0016.jpeg\n",
      "194\n",
      "s04_trial23-0019.jpeg\n",
      "197\n",
      "s04_trial23-0022.jpeg\n",
      "28\n",
      "s04_trial23-0022.jpeg\n",
      "192\n",
      "s04_trial23-0025.jpeg\n",
      "194\n",
      "s04_trial23-0028.jpeg\n",
      "197\n",
      "s04_trial23-0031.jpeg\n",
      "27\n",
      "s04_trial23-0031.jpeg\n",
      "196\n",
      "s04_trial23-0034.jpeg\n",
      "24\n",
      "s04_trial23-0034.jpeg\n",
      "194\n",
      "s04_trial23-0037.jpeg\n",
      "191\n",
      "s04_trial23-0040.jpeg\n",
      "26\n",
      "s04_trial23-0040.jpeg\n",
      "198\n",
      "s04_trial23-0043.jpeg\n",
      "60\n",
      "s04_trial23-0043.jpeg\n",
      "188\n",
      "s04_trial23-0046.jpeg\n",
      "203\n",
      "s04_trial23-0049.jpeg\n",
      "197\n",
      "s04_trial23-0052.jpeg\n",
      "190\n",
      "s04_trial23-0055.jpeg\n",
      "191\n",
      "s04_trial23-0058.jpeg\n",
      "192\n",
      "s04_trial23-0061.jpeg\n",
      "198\n",
      "s04_trial24-0004.jpeg\n",
      "190\n",
      "s04_trial24-0007.jpeg\n",
      "31\n",
      "s04_trial24-0007.jpeg\n",
      "187\n",
      "s04_trial24-0010.jpeg\n",
      "28\n",
      "s04_trial24-0010.jpeg\n",
      "184\n",
      "s04_trial24-0013.jpeg\n",
      "29\n",
      "s04_trial24-0013.jpeg\n",
      "188\n",
      "s04_trial24-0016.jpeg\n",
      "29\n",
      "s04_trial24-0016.jpeg\n",
      "184\n",
      "s04_trial24-0019.jpeg\n",
      "31\n",
      "s04_trial24-0019.jpeg\n",
      "48\n",
      "s04_trial24-0019.jpeg\n",
      "150\n",
      "s04_trial24-0019.jpeg\n",
      "177\n",
      "s04_trial24-0022.jpeg\n",
      "32\n",
      "s04_trial24-0022.jpeg\n",
      "151\n",
      "s04_trial24-0022.jpeg\n",
      "177\n",
      "s04_trial24-0025.jpeg\n",
      "186\n",
      "s04_trial24-0025.jpeg\n",
      "150\n",
      "s04_trial24-0028.jpeg\n",
      "182\n",
      "s04_trial24-0028.jpeg\n",
      "157\n",
      "s04_trial24-0031.jpeg\n",
      "36\n",
      "s04_trial24-0031.jpeg\n",
      "184\n",
      "s04_trial24-0034.jpeg\n",
      "185\n",
      "s04_trial24-0037.jpeg\n",
      "185\n",
      "s04_trial24-0040.jpeg\n",
      "197\n",
      "s04_trial24-0043.jpeg\n",
      "198\n",
      "s04_trial24-0046.jpeg\n",
      "189\n",
      "s04_trial24-0049.jpeg\n",
      "195\n",
      "s04_trial24-0052.jpeg\n",
      "194\n",
      "s04_trial24-0055.jpeg\n",
      "194\n",
      "s04_trial24-0058.jpeg\n",
      "186\n"
     ]
    },
    {
     "name": "stdout",
     "output_type": "stream",
     "text": [
      "s04_trial24-0061.jpeg\n",
      "195\n",
      "s04_trial25-0004.jpeg\n",
      "203\n",
      "s04_trial25-0007.jpeg\n",
      "195\n",
      "s04_trial25-0010.jpeg\n",
      "186\n",
      "s04_trial25-0013.jpeg\n",
      "192\n",
      "s04_trial25-0016.jpeg\n",
      "192\n",
      "s04_trial25-0019.jpeg\n",
      "184\n",
      "s04_trial25-0022.jpeg\n",
      "187\n",
      "s04_trial25-0025.jpeg\n",
      "198\n",
      "s04_trial25-0028.jpeg\n",
      "200\n",
      "s04_trial25-0031.jpeg\n",
      "201\n",
      "s04_trial25-0034.jpeg\n",
      "203\n",
      "s04_trial25-0037.jpeg\n",
      "32\n",
      "s04_trial25-0037.jpeg\n",
      "192\n",
      "s04_trial25-0040.jpeg\n",
      "201\n",
      "s04_trial25-0043.jpeg\n",
      "185\n",
      "s04_trial25-0046.jpeg\n",
      "197\n",
      "s04_trial25-0049.jpeg\n",
      "198\n",
      "s04_trial25-0052.jpeg\n",
      "197\n",
      "s04_trial25-0055.jpeg\n",
      "192\n",
      "s04_trial25-0058.jpeg\n",
      "200\n",
      "s04_trial25-0061.jpeg\n",
      "190\n",
      "s04_trial26-0004.jpeg\n",
      "201\n",
      "s04_trial26-0007.jpeg\n",
      "196\n",
      "s04_trial26-0010.jpeg\n",
      "181\n",
      "s04_trial26-0013.jpeg\n",
      "185\n",
      "s04_trial26-0013.jpeg\n",
      "57\n",
      "s04_trial26-0016.jpeg\n",
      "188\n",
      "s04_trial26-0019.jpeg\n",
      "189\n",
      "s04_trial26-0022.jpeg\n",
      "26\n",
      "s04_trial26-0022.jpeg\n",
      "197\n",
      "s04_trial26-0025.jpeg\n",
      "25\n",
      "s04_trial26-0025.jpeg\n",
      "192\n",
      "s04_trial26-0028.jpeg\n",
      "192\n",
      "s04_trial26-0031.jpeg\n",
      "187\n",
      "s04_trial26-0034.jpeg\n",
      "47\n",
      "s04_trial26-0034.jpeg\n",
      "44\n",
      "s04_trial26-0034.jpeg\n",
      "190\n",
      "s04_trial26-0037.jpeg\n",
      "41\n",
      "s04_trial26-0037.jpeg\n",
      "206\n",
      "s04_trial26-0040.jpeg\n",
      "37\n",
      "s04_trial26-0040.jpeg\n",
      "206\n",
      "s04_trial26-0043.jpeg\n",
      "200\n",
      "s04_trial26-0046.jpeg\n",
      "192\n",
      "s04_trial26-0049.jpeg\n",
      "195\n",
      "s04_trial26-0052.jpeg\n",
      "194\n",
      "s04_trial26-0055.jpeg\n",
      "197\n",
      "s04_trial26-0058.jpeg\n",
      "199\n",
      "s04_trial26-0061.jpeg\n",
      "191\n",
      "s04_trial27-0004.jpeg\n",
      "196\n",
      "s04_trial27-0007.jpeg\n",
      "194\n",
      "s04_trial27-0010.jpeg\n",
      "192\n",
      "s04_trial27-0013.jpeg\n",
      "201\n",
      "s04_trial27-0013.jpeg\n",
      "146\n",
      "s04_trial27-0016.jpeg\n",
      "196\n",
      "s04_trial27-0016.jpeg\n",
      "157\n",
      "s04_trial27-0019.jpeg\n",
      "191\n",
      "s04_trial27-0022.jpeg\n",
      "197\n",
      "s04_trial27-0025.jpeg\n",
      "196\n",
      "s04_trial27-0028.jpeg\n",
      "197\n",
      "s04_trial27-0028.jpeg\n",
      "154\n",
      "s04_trial27-0031.jpeg\n",
      "198\n",
      "s04_trial27-0031.jpeg\n",
      "148\n",
      "s04_trial27-0034.jpeg\n",
      "206\n",
      "s04_trial27-0037.jpeg\n",
      "200\n",
      "s04_trial27-0040.jpeg\n",
      "204\n",
      "s04_trial27-0043.jpeg\n",
      "208\n",
      "s04_trial27-0046.jpeg\n",
      "204\n",
      "s04_trial27-0049.jpeg\n",
      "204\n",
      "s04_trial27-0052.jpeg\n",
      "200\n",
      "s04_trial27-0055.jpeg\n",
      "206\n",
      "s04_trial27-0058.jpeg\n",
      "195\n",
      "s04_trial27-0061.jpeg\n",
      "201\n",
      "s04_trial28-0004.jpeg\n",
      "172\n",
      "s04_trial28-0007.jpeg\n",
      "182\n",
      "s04_trial28-0010.jpeg\n",
      "180\n",
      "s04_trial28-0013.jpeg\n",
      "182\n",
      "s04_trial28-0016.jpeg\n",
      "196\n",
      "s04_trial28-0019.jpeg\n",
      "196\n",
      "s04_trial28-0022.jpeg\n",
      "189\n",
      "s04_trial28-0025.jpeg\n",
      "191\n",
      "s04_trial28-0028.jpeg\n",
      "193\n",
      "s04_trial28-0031.jpeg\n",
      "192\n",
      "s04_trial28-0034.jpeg\n",
      "194\n",
      "s04_trial28-0037.jpeg\n",
      "199\n",
      "s04_trial28-0040.jpeg\n",
      "201\n",
      "s04_trial28-0043.jpeg\n",
      "201\n",
      "s04_trial28-0046.jpeg\n",
      "197\n",
      "s04_trial28-0049.jpeg\n",
      "204\n",
      "s04_trial28-0052.jpeg\n",
      "195\n",
      "s04_trial28-0055.jpeg\n",
      "198\n",
      "s04_trial28-0058.jpeg\n",
      "197\n",
      "s04_trial28-0061.jpeg\n",
      "199\n",
      "s04_trial29-0004.jpeg\n",
      "198\n",
      "s04_trial29-0007.jpeg\n",
      "201\n",
      "s04_trial29-0010.jpeg\n",
      "199\n",
      "s04_trial29-0013.jpeg\n",
      "66\n",
      "s04_trial29-0013.jpeg\n",
      "192\n",
      "s04_trial29-0016.jpeg\n",
      "67\n",
      "s04_trial29-0016.jpeg\n",
      "193\n",
      "s04_trial29-0019.jpeg\n",
      "67\n",
      "s04_trial29-0019.jpeg\n",
      "196\n",
      "s04_trial29-0022.jpeg\n",
      "67\n",
      "s04_trial29-0022.jpeg\n",
      "191\n",
      "s04_trial29-0025.jpeg\n",
      "198\n",
      "s04_trial29-0028.jpeg\n",
      "193\n",
      "s04_trial29-0031.jpeg\n",
      "198\n",
      "s04_trial29-0034.jpeg\n",
      "204\n",
      "s04_trial29-0037.jpeg\n",
      "202\n",
      "s04_trial29-0040.jpeg\n",
      "200\n",
      "s04_trial29-0043.jpeg\n",
      "199\n",
      "s04_trial29-0046.jpeg\n",
      "198\n",
      "s04_trial29-0049.jpeg\n",
      "193\n",
      "s04_trial29-0052.jpeg\n",
      "203\n",
      "s04_trial29-0055.jpeg\n",
      "204\n",
      "s04_trial29-0058.jpeg\n",
      "195\n",
      "s04_trial29-0061.jpeg\n",
      "198\n",
      "s04_trial30-0004.jpeg\n",
      "189\n",
      "s04_trial30-0007.jpeg\n",
      "188\n",
      "s04_trial30-0010.jpeg\n",
      "200\n",
      "s04_trial30-0013.jpeg\n",
      "193\n",
      "s04_trial30-0016.jpeg\n",
      "195\n",
      "s04_trial30-0019.jpeg\n",
      "197\n",
      "s04_trial30-0022.jpeg\n",
      "197\n",
      "s04_trial30-0025.jpeg\n",
      "197\n",
      "s04_trial30-0028.jpeg\n",
      "26\n",
      "s04_trial30-0028.jpeg\n",
      "183\n",
      "s04_trial30-0031.jpeg\n",
      "185\n",
      "s04_trial30-0034.jpeg\n",
      "190\n",
      "s04_trial30-0037.jpeg\n",
      "66\n",
      "s04_trial30-0037.jpeg\n",
      "185\n",
      "s04_trial30-0040.jpeg\n",
      "195\n",
      "s04_trial30-0043.jpeg\n",
      "197\n",
      "s04_trial30-0046.jpeg\n",
      "199\n",
      "s04_trial30-0049.jpeg\n",
      "195\n",
      "s04_trial30-0052.jpeg\n",
      "196\n",
      "s04_trial30-0055.jpeg\n",
      "187\n",
      "s04_trial30-0058.jpeg\n",
      "180\n",
      "s04_trial30-0061.jpeg\n",
      "196\n",
      "s04_trial31-0004.jpeg\n",
      "200\n",
      "s04_trial31-0007.jpeg\n",
      "196\n",
      "s04_trial31-0010.jpeg\n",
      "198\n",
      "s04_trial31-0013.jpeg\n",
      "190\n",
      "s04_trial31-0016.jpeg\n",
      "193\n",
      "s04_trial31-0019.jpeg\n",
      "190\n",
      "s04_trial31-0022.jpeg\n",
      "187\n",
      "s04_trial31-0025.jpeg\n",
      "186\n",
      "s04_trial31-0028.jpeg\n",
      "186\n",
      "s04_trial31-0031.jpeg\n",
      "190\n",
      "s04_trial31-0034.jpeg\n",
      "187\n",
      "s04_trial31-0037.jpeg\n",
      "181\n",
      "s04_trial31-0040.jpeg\n",
      "179\n",
      "s04_trial31-0043.jpeg\n",
      "185\n",
      "s04_trial31-0046.jpeg\n",
      "181\n",
      "s04_trial31-0049.jpeg\n",
      "183\n",
      "s04_trial31-0052.jpeg\n",
      "185\n",
      "s04_trial31-0055.jpeg\n",
      "178\n",
      "s04_trial31-0058.jpeg\n",
      "184\n",
      "s04_trial31-0061.jpeg\n",
      "184\n",
      "s04_trial32-0004.jpeg\n",
      "196\n",
      "s04_trial32-0007.jpeg\n",
      "195\n",
      "s04_trial32-0010.jpeg\n",
      "193\n",
      "s04_trial32-0013.jpeg\n",
      "193\n",
      "s04_trial32-0016.jpeg\n",
      "196\n",
      "s04_trial32-0016.jpeg\n",
      "147\n",
      "s04_trial32-0019.jpeg\n",
      "26\n",
      "s04_trial32-0019.jpeg\n",
      "205\n",
      "s04_trial32-0019.jpeg\n",
      "147\n",
      "s04_trial32-0022.jpeg\n",
      "199\n",
      "s04_trial32-0025.jpeg\n",
      "197\n",
      "s04_trial32-0025.jpeg\n",
      "152\n",
      "s04_trial32-0028.jpeg\n",
      "194\n",
      "s04_trial32-0031.jpeg\n",
      "149\n",
      "s04_trial32-0031.jpeg\n",
      "192\n",
      "s04_trial32-0034.jpeg\n",
      "194\n",
      "s04_trial32-0034.jpeg\n",
      "147\n",
      "s04_trial32-0037.jpeg\n",
      "25\n",
      "s04_trial32-0037.jpeg\n",
      "196\n",
      "s04_trial32-0040.jpeg\n",
      "200\n",
      "s04_trial32-0043.jpeg\n",
      "196\n",
      "s04_trial32-0046.jpeg\n",
      "202\n",
      "s04_trial32-0049.jpeg\n",
      "196\n",
      "s04_trial32-0049.jpeg\n",
      "150\n",
      "s04_trial32-0052.jpeg\n",
      "26\n",
      "s04_trial32-0052.jpeg\n",
      "198\n",
      "s04_trial32-0055.jpeg\n",
      "196\n",
      "s04_trial32-0058.jpeg\n",
      "193\n",
      "s04_trial32-0061.jpeg\n",
      "197\n",
      "s04_trial33-0004.jpeg\n",
      "199\n",
      "s04_trial33-0007.jpeg\n",
      "202\n",
      "s04_trial33-0010.jpeg\n",
      "191\n",
      "s04_trial33-0010.jpeg\n",
      "151\n",
      "s04_trial33-0013.jpeg\n",
      "202\n",
      "s04_trial33-0016.jpeg\n",
      "63\n",
      "s04_trial33-0016.jpeg\n",
      "202\n",
      "s04_trial33-0019.jpeg\n",
      "201\n",
      "s04_trial33-0022.jpeg\n",
      "204\n",
      "s04_trial33-0022.jpeg\n",
      "151\n",
      "s04_trial33-0025.jpeg\n",
      "195\n",
      "s04_trial33-0028.jpeg\n",
      "198\n",
      "s04_trial33-0031.jpeg\n",
      "41\n",
      "s04_trial33-0031.jpeg\n",
      "198\n",
      "s04_trial33-0034.jpeg\n",
      "200\n",
      "s04_trial33-0037.jpeg\n",
      "204\n",
      "s04_trial33-0040.jpeg\n",
      "196\n",
      "s04_trial33-0043.jpeg\n",
      "203\n",
      "s04_trial33-0046.jpeg\n",
      "204\n",
      "s04_trial33-0049.jpeg\n",
      "205\n",
      "s04_trial33-0052.jpeg\n",
      "207\n",
      "s04_trial33-0055.jpeg\n",
      "207\n",
      "s04_trial33-0058.jpeg\n",
      "205\n",
      "s04_trial33-0061.jpeg\n",
      "203\n",
      "s04_trial34-0004.jpeg\n",
      "205\n",
      "s04_trial34-0007.jpeg\n",
      "200\n",
      "s04_trial34-0007.jpeg\n",
      "78\n",
      "s04_trial34-0010.jpeg\n",
      "199\n",
      "s04_trial34-0013.jpeg\n",
      "199\n",
      "s04_trial34-0016.jpeg\n",
      "201\n",
      "s04_trial34-0019.jpeg\n",
      "198\n",
      "s04_trial34-0022.jpeg\n",
      "202\n",
      "s04_trial34-0025.jpeg\n",
      "197\n",
      "s04_trial34-0028.jpeg\n",
      "203\n",
      "s04_trial34-0031.jpeg\n",
      "202\n",
      "s04_trial34-0034.jpeg\n",
      "26\n",
      "s04_trial34-0034.jpeg\n",
      "209\n",
      "s04_trial34-0037.jpeg\n",
      "207\n",
      "s04_trial34-0040.jpeg\n",
      "28\n",
      "s04_trial34-0040.jpeg\n",
      "197\n",
      "s04_trial34-0043.jpeg\n",
      "26\n",
      "s04_trial34-0043.jpeg\n",
      "34\n",
      "s04_trial34-0043.jpeg\n",
      "217\n",
      "s04_trial34-0046.jpeg\n",
      "205\n",
      "s04_trial34-0049.jpeg\n",
      "204\n",
      "s04_trial34-0052.jpeg\n",
      "199\n",
      "s04_trial34-0055.jpeg\n",
      "201\n",
      "s04_trial34-0058.jpeg\n",
      "200\n",
      "s04_trial34-0061.jpeg\n",
      "158\n",
      "s04_trial34-0061.jpeg\n",
      "192\n",
      "s04_trial35-0004.jpeg\n",
      "198\n",
      "s04_trial35-0007.jpeg\n",
      "193\n",
      "s04_trial35-0010.jpeg\n",
      "197\n",
      "s04_trial35-0013.jpeg\n",
      "199\n",
      "s04_trial35-0016.jpeg\n",
      "201\n",
      "s04_trial35-0019.jpeg\n",
      "202\n",
      "s04_trial35-0022.jpeg\n",
      "190\n",
      "s04_trial35-0025.jpeg\n",
      "194\n",
      "s04_trial35-0028.jpeg\n",
      "192\n",
      "s04_trial35-0031.jpeg\n",
      "200\n",
      "s04_trial35-0034.jpeg\n",
      "193\n",
      "s04_trial35-0037.jpeg\n",
      "182\n",
      "s04_trial35-0040.jpeg\n",
      "180\n",
      "s04_trial35-0043.jpeg\n",
      "191\n",
      "s04_trial35-0046.jpeg\n",
      "188\n",
      "s04_trial35-0049.jpeg\n",
      "209\n",
      "s04_trial35-0052.jpeg\n",
      "204\n",
      "s04_trial35-0055.jpeg\n",
      "197\n",
      "s04_trial35-0055.jpeg\n",
      "150\n",
      "s04_trial35-0058.jpeg\n",
      "204\n",
      "s04_trial35-0061.jpeg\n",
      "202\n",
      "s04_trial36-0004.jpeg\n",
      "196\n",
      "s04_trial36-0007.jpeg\n",
      "200\n",
      "s04_trial36-0010.jpeg\n",
      "193\n",
      "s04_trial36-0013.jpeg\n",
      "197\n",
      "s04_trial36-0016.jpeg\n",
      "197\n",
      "s04_trial36-0019.jpeg\n",
      "196\n",
      "s04_trial36-0022.jpeg\n",
      "64\n",
      "s04_trial36-0022.jpeg\n",
      "198\n",
      "s04_trial36-0025.jpeg\n",
      "202\n",
      "s04_trial36-0028.jpeg\n",
      "205\n",
      "s04_trial36-0031.jpeg\n",
      "198\n",
      "s04_trial36-0034.jpeg\n",
      "201\n",
      "s04_trial36-0037.jpeg\n",
      "193\n",
      "s04_trial36-0040.jpeg\n",
      "192\n",
      "s04_trial36-0043.jpeg\n",
      "196\n",
      "s04_trial36-0046.jpeg\n",
      "196\n",
      "s04_trial36-0049.jpeg\n",
      "194\n",
      "s04_trial36-0052.jpeg\n",
      "198\n",
      "s04_trial36-0055.jpeg\n",
      "194\n",
      "s04_trial36-0058.jpeg\n",
      "204\n",
      "s04_trial36-0061.jpeg\n",
      "62\n",
      "s04_trial36-0061.jpeg\n",
      "210\n",
      "s04_trial37-0004.jpeg\n",
      "211\n",
      "s04_trial37-0007.jpeg\n",
      "207\n",
      "s04_trial37-0010.jpeg\n",
      "208\n",
      "s04_trial37-0013.jpeg\n",
      "209\n",
      "s04_trial37-0016.jpeg\n",
      "207\n",
      "s04_trial37-0019.jpeg\n",
      "209\n",
      "s04_trial37-0022.jpeg\n",
      "201\n",
      "s04_trial37-0025.jpeg\n",
      "207\n",
      "s04_trial37-0028.jpeg\n",
      "204\n",
      "s04_trial37-0031.jpeg\n",
      "208\n",
      "s04_trial37-0034.jpeg\n",
      "203\n",
      "s04_trial37-0037.jpeg\n",
      "205\n",
      "s04_trial37-0040.jpeg\n",
      "209\n",
      "s04_trial37-0043.jpeg\n",
      "197\n",
      "s04_trial37-0046.jpeg\n",
      "26\n",
      "s04_trial37-0046.jpeg\n",
      "29\n",
      "s04_trial37-0046.jpeg\n",
      "201\n",
      "s04_trial37-0049.jpeg\n",
      "33\n",
      "s04_trial37-0049.jpeg\n",
      "203\n",
      "s04_trial37-0052.jpeg\n",
      "211\n",
      "s04_trial37-0055.jpeg\n",
      "196\n",
      "s04_trial37-0058.jpeg\n",
      "199\n",
      "s04_trial37-0061.jpeg\n",
      "204\n",
      "s04_trial38-0004.jpeg\n",
      "197\n",
      "s04_trial38-0004.jpeg\n",
      "156\n",
      "s04_trial38-0007.jpeg\n",
      "197\n",
      "s04_trial38-0010.jpeg\n",
      "195\n",
      "s04_trial38-0013.jpeg\n",
      "194\n",
      "s04_trial38-0013.jpeg\n",
      "158\n",
      "s04_trial38-0016.jpeg\n",
      "191\n",
      "s04_trial38-0019.jpeg\n",
      "197\n",
      "s04_trial38-0022.jpeg\n",
      "192\n",
      "s04_trial38-0025.jpeg\n",
      "194\n",
      "s04_trial38-0028.jpeg\n",
      "198\n",
      "s04_trial38-0031.jpeg\n",
      "203\n",
      "s04_trial38-0034.jpeg\n",
      "200\n"
     ]
    },
    {
     "name": "stdout",
     "output_type": "stream",
     "text": [
      "s04_trial38-0037.jpeg\n",
      "54\n",
      "s04_trial38-0037.jpeg\n",
      "224\n",
      "s04_trial38-0040.jpeg\n",
      "212\n",
      "s04_trial38-0043.jpeg\n",
      "207\n",
      "s04_trial38-0046.jpeg\n",
      "214\n",
      "s04_trial38-0049.jpeg\n",
      "214\n",
      "s04_trial38-0052.jpeg\n",
      "214\n",
      "s04_trial38-0055.jpeg\n",
      "213\n",
      "s04_trial38-0058.jpeg\n",
      "65\n",
      "s04_trial38-0058.jpeg\n",
      "206\n",
      "s04_trial38-0061.jpeg\n",
      "215\n",
      "s04_trial39-0004.jpeg\n",
      "197\n",
      "s04_trial39-0007.jpeg\n",
      "202\n",
      "s04_trial39-0010.jpeg\n",
      "205\n",
      "s04_trial39-0013.jpeg\n",
      "204\n",
      "s04_trial39-0016.jpeg\n",
      "190\n",
      "s04_trial39-0019.jpeg\n",
      "203\n",
      "s04_trial39-0022.jpeg\n",
      "199\n",
      "s04_trial39-0025.jpeg\n",
      "203\n",
      "s04_trial39-0028.jpeg\n",
      "210\n",
      "s04_trial39-0031.jpeg\n",
      "205\n",
      "s04_trial39-0034.jpeg\n",
      "205\n",
      "s04_trial39-0037.jpeg\n",
      "202\n",
      "s04_trial39-0040.jpeg\n",
      "29\n",
      "s04_trial39-0040.jpeg\n",
      "205\n",
      "s04_trial39-0043.jpeg\n",
      "202\n",
      "s04_trial39-0046.jpeg\n",
      "206\n",
      "s04_trial39-0049.jpeg\n",
      "202\n",
      "s04_trial39-0052.jpeg\n",
      "205\n",
      "s04_trial39-0055.jpeg\n",
      "199\n",
      "s04_trial39-0058.jpeg\n",
      "28\n",
      "s04_trial39-0058.jpeg\n",
      "196\n",
      "s04_trial39-0061.jpeg\n",
      "31\n",
      "s04_trial39-0061.jpeg\n",
      "200\n",
      "s04_trial40-0004.jpeg\n",
      "202\n",
      "s04_trial40-0007.jpeg\n",
      "201\n",
      "s04_trial40-0010.jpeg\n",
      "202\n",
      "s04_trial40-0013.jpeg\n",
      "200\n",
      "s04_trial40-0016.jpeg\n",
      "202\n",
      "s04_trial40-0019.jpeg\n",
      "196\n",
      "s04_trial40-0022.jpeg\n",
      "205\n",
      "s04_trial40-0025.jpeg\n",
      "198\n",
      "s04_trial40-0028.jpeg\n",
      "208\n",
      "s04_trial40-0031.jpeg\n",
      "207\n",
      "s04_trial40-0034.jpeg\n",
      "201\n",
      "s04_trial40-0037.jpeg\n",
      "25\n",
      "s04_trial40-0037.jpeg\n",
      "52\n",
      "s04_trial40-0037.jpeg\n",
      "196\n",
      "s04_trial40-0040.jpeg\n",
      "26\n",
      "s04_trial40-0040.jpeg\n",
      "199\n",
      "s04_trial40-0043.jpeg\n",
      "204\n",
      "s04_trial40-0046.jpeg\n",
      "29\n",
      "s04_trial40-0046.jpeg\n",
      "198\n",
      "s04_trial40-0049.jpeg\n",
      "204\n",
      "s04_trial40-0052.jpeg\n",
      "205\n",
      "s04_trial40-0055.jpeg\n",
      "25\n",
      "s04_trial40-0055.jpeg\n",
      "195\n",
      "s04_trial40-0058.jpeg\n",
      "176\n",
      "s04_trial40-0058.jpeg\n",
      "193\n",
      "s04_trial40-0061.jpeg\n",
      "187\n"
     ]
    }
   ],
   "source": [
    "import glob\n",
    "#image_path = \"/home/aaina/final_year_project/data/processed_images/to_crop/\"\n",
    "image_path = \"/home/aaina/final_year_project/data/face_video/s04/s04_20/\"\n",
    "faces=[]\n",
    "def save_faces(cascade, imgname):\n",
    "    img = cv2.imread(os.path.join(image_path, imgname))\n",
    "    for i, face in enumerate(cascade.detectMultiScale(img,scaleFactor=1.02)):\n",
    "        print(imgname)\n",
    "        x, y, w, h = face\n",
    "        sub_face = img[y:y + h, x:x + w]\n",
    "        print(len(sub_face))\n",
    "        #print(sub_face)\n",
    "        #print(type(sub))\n",
    "        faces.append(sub_face)\n",
    "        #sub_face_resize = sub_face.resize((215, 215))\n",
    "        #cv2.imwrite(os.path.join(\"/home/aaina/final_year_project/data/processed_images/ans/\",\"{}_{}.jpg\".format(imgname, i)), sub_face)\n",
    "        cv2.imwrite(os.path.join(\"/home/aaina/final_year_project/data/processed_images/S_20/4_1.02/\",\"{}_{}.jpg\".format(imgname, i)), sub_face)\n",
    "\n",
    "if __name__ == '__main__':\n",
    "    face_cascade = \"/home/aaina/final_year_project/code/haarcascade_frontalface_default.xml\"\n",
    "    #face_cascade=face_cascade.load(\"/home/aaina/final_year_project/code/haarcascade_frontalface_default.xml\")\n",
    "    cascade = cv2.CascadeClassifier(face_cascade)\n",
    "    # Iterate through files\n",
    "    filenames = [img for img in os.listdir(image_path) if os.path.isfile(os.path.join(image_path, img))]\n",
    "    filenames.sort()\n",
    "    #print(filenames)\n",
    "    \"\"\"images = [cv2.imread(img) for img in filenames]\n",
    "    for img in images:\n",
    "        save_faces(cascade, f)***\n",
    "       # print(img)\"\"\"\n",
    "    for img in filenames: #if os.path.isfile(os.path.join(image_path, f)):\n",
    "         save_faces(cascade, img)\n",
    "   # for f in [f for f in os.listdir(image_path) if os.path.isfile(os.path.join(image_path, f))]:\n",
    "        #save_faces(cascade, f)"
   ]
  },
  {
   "cell_type": "code",
   "execution_count": 42,
   "metadata": {},
   "outputs": [
    {
     "data": {
      "text/plain": [
       "1016"
      ]
     },
     "execution_count": 42,
     "metadata": {},
     "output_type": "execute_result"
    }
   ],
   "source": [
    "len(faces)"
   ]
  },
  {
   "cell_type": "code",
   "execution_count": 16,
   "metadata": {},
   "outputs": [
    {
     "ename": "FileNotFoundError",
     "evalue": "[WinError 3] The system cannot find the path specified: '/home/aaina/final_year_project/data/processed_images/S_20/S01_20/'",
     "output_type": "error",
     "traceback": [
      "\u001b[1;31m---------------------------------------------------------------------------\u001b[0m",
      "\u001b[1;31mFileNotFoundError\u001b[0m                         Traceback (most recent call last)",
      "\u001b[1;32m<ipython-input-16-4ed5d97824b3>\u001b[0m in \u001b[0;36m<module>\u001b[1;34m\u001b[0m\n\u001b[0;32m      9\u001b[0m \u001b[1;33m\u001b[0m\u001b[0m\n\u001b[0;32m     10\u001b[0m         \u001b[0mfilenames\u001b[0m\u001b[1;33m=\u001b[0m\u001b[1;33m[\u001b[0m\u001b[1;33m]\u001b[0m\u001b[1;33m\u001b[0m\u001b[1;33m\u001b[0m\u001b[0m\n\u001b[1;32m---> 11\u001b[1;33m         \u001b[0mfilenames\u001b[0m \u001b[1;33m=\u001b[0m \u001b[1;33m[\u001b[0m\u001b[0mimg\u001b[0m \u001b[1;32mfor\u001b[0m \u001b[0mimg\u001b[0m \u001b[1;32min\u001b[0m \u001b[0mos\u001b[0m\u001b[1;33m.\u001b[0m\u001b[0mlistdir\u001b[0m\u001b[1;33m(\u001b[0m\u001b[0minput_path\u001b[0m\u001b[1;33m)\u001b[0m \u001b[1;32mif\u001b[0m \u001b[0mos\u001b[0m\u001b[1;33m.\u001b[0m\u001b[0mpath\u001b[0m\u001b[1;33m.\u001b[0m\u001b[0misfile\u001b[0m\u001b[1;33m(\u001b[0m\u001b[0mos\u001b[0m\u001b[1;33m.\u001b[0m\u001b[0mpath\u001b[0m\u001b[1;33m.\u001b[0m\u001b[0mjoin\u001b[0m\u001b[1;33m(\u001b[0m\u001b[0minput_path\u001b[0m\u001b[1;33m,\u001b[0m \u001b[0mimg\u001b[0m\u001b[1;33m)\u001b[0m\u001b[1;33m)\u001b[0m\u001b[1;33m]\u001b[0m\u001b[1;33m\u001b[0m\u001b[1;33m\u001b[0m\u001b[0m\n\u001b[0m\u001b[0;32m     12\u001b[0m         \u001b[0mfilenames\u001b[0m\u001b[1;33m.\u001b[0m\u001b[0msort\u001b[0m\u001b[1;33m(\u001b[0m\u001b[1;33m)\u001b[0m\u001b[1;33m\u001b[0m\u001b[1;33m\u001b[0m\u001b[0m\n\u001b[0;32m     13\u001b[0m \u001b[1;33m\u001b[0m\u001b[0m\n",
      "\u001b[1;31mFileNotFoundError\u001b[0m: [WinError 3] The system cannot find the path specified: '/home/aaina/final_year_project/data/processed_images/S_20/S01_20/'"
     ]
    }
   ],
   "source": [
    "i_path = \"/home/aaina/final_year_project/data/processed_images/S_20/\"\n",
    "output_path = \"/home/aaina/final_year_project/data/processed_images/final/All_20/\"\n",
    "\n",
    "for k in range(1,23):\n",
    "        if k<10:\n",
    "            input_path = i_path + \"S0\" + str(k)+\"_20/\"\n",
    "        else:\n",
    "            input_path = i_path + \"S\" + str(k)+\"_20/\"\n",
    "            \n",
    "        filenames=[]\n",
    "        filenames = [img for img in os.listdir(input_path) if os.path.isfile(os.path.join(input_path, img))]\n",
    "        filenames.sort()\n",
    "   \n",
    "        for i in range(len(filenames)):\n",
    "                #print(filenames[i])\n",
    "                shutil.copy(os.path.join(input_path, filenames[i]), output_path)"
   ]
  },
  {
   "cell_type": "code",
   "execution_count": 17,
   "metadata": {},
   "outputs": [
    {
     "ename": "FileNotFoundError",
     "evalue": "[WinError 3] The system cannot find the path specified: '/home/aaina/final_year_project/data/processed_images/final/All_20/'",
     "output_type": "error",
     "traceback": [
      "\u001b[1;31m---------------------------------------------------------------------------\u001b[0m",
      "\u001b[1;31mFileNotFoundError\u001b[0m                         Traceback (most recent call last)",
      "\u001b[1;32m<ipython-input-17-14eafba2af18>\u001b[0m in \u001b[0;36m<module>\u001b[1;34m\u001b[0m\n\u001b[0;32m     12\u001b[0m \u001b[1;33m\u001b[0m\u001b[0m\n\u001b[0;32m     13\u001b[0m \u001b[1;31m#Folder won't used\u001b[0m\u001b[1;33m\u001b[0m\u001b[1;33m\u001b[0m\u001b[1;33m\u001b[0m\u001b[0m\n\u001b[1;32m---> 14\u001b[1;33m \u001b[0mfiles\u001b[0m \u001b[1;33m=\u001b[0m \u001b[1;33m[\u001b[0m\u001b[0mf\u001b[0m \u001b[1;32mfor\u001b[0m \u001b[0mf\u001b[0m \u001b[1;32min\u001b[0m \u001b[0mlistdir\u001b[0m\u001b[1;33m(\u001b[0m\u001b[0mpath\u001b[0m\u001b[1;33m)\u001b[0m \u001b[1;32mif\u001b[0m \u001b[0misfile\u001b[0m\u001b[1;33m(\u001b[0m\u001b[0mjoin\u001b[0m\u001b[1;33m(\u001b[0m\u001b[0mpath\u001b[0m\u001b[1;33m,\u001b[0m\u001b[0mf\u001b[0m\u001b[1;33m)\u001b[0m\u001b[1;33m)\u001b[0m\u001b[1;33m]\u001b[0m\u001b[1;33m\u001b[0m\u001b[1;33m\u001b[0m\u001b[0m\n\u001b[0m\u001b[0;32m     15\u001b[0m \u001b[0mfiles\u001b[0m\u001b[1;33m.\u001b[0m\u001b[0msort\u001b[0m\u001b[1;33m(\u001b[0m\u001b[1;33m)\u001b[0m\u001b[1;33m\u001b[0m\u001b[1;33m\u001b[0m\u001b[0m\n\u001b[0;32m     16\u001b[0m \u001b[1;31m#print(files)\u001b[0m\u001b[1;33m\u001b[0m\u001b[1;33m\u001b[0m\u001b[1;33m\u001b[0m\u001b[0m\n",
      "\u001b[1;31mFileNotFoundError\u001b[0m: [WinError 3] The system cannot find the path specified: '/home/aaina/final_year_project/data/processed_images/final/All_20/'"
     ]
    }
   ],
   "source": [
    "#import cv2\n",
    "from os import listdir,makedirs\n",
    "from os.path import isfile,join\n",
    "\n",
    "path = r'/home/aaina/final_year_project/data/processed_images/final/All_20/' # Source Folder\n",
    "dstpath = r'/home/aaina/final_year_project/data/processed_images/final/All_20_resize/' # Destination Folder\n",
    "\n",
    "'''try:\n",
    "    makedirs(dstpath)\n",
    "except:\n",
    "    print (\"Directory already exist, images will be written in S01_gray folder\")'''\n",
    "\n",
    "#Folder won't used\n",
    "files = [f for f in listdir(path) if isfile(join(path,f))] \n",
    "files.sort()\n",
    "#print(files)\n",
    "resize_faces=[]\n",
    "for image in files:\n",
    "   \n",
    "    try:\n",
    "        print(image)\n",
    "        img = cv2.imread(os.path.join(path,image))\n",
    "        resiz = cv2.resize(img, (100,100)) \n",
    "        print(len(resiz))\n",
    "        #print(resiz)\n",
    "        resize_faces.append(resiz)\n",
    "        dstPath = join(dstpath,image)\n",
    "        cv2.imwrite(dstPath,resiz)\n",
    "    except:\n",
    "        print (\"{} is not converted\".format(image))"
   ]
  },
  {
   "cell_type": "code",
   "execution_count": 5,
   "metadata": {},
   "outputs": [
    {
     "data": {
      "text/plain": [
       "17480"
      ]
     },
     "execution_count": 5,
     "metadata": {},
     "output_type": "execute_result"
    }
   ],
   "source": [
    "len(resize_faces)"
   ]
  },
  {
   "cell_type": "code",
   "execution_count": 6,
   "metadata": {},
   "outputs": [
    {
     "name": "stdout",
     "output_type": "stream",
     "text": [
      "100\n",
      "100\n"
     ]
    }
   ],
   "source": [
    "print(len(resize_faces[0]))\n",
    "print(len(resize_faces[1]))"
   ]
  },
  {
   "cell_type": "code",
   "execution_count": 18,
   "metadata": {
    "scrolled": true
   },
   "outputs": [
    {
     "ename": "FileNotFoundError",
     "evalue": "[WinError 3] The system cannot find the path specified: '/home/aaina/final_year_project/data/processed_images/final/All_20_resize/'",
     "output_type": "error",
     "traceback": [
      "\u001b[1;31m---------------------------------------------------------------------------\u001b[0m",
      "\u001b[1;31mFileNotFoundError\u001b[0m                         Traceback (most recent call last)",
      "\u001b[1;32m<ipython-input-18-d98564d14502>\u001b[0m in \u001b[0;36m<module>\u001b[1;34m\u001b[0m\n\u001b[0;32m     12\u001b[0m \u001b[1;33m\u001b[0m\u001b[0m\n\u001b[0;32m     13\u001b[0m \u001b[1;31m# Folder won't used\u001b[0m\u001b[1;33m\u001b[0m\u001b[1;33m\u001b[0m\u001b[1;33m\u001b[0m\u001b[0m\n\u001b[1;32m---> 14\u001b[1;33m \u001b[0mfiles\u001b[0m \u001b[1;33m=\u001b[0m \u001b[1;33m[\u001b[0m\u001b[0mf\u001b[0m \u001b[1;32mfor\u001b[0m \u001b[0mf\u001b[0m \u001b[1;32min\u001b[0m \u001b[0mlistdir\u001b[0m\u001b[1;33m(\u001b[0m\u001b[0mpath\u001b[0m\u001b[1;33m)\u001b[0m \u001b[1;32mif\u001b[0m \u001b[0misfile\u001b[0m\u001b[1;33m(\u001b[0m\u001b[0mjoin\u001b[0m\u001b[1;33m(\u001b[0m\u001b[0mpath\u001b[0m\u001b[1;33m,\u001b[0m\u001b[0mf\u001b[0m\u001b[1;33m)\u001b[0m\u001b[1;33m)\u001b[0m\u001b[1;33m]\u001b[0m\u001b[1;33m\u001b[0m\u001b[1;33m\u001b[0m\u001b[0m\n\u001b[0m\u001b[0;32m     15\u001b[0m \u001b[0mfiles\u001b[0m\u001b[1;33m.\u001b[0m\u001b[0msort\u001b[0m\u001b[1;33m(\u001b[0m\u001b[1;33m)\u001b[0m\u001b[1;33m\u001b[0m\u001b[1;33m\u001b[0m\u001b[0m\n\u001b[0;32m     16\u001b[0m \u001b[1;31m#print(files)\u001b[0m\u001b[1;33m\u001b[0m\u001b[1;33m\u001b[0m\u001b[1;33m\u001b[0m\u001b[0m\n",
      "\u001b[1;31mFileNotFoundError\u001b[0m: [WinError 3] The system cannot find the path specified: '/home/aaina/final_year_project/data/processed_images/final/All_20_resize/'"
     ]
    }
   ],
   "source": [
    "import cv2\n",
    "from os import listdir,makedirs\n",
    "from os.path import isfile,join\n",
    "\n",
    "path = r'/home/aaina/final_year_project/data/processed_images/final/All_20_resize/' # Source Folder\n",
    "dstpath = r'/home/aaina/final_year_project/data/processed_images/final/All_20_gray/' # Destination Folder\n",
    "\n",
    "'''try:\n",
    "    makedirs(dstpath)\n",
    "except:\n",
    "    print (\"Directory already exist, images will be written in S01_gray folder\")'''\n",
    "\n",
    "# Folder won't used\n",
    "files = [f for f in listdir(path) if isfile(join(path,f))] \n",
    "files.sort()\n",
    "#print(files)\n",
    "gray_faces=[]\n",
    "for image in files:\n",
    "   \n",
    "    #try:\n",
    "        print(image)\n",
    "        img = cv2.imread(os.path.join(path,image))\n",
    "        gray = cv2.cvtColor(img,cv2.COLOR_BGR2GRAY)\n",
    "        print(len(gray))\n",
    "        print(gray)\n",
    "        gray_faces.append(gray)\n",
    "        dstPath = join(dstpath,image)\n",
    "        cv2.imwrite(dstPath,gray)\n",
    "    #except:\n",
    "        #print (\"{} is not converted\".format(image))"
   ]
  },
  {
   "cell_type": "code",
   "execution_count": 8,
   "metadata": {},
   "outputs": [
    {
     "data": {
      "text/plain": [
       "17480"
      ]
     },
     "execution_count": 8,
     "metadata": {},
     "output_type": "execute_result"
    }
   ],
   "source": [
    "len(gray_faces)"
   ]
  },
  {
   "cell_type": "code",
   "execution_count": 9,
   "metadata": {},
   "outputs": [
    {
     "data": {
      "text/plain": [
       "array([[135, 138, 140, ..., 134, 133, 146],\n",
       "       [137, 134, 135, ..., 140, 140, 147],\n",
       "       [136, 138, 141, ..., 141, 141, 137],\n",
       "       ...,\n",
       "       [185, 221, 217, ..., 250, 246, 241],\n",
       "       [229, 176, 193, ..., 249, 248, 249],\n",
       "       [210, 165, 196, ..., 242, 231, 223]], dtype=uint8)"
      ]
     },
     "execution_count": 9,
     "metadata": {},
     "output_type": "execute_result"
    }
   ],
   "source": [
    "gray_faces[0]"
   ]
  },
  {
   "cell_type": "code",
   "execution_count": 10,
   "metadata": {},
   "outputs": [
    {
     "name": "stdout",
     "output_type": "stream",
     "text": [
      "100\n",
      "100\n",
      "100\n",
      "100\n"
     ]
    }
   ],
   "source": [
    "print(len(gray_faces[0]))\n",
    "print(len(gray_faces[1]))\n",
    "print(len(gray_faces[2]))\n",
    "print(len(gray_faces[3]))"
   ]
  },
  {
   "cell_type": "code",
   "execution_count": 12,
   "metadata": {},
   "outputs": [],
   "source": [
    "import itertools"
   ]
  },
  {
   "cell_type": "code",
   "execution_count": 13,
   "metadata": {},
   "outputs": [],
   "source": [
    "#gray_faces"
   ]
  },
  {
   "cell_type": "code",
   "execution_count": 1,
   "metadata": {},
   "outputs": [
    {
     "ename": "NameError",
     "evalue": "name 'gray_faces' is not defined",
     "output_type": "error",
     "traceback": [
      "\u001b[1;31m---------------------------------------------------------------------------\u001b[0m",
      "\u001b[1;31mNameError\u001b[0m                                 Traceback (most recent call last)",
      "\u001b[1;32m<ipython-input-1-8f81f9f68873>\u001b[0m in \u001b[0;36m<module>\u001b[1;34m\u001b[0m\n\u001b[0;32m      1\u001b[0m \u001b[0mgray_faces_flat\u001b[0m\u001b[1;33m=\u001b[0m\u001b[1;33m[\u001b[0m\u001b[1;33m]\u001b[0m\u001b[1;33m\u001b[0m\u001b[1;33m\u001b[0m\u001b[0m\n\u001b[1;32m----> 2\u001b[1;33m \u001b[1;32mfor\u001b[0m \u001b[0mval\u001b[0m \u001b[1;32min\u001b[0m \u001b[0mgray_faces\u001b[0m\u001b[1;33m:\u001b[0m\u001b[1;33m\u001b[0m\u001b[1;33m\u001b[0m\u001b[0m\n\u001b[0m\u001b[0;32m      3\u001b[0m     \u001b[0mmerged\u001b[0m \u001b[1;33m=\u001b[0m \u001b[0mlist\u001b[0m\u001b[1;33m(\u001b[0m\u001b[0mitertools\u001b[0m\u001b[1;33m.\u001b[0m\u001b[0mchain\u001b[0m\u001b[1;33m.\u001b[0m\u001b[0mfrom_iterable\u001b[0m\u001b[1;33m(\u001b[0m\u001b[0mval\u001b[0m\u001b[1;33m)\u001b[0m\u001b[1;33m)\u001b[0m\u001b[1;33m\u001b[0m\u001b[1;33m\u001b[0m\u001b[0m\n\u001b[0;32m      4\u001b[0m     \u001b[0mprint\u001b[0m\u001b[1;33m(\u001b[0m\u001b[0mmerged\u001b[0m\u001b[1;33m)\u001b[0m\u001b[1;33m\u001b[0m\u001b[1;33m\u001b[0m\u001b[0m\n\u001b[0;32m      5\u001b[0m     \u001b[1;32mbreak\u001b[0m\u001b[1;33m\u001b[0m\u001b[1;33m\u001b[0m\u001b[0m\n",
      "\u001b[1;31mNameError\u001b[0m: name 'gray_faces' is not defined"
     ]
    }
   ],
   "source": [
    "gray_faces_flat=[]\n",
    "for val in gray_faces:\n",
    "    merged = list(itertools.chain.from_iterable(val))\n",
    "    print(merged)\n",
    "    break"
   ]
  },
  {
   "cell_type": "code",
   "execution_count": 16,
   "metadata": {},
   "outputs": [],
   "source": [
    "gray_faces_flat=[]\n",
    "for val in gray_faces:\n",
    "    merged = list(itertools.chain.from_iterable(val))\n",
    "    gray_faces_flat.append(merged)"
   ]
  },
  {
   "cell_type": "code",
   "execution_count": 2,
   "metadata": {
    "scrolled": true
   },
   "outputs": [],
   "source": [
    "#gray_faces_flat"
   ]
  },
  {
   "cell_type": "code",
   "execution_count": 18,
   "metadata": {},
   "outputs": [
    {
     "data": {
      "text/plain": [
       "17480"
      ]
     },
     "execution_count": 18,
     "metadata": {},
     "output_type": "execute_result"
    }
   ],
   "source": [
    "len(gray_faces_flat)"
   ]
  },
  {
   "cell_type": "code",
   "execution_count": 19,
   "metadata": {},
   "outputs": [
    {
     "name": "stdout",
     "output_type": "stream",
     "text": [
      "10000\n",
      "10000\n",
      "10000\n",
      "10000\n"
     ]
    }
   ],
   "source": [
    "print(len(gray_faces_flat[0]))\n",
    "print(len(gray_faces_flat[1]))\n",
    "print(len(gray_faces_flat[2]))\n",
    "print(len(gray_faces_flat[3]))"
   ]
  },
  {
   "cell_type": "code",
   "execution_count": 14,
   "metadata": {},
   "outputs": [],
   "source": [
    "for sublist in gray_faces_flat:\n",
    "    list_rem_comma = str(sublist).replace(',', '')\n",
    "    #print(list_rem_comma)\n",
    "    #print(len(list_rem_comma))\n",
    "    break"
   ]
  },
  {
   "cell_type": "code",
   "execution_count": 21,
   "metadata": {},
   "outputs": [],
   "source": [
    "gray_final=[]\n",
    "for sublist in gray_faces_flat:\n",
    "    list_rem_comma = str(sublist).replace(',', '')\n",
    "    gray_final.append(list_rem_comma)"
   ]
  },
  {
   "cell_type": "code",
   "execution_count": 15,
   "metadata": {},
   "outputs": [
    {
     "ename": "NameError",
     "evalue": "name 'gray_final' is not defined",
     "output_type": "error",
     "traceback": [
      "\u001b[1;31m---------------------------------------------------------------------------\u001b[0m",
      "\u001b[1;31mNameError\u001b[0m                                 Traceback (most recent call last)",
      "\u001b[1;32m<ipython-input-15-358abf02a091>\u001b[0m in \u001b[0;36m<module>\u001b[1;34m\u001b[0m\n\u001b[1;32m----> 1\u001b[1;33m \u001b[1;32mfor\u001b[0m \u001b[0mi\u001b[0m \u001b[1;32min\u001b[0m \u001b[0mgray_final\u001b[0m\u001b[1;33m:\u001b[0m\u001b[1;33m\u001b[0m\u001b[1;33m\u001b[0m\u001b[0m\n\u001b[0m\u001b[0;32m      2\u001b[0m     \u001b[1;31m#print(i)\u001b[0m\u001b[1;33m\u001b[0m\u001b[1;33m\u001b[0m\u001b[1;33m\u001b[0m\u001b[0m\n\u001b[0;32m      3\u001b[0m     \u001b[1;32mif\u001b[0m \u001b[0mi\u001b[0m\u001b[1;33m==\u001b[0m\u001b[1;36m5\u001b[0m\u001b[1;33m:\u001b[0m\u001b[1;33m\u001b[0m\u001b[1;33m\u001b[0m\u001b[0m\n\u001b[0;32m      4\u001b[0m         \u001b[1;32mbreak\u001b[0m\u001b[1;33m\u001b[0m\u001b[1;33m\u001b[0m\u001b[0m\n",
      "\u001b[1;31mNameError\u001b[0m: name 'gray_final' is not defined"
     ]
    }
   ],
   "source": [
    "for i in gray_final:\n",
    "    #print(i)\n",
    "    if i==5:\n",
    "        break"
   ]
  },
  {
   "cell_type": "code",
   "execution_count": 25,
   "metadata": {
    "scrolled": true
   },
   "outputs": [
    {
     "data": {
      "text/plain": [
       "17480"
      ]
     },
     "execution_count": 25,
     "metadata": {},
     "output_type": "execute_result"
    }
   ],
   "source": [
    "len(gray_final)"
   ]
  },
  {
   "cell_type": "code",
   "execution_count": 27,
   "metadata": {},
   "outputs": [
    {
     "name": "stdout",
     "output_type": "stream",
     "text": [
      "34165\n",
      "34113\n",
      "34091\n"
     ]
    }
   ],
   "source": [
    "print(len(gray_final[0]))\n",
    "print(len(gray_final[1]))\n",
    "print(len(gray_final[2]))"
   ]
  },
  {
   "cell_type": "code",
   "execution_count": 28,
   "metadata": {},
   "outputs": [
    {
     "data": {
      "text/plain": [
       "str"
      ]
     },
     "execution_count": 28,
     "metadata": {},
     "output_type": "execute_result"
    }
   ],
   "source": [
    "type(gray_final[0])"
   ]
  },
  {
   "cell_type": "code",
   "execution_count": 29,
   "metadata": {},
   "outputs": [],
   "source": [
    "import pandas as pd"
   ]
  },
  {
   "cell_type": "code",
   "execution_count": 30,
   "metadata": {
    "scrolled": true
   },
   "outputs": [
    {
     "data": {
      "text/html": [
       "<div>\n",
       "<style scoped>\n",
       "    .dataframe tbody tr th:only-of-type {\n",
       "        vertical-align: middle;\n",
       "    }\n",
       "\n",
       "    .dataframe tbody tr th {\n",
       "        vertical-align: top;\n",
       "    }\n",
       "\n",
       "    .dataframe thead th {\n",
       "        text-align: right;\n",
       "    }\n",
       "</style>\n",
       "<table border=\"1\" class=\"dataframe\">\n",
       "  <thead>\n",
       "    <tr style=\"text-align: right;\">\n",
       "      <th></th>\n",
       "      <th>face_pixels</th>\n",
       "    </tr>\n",
       "  </thead>\n",
       "  <tbody>\n",
       "    <tr>\n",
       "      <th>0</th>\n",
       "      <td>[135 138 140 134 144 144 136 120 117 134 142 1...</td>\n",
       "    </tr>\n",
       "    <tr>\n",
       "      <th>1</th>\n",
       "      <td>[135 141 133 143 138 118 113 138 138 138 137 1...</td>\n",
       "    </tr>\n",
       "    <tr>\n",
       "      <th>2</th>\n",
       "      <td>[138 136 138 144 123 113 140 140 141 138 153 1...</td>\n",
       "    </tr>\n",
       "    <tr>\n",
       "      <th>3</th>\n",
       "      <td>[138 135 138 136 140 134 117 128 139 138 136 1...</td>\n",
       "    </tr>\n",
       "    <tr>\n",
       "      <th>4</th>\n",
       "      <td>[133 137 135 134 137 141 135 112 131 134 139 1...</td>\n",
       "    </tr>\n",
       "    <tr>\n",
       "      <th>...</th>\n",
       "      <td>...</td>\n",
       "    </tr>\n",
       "    <tr>\n",
       "      <th>17475</th>\n",
       "      <td>[135 135 135 141 105 73 90 57 51 53 58 61 66 5...</td>\n",
       "    </tr>\n",
       "    <tr>\n",
       "      <th>17476</th>\n",
       "      <td>[135 130 137 148 165 124 77 53 51 46 45 25 26 ...</td>\n",
       "    </tr>\n",
       "    <tr>\n",
       "      <th>17477</th>\n",
       "      <td>[136 134 136 137 145 73 98 70 55 49 63 66 70 6...</td>\n",
       "    </tr>\n",
       "    <tr>\n",
       "      <th>17478</th>\n",
       "      <td>[134 132 135 134 163 148 108 62 42 52 49 35 19...</td>\n",
       "    </tr>\n",
       "    <tr>\n",
       "      <th>17479</th>\n",
       "      <td>[134 130 141 159 133 94 53 50 44 50 27 17 30 3...</td>\n",
       "    </tr>\n",
       "  </tbody>\n",
       "</table>\n",
       "<p>17480 rows × 1 columns</p>\n",
       "</div>"
      ],
      "text/plain": [
       "                                             face_pixels\n",
       "0      [135 138 140 134 144 144 136 120 117 134 142 1...\n",
       "1      [135 141 133 143 138 118 113 138 138 138 137 1...\n",
       "2      [138 136 138 144 123 113 140 140 141 138 153 1...\n",
       "3      [138 135 138 136 140 134 117 128 139 138 136 1...\n",
       "4      [133 137 135 134 137 141 135 112 131 134 139 1...\n",
       "...                                                  ...\n",
       "17475  [135 135 135 141 105 73 90 57 51 53 58 61 66 5...\n",
       "17476  [135 130 137 148 165 124 77 53 51 46 45 25 26 ...\n",
       "17477  [136 134 136 137 145 73 98 70 55 49 63 66 70 6...\n",
       "17478  [134 132 135 134 163 148 108 62 42 52 49 35 19...\n",
       "17479  [134 130 141 159 133 94 53 50 44 50 27 17 30 3...\n",
       "\n",
       "[17480 rows x 1 columns]"
      ]
     },
     "execution_count": 30,
     "metadata": {},
     "output_type": "execute_result"
    }
   ],
   "source": [
    "face_pixels = pd.DataFrame(\n",
    "    {\n",
    "     'face_pixels': gray_final\n",
    "    }\n",
    ")\n",
    "face_pixels"
   ]
  },
  {
   "cell_type": "code",
   "execution_count": 31,
   "metadata": {},
   "outputs": [],
   "source": [
    " face_pixels['face_pixels']= pd.DataFrame([str(line).strip('[').strip(']').replace(\"'\",\"\") for line in face_pixels['face_pixels']])"
   ]
  },
  {
   "cell_type": "code",
   "execution_count": 32,
   "metadata": {
    "scrolled": true
   },
   "outputs": [
    {
     "data": {
      "text/plain": [
       "0        135 138 140 134 144 144 136 120 117 134 142 13...\n",
       "1        135 141 133 143 138 118 113 138 138 138 137 12...\n",
       "2        138 136 138 144 123 113 140 140 141 138 153 13...\n",
       "3        138 135 138 136 140 134 117 128 139 138 136 13...\n",
       "4        133 137 135 134 137 141 135 112 131 134 139 12...\n",
       "                               ...                        \n",
       "17475    135 135 135 141 105 73 90 57 51 53 58 61 66 52...\n",
       "17476    135 130 137 148 165 124 77 53 51 46 45 25 26 3...\n",
       "17477    136 134 136 137 145 73 98 70 55 49 63 66 70 61...\n",
       "17478    134 132 135 134 163 148 108 62 42 52 49 35 19 ...\n",
       "17479    134 130 141 159 133 94 53 50 44 50 27 17 30 32...\n",
       "Name: face_pixels, Length: 17480, dtype: object"
      ]
     },
     "execution_count": 32,
     "metadata": {},
     "output_type": "execute_result"
    }
   ],
   "source": [
    "face_pixels['face_pixels']"
   ]
  },
  {
   "cell_type": "code",
   "execution_count": 33,
   "metadata": {
    "scrolled": true
   },
   "outputs": [
    {
     "data": {
      "text/html": [
       "<div>\n",
       "<style scoped>\n",
       "    .dataframe tbody tr th:only-of-type {\n",
       "        vertical-align: middle;\n",
       "    }\n",
       "\n",
       "    .dataframe tbody tr th {\n",
       "        vertical-align: top;\n",
       "    }\n",
       "\n",
       "    .dataframe thead th {\n",
       "        text-align: right;\n",
       "    }\n",
       "</style>\n",
       "<table border=\"1\" class=\"dataframe\">\n",
       "  <thead>\n",
       "    <tr style=\"text-align: right;\">\n",
       "      <th></th>\n",
       "      <th>face_pixels</th>\n",
       "    </tr>\n",
       "  </thead>\n",
       "  <tbody>\n",
       "    <tr>\n",
       "      <th>0</th>\n",
       "      <td>135 138 140 134 144 144 136 120 117 134 142 13...</td>\n",
       "    </tr>\n",
       "    <tr>\n",
       "      <th>1</th>\n",
       "      <td>135 141 133 143 138 118 113 138 138 138 137 12...</td>\n",
       "    </tr>\n",
       "    <tr>\n",
       "      <th>2</th>\n",
       "      <td>138 136 138 144 123 113 140 140 141 138 153 13...</td>\n",
       "    </tr>\n",
       "    <tr>\n",
       "      <th>3</th>\n",
       "      <td>138 135 138 136 140 134 117 128 139 138 136 13...</td>\n",
       "    </tr>\n",
       "    <tr>\n",
       "      <th>4</th>\n",
       "      <td>133 137 135 134 137 141 135 112 131 134 139 12...</td>\n",
       "    </tr>\n",
       "    <tr>\n",
       "      <th>...</th>\n",
       "      <td>...</td>\n",
       "    </tr>\n",
       "    <tr>\n",
       "      <th>17475</th>\n",
       "      <td>135 135 135 141 105 73 90 57 51 53 58 61 66 52...</td>\n",
       "    </tr>\n",
       "    <tr>\n",
       "      <th>17476</th>\n",
       "      <td>135 130 137 148 165 124 77 53 51 46 45 25 26 3...</td>\n",
       "    </tr>\n",
       "    <tr>\n",
       "      <th>17477</th>\n",
       "      <td>136 134 136 137 145 73 98 70 55 49 63 66 70 61...</td>\n",
       "    </tr>\n",
       "    <tr>\n",
       "      <th>17478</th>\n",
       "      <td>134 132 135 134 163 148 108 62 42 52 49 35 19 ...</td>\n",
       "    </tr>\n",
       "    <tr>\n",
       "      <th>17479</th>\n",
       "      <td>134 130 141 159 133 94 53 50 44 50 27 17 30 32...</td>\n",
       "    </tr>\n",
       "  </tbody>\n",
       "</table>\n",
       "<p>17480 rows × 1 columns</p>\n",
       "</div>"
      ],
      "text/plain": [
       "                                             face_pixels\n",
       "0      135 138 140 134 144 144 136 120 117 134 142 13...\n",
       "1      135 141 133 143 138 118 113 138 138 138 137 12...\n",
       "2      138 136 138 144 123 113 140 140 141 138 153 13...\n",
       "3      138 135 138 136 140 134 117 128 139 138 136 13...\n",
       "4      133 137 135 134 137 141 135 112 131 134 139 12...\n",
       "...                                                  ...\n",
       "17475  135 135 135 141 105 73 90 57 51 53 58 61 66 52...\n",
       "17476  135 130 137 148 165 124 77 53 51 46 45 25 26 3...\n",
       "17477  136 134 136 137 145 73 98 70 55 49 63 66 70 61...\n",
       "17478  134 132 135 134 163 148 108 62 42 52 49 35 19 ...\n",
       "17479  134 130 141 159 133 94 53 50 44 50 27 17 30 32...\n",
       "\n",
       "[17480 rows x 1 columns]"
      ]
     },
     "execution_count": 33,
     "metadata": {},
     "output_type": "execute_result"
    }
   ],
   "source": [
    "face_pixels"
   ]
  },
  {
   "cell_type": "code",
   "execution_count": 205,
   "metadata": {},
   "outputs": [
    {
     "data": {
      "text/html": [
       "<div>\n",
       "<style scoped>\n",
       "    .dataframe tbody tr th:only-of-type {\n",
       "        vertical-align: middle;\n",
       "    }\n",
       "\n",
       "    .dataframe tbody tr th {\n",
       "        vertical-align: top;\n",
       "    }\n",
       "\n",
       "    .dataframe thead th {\n",
       "        text-align: right;\n",
       "    }\n",
       "</style>\n",
       "<table border=\"1\" class=\"dataframe\">\n",
       "  <thead>\n",
       "    <tr style=\"text-align: right;\">\n",
       "      <th></th>\n",
       "      <th>face_pixels</th>\n",
       "    </tr>\n",
       "  </thead>\n",
       "  <tbody>\n",
       "    <tr>\n",
       "      <th>119</th>\n",
       "      <td>140 167 139 143 123 112 132 125 85 113 122 43 ...</td>\n",
       "    </tr>\n",
       "  </tbody>\n",
       "</table>\n",
       "</div>"
      ],
      "text/plain": [
       "                                           face_pixels\n",
       "119  140 167 139 143 123 112 132 125 85 113 122 43 ..."
      ]
     },
     "execution_count": 205,
     "metadata": {},
     "output_type": "execute_result"
    }
   ],
   "source": [
    "#face_pixels[119:120]"
   ]
  },
  {
   "cell_type": "code",
   "execution_count": 27,
   "metadata": {},
   "outputs": [
    {
     "data": {
      "text/html": [
       "<div>\n",
       "<style scoped>\n",
       "    .dataframe tbody tr th:only-of-type {\n",
       "        vertical-align: middle;\n",
       "    }\n",
       "\n",
       "    .dataframe tbody tr th {\n",
       "        vertical-align: top;\n",
       "    }\n",
       "\n",
       "    .dataframe thead th {\n",
       "        text-align: right;\n",
       "    }\n",
       "</style>\n",
       "<table border=\"1\" class=\"dataframe\">\n",
       "  <thead>\n",
       "    <tr style=\"text-align: right;\">\n",
       "      <th></th>\n",
       "      <th>face_pixels</th>\n",
       "    </tr>\n",
       "  </thead>\n",
       "  <tbody>\n",
       "    <tr>\n",
       "      <th>119</th>\n",
       "      <td>NaN</td>\n",
       "    </tr>\n",
       "  </tbody>\n",
       "</table>\n",
       "</div>"
      ],
      "text/plain": [
       "     face_pixels\n",
       "119          NaN"
      ]
     },
     "execution_count": 27,
     "metadata": {},
     "output_type": "execute_result"
    }
   ],
   "source": [
    "#new_row = pd.DataFrame({'face_pixels': np.nan}, index=[119])\n",
    "#new_row"
   ]
  },
  {
   "cell_type": "code",
   "execution_count": 28,
   "metadata": {},
   "outputs": [
    {
     "data": {
      "text/html": [
       "<div>\n",
       "<style scoped>\n",
       "    .dataframe tbody tr th:only-of-type {\n",
       "        vertical-align: middle;\n",
       "    }\n",
       "\n",
       "    .dataframe tbody tr th {\n",
       "        vertical-align: top;\n",
       "    }\n",
       "\n",
       "    .dataframe thead th {\n",
       "        text-align: right;\n",
       "    }\n",
       "</style>\n",
       "<table border=\"1\" class=\"dataframe\">\n",
       "  <thead>\n",
       "    <tr style=\"text-align: right;\">\n",
       "      <th></th>\n",
       "      <th>face_pixels</th>\n",
       "    </tr>\n",
       "  </thead>\n",
       "  <tbody>\n",
       "    <tr>\n",
       "      <th>0</th>\n",
       "      <td>137 140 138 130 141 141 137 139 140 137 120 11...</td>\n",
       "    </tr>\n",
       "    <tr>\n",
       "      <th>1</th>\n",
       "      <td>135 136 134 130 130 133 135 134 134 136 135 13...</td>\n",
       "    </tr>\n",
       "    <tr>\n",
       "      <th>2</th>\n",
       "      <td>138 138 138 136 133 135 136 134 134 137 136 13...</td>\n",
       "    </tr>\n",
       "    <tr>\n",
       "      <th>3</th>\n",
       "      <td>136 139 134 128 131 136 136 136 135 134 133 13...</td>\n",
       "    </tr>\n",
       "    <tr>\n",
       "      <th>4</th>\n",
       "      <td>137 137 136 134 133 134 136 133 123 116 123 13...</td>\n",
       "    </tr>\n",
       "    <tr>\n",
       "      <th>...</th>\n",
       "      <td>...</td>\n",
       "    </tr>\n",
       "    <tr>\n",
       "      <th>155</th>\n",
       "      <td>170 192 159 132 126 131 124 96 72 67 75 70 81 ...</td>\n",
       "    </tr>\n",
       "    <tr>\n",
       "      <th>156</th>\n",
       "      <td>140 138 141 139 135 142 146 145 130 107 110 12...</td>\n",
       "    </tr>\n",
       "    <tr>\n",
       "      <th>157</th>\n",
       "      <td>203 164 119 124 142 146 130 109 86 83 67 60 81...</td>\n",
       "    </tr>\n",
       "    <tr>\n",
       "      <th>158</th>\n",
       "      <td>122 117 122 117 146 196 182 143 134 116 90 74 ...</td>\n",
       "    </tr>\n",
       "    <tr>\n",
       "      <th>159</th>\n",
       "      <td>146 147 148 141 144 124 109 99 102 114 123 117...</td>\n",
       "    </tr>\n",
       "  </tbody>\n",
       "</table>\n",
       "<p>160 rows × 1 columns</p>\n",
       "</div>"
      ],
      "text/plain": [
       "                                           face_pixels\n",
       "0    137 140 138 130 141 141 137 139 140 137 120 11...\n",
       "1    135 136 134 130 130 133 135 134 134 136 135 13...\n",
       "2    138 138 138 136 133 135 136 134 134 137 136 13...\n",
       "3    136 139 134 128 131 136 136 136 135 134 133 13...\n",
       "4    137 137 136 134 133 134 136 133 123 116 123 13...\n",
       "..                                                 ...\n",
       "155  170 192 159 132 126 131 124 96 72 67 75 70 81 ...\n",
       "156  140 138 141 139 135 142 146 145 130 107 110 12...\n",
       "157  203 164 119 124 142 146 130 109 86 83 67 60 81...\n",
       "158  122 117 122 117 146 196 182 143 134 116 90 74 ...\n",
       "159  146 147 148 141 144 124 109 99 102 114 123 117...\n",
       "\n",
       "[160 rows x 1 columns]"
      ]
     },
     "execution_count": 28,
     "metadata": {},
     "output_type": "execute_result"
    }
   ],
   "source": [
    "#face_pixels = pd.concat([face_pixels.loc[:118], new_row, face_pixels.loc[119:]]).reset_index(drop=True)\n",
    "#face_pixels"
   ]
  },
  {
   "cell_type": "code",
   "execution_count": 29,
   "metadata": {},
   "outputs": [
    {
     "data": {
      "text/html": [
       "<div>\n",
       "<style scoped>\n",
       "    .dataframe tbody tr th:only-of-type {\n",
       "        vertical-align: middle;\n",
       "    }\n",
       "\n",
       "    .dataframe tbody tr th {\n",
       "        vertical-align: top;\n",
       "    }\n",
       "\n",
       "    .dataframe thead th {\n",
       "        text-align: right;\n",
       "    }\n",
       "</style>\n",
       "<table border=\"1\" class=\"dataframe\">\n",
       "  <thead>\n",
       "    <tr style=\"text-align: right;\">\n",
       "      <th></th>\n",
       "      <th>face_pixels</th>\n",
       "    </tr>\n",
       "  </thead>\n",
       "  <tbody>\n",
       "    <tr>\n",
       "      <th>119</th>\n",
       "      <td>NaN</td>\n",
       "    </tr>\n",
       "    <tr>\n",
       "      <th>120</th>\n",
       "      <td>142 142 160 158 145 136 137 145 145 134 115 10...</td>\n",
       "    </tr>\n",
       "  </tbody>\n",
       "</table>\n",
       "</div>"
      ],
      "text/plain": [
       "                                           face_pixels\n",
       "119                                                NaN\n",
       "120  142 142 160 158 145 136 137 145 145 134 115 10..."
      ]
     },
     "execution_count": 29,
     "metadata": {},
     "output_type": "execute_result"
    }
   ],
   "source": [
    "#face_pixels[119:121]"
   ]
  },
  {
   "cell_type": "code",
   "execution_count": 34,
   "metadata": {},
   "outputs": [
    {
     "data": {
      "text/html": [
       "<div>\n",
       "<style scoped>\n",
       "    .dataframe tbody tr th:only-of-type {\n",
       "        vertical-align: middle;\n",
       "    }\n",
       "\n",
       "    .dataframe tbody tr th {\n",
       "        vertical-align: top;\n",
       "    }\n",
       "\n",
       "    .dataframe thead th {\n",
       "        text-align: right;\n",
       "    }\n",
       "</style>\n",
       "<table border=\"1\" class=\"dataframe\">\n",
       "  <thead>\n",
       "    <tr style=\"text-align: right;\">\n",
       "      <th></th>\n",
       "      <th>Participant_id</th>\n",
       "      <th>Trial</th>\n",
       "      <th>Experiment_id</th>\n",
       "      <th>Start_time</th>\n",
       "      <th>Valence</th>\n",
       "      <th>Arousal</th>\n",
       "      <th>Dominance</th>\n",
       "      <th>Liking</th>\n",
       "      <th>Familiarity</th>\n",
       "    </tr>\n",
       "  </thead>\n",
       "  <tbody>\n",
       "    <tr>\n",
       "      <th>0</th>\n",
       "      <td>1</td>\n",
       "      <td>1</td>\n",
       "      <td>5</td>\n",
       "      <td>1695918</td>\n",
       "      <td>6.96</td>\n",
       "      <td>3.92</td>\n",
       "      <td>7.19</td>\n",
       "      <td>6.05</td>\n",
       "      <td>4.0</td>\n",
       "    </tr>\n",
       "    <tr>\n",
       "      <th>1</th>\n",
       "      <td>1</td>\n",
       "      <td>2</td>\n",
       "      <td>18</td>\n",
       "      <td>2714905</td>\n",
       "      <td>7.23</td>\n",
       "      <td>7.15</td>\n",
       "      <td>6.94</td>\n",
       "      <td>8.01</td>\n",
       "      <td>4.0</td>\n",
       "    </tr>\n",
       "    <tr>\n",
       "      <th>2</th>\n",
       "      <td>1</td>\n",
       "      <td>3</td>\n",
       "      <td>4</td>\n",
       "      <td>3586768</td>\n",
       "      <td>4.94</td>\n",
       "      <td>6.01</td>\n",
       "      <td>6.12</td>\n",
       "      <td>8.06</td>\n",
       "      <td>4.0</td>\n",
       "    </tr>\n",
       "    <tr>\n",
       "      <th>3</th>\n",
       "      <td>1</td>\n",
       "      <td>4</td>\n",
       "      <td>24</td>\n",
       "      <td>4493800</td>\n",
       "      <td>7.04</td>\n",
       "      <td>7.09</td>\n",
       "      <td>8.01</td>\n",
       "      <td>8.22</td>\n",
       "      <td>4.0</td>\n",
       "    </tr>\n",
       "    <tr>\n",
       "      <th>4</th>\n",
       "      <td>1</td>\n",
       "      <td>5</td>\n",
       "      <td>20</td>\n",
       "      <td>5362005</td>\n",
       "      <td>8.26</td>\n",
       "      <td>7.91</td>\n",
       "      <td>7.19</td>\n",
       "      <td>8.13</td>\n",
       "      <td>1.0</td>\n",
       "    </tr>\n",
       "    <tr>\n",
       "      <th>...</th>\n",
       "      <td>...</td>\n",
       "      <td>...</td>\n",
       "      <td>...</td>\n",
       "      <td>...</td>\n",
       "      <td>...</td>\n",
       "      <td>...</td>\n",
       "      <td>...</td>\n",
       "      <td>...</td>\n",
       "      <td>...</td>\n",
       "    </tr>\n",
       "    <tr>\n",
       "      <th>1275</th>\n",
       "      <td>32</td>\n",
       "      <td>36</td>\n",
       "      <td>1</td>\n",
       "      <td>30916115</td>\n",
       "      <td>8.13</td>\n",
       "      <td>4.83</td>\n",
       "      <td>9.00</td>\n",
       "      <td>4.87</td>\n",
       "      <td>2.0</td>\n",
       "    </tr>\n",
       "    <tr>\n",
       "      <th>1276</th>\n",
       "      <td>32</td>\n",
       "      <td>37</td>\n",
       "      <td>18</td>\n",
       "      <td>31703107</td>\n",
       "      <td>8.03</td>\n",
       "      <td>7.06</td>\n",
       "      <td>8.96</td>\n",
       "      <td>8.18</td>\n",
       "      <td>5.0</td>\n",
       "    </tr>\n",
       "    <tr>\n",
       "      <th>1277</th>\n",
       "      <td>32</td>\n",
       "      <td>38</td>\n",
       "      <td>3</td>\n",
       "      <td>32482079</td>\n",
       "      <td>8.05</td>\n",
       "      <td>7.09</td>\n",
       "      <td>8.86</td>\n",
       "      <td>7.08</td>\n",
       "      <td>5.0</td>\n",
       "    </tr>\n",
       "    <tr>\n",
       "      <th>1278</th>\n",
       "      <td>32</td>\n",
       "      <td>39</td>\n",
       "      <td>25</td>\n",
       "      <td>33248922</td>\n",
       "      <td>4.01</td>\n",
       "      <td>7.17</td>\n",
       "      <td>8.01</td>\n",
       "      <td>6.94</td>\n",
       "      <td>2.0</td>\n",
       "    </tr>\n",
       "    <tr>\n",
       "      <th>1279</th>\n",
       "      <td>32</td>\n",
       "      <td>40</td>\n",
       "      <td>10</td>\n",
       "      <td>34020155</td>\n",
       "      <td>4.08</td>\n",
       "      <td>5.95</td>\n",
       "      <td>8.82</td>\n",
       "      <td>3.90</td>\n",
       "      <td>5.0</td>\n",
       "    </tr>\n",
       "  </tbody>\n",
       "</table>\n",
       "<p>1280 rows × 9 columns</p>\n",
       "</div>"
      ],
      "text/plain": [
       "      Participant_id  Trial  Experiment_id  Start_time  Valence  Arousal  \\\n",
       "0                  1      1              5     1695918     6.96     3.92   \n",
       "1                  1      2             18     2714905     7.23     7.15   \n",
       "2                  1      3              4     3586768     4.94     6.01   \n",
       "3                  1      4             24     4493800     7.04     7.09   \n",
       "4                  1      5             20     5362005     8.26     7.91   \n",
       "...              ...    ...            ...         ...      ...      ...   \n",
       "1275              32     36              1    30916115     8.13     4.83   \n",
       "1276              32     37             18    31703107     8.03     7.06   \n",
       "1277              32     38              3    32482079     8.05     7.09   \n",
       "1278              32     39             25    33248922     4.01     7.17   \n",
       "1279              32     40             10    34020155     4.08     5.95   \n",
       "\n",
       "      Dominance  Liking  Familiarity  \n",
       "0          7.19    6.05          4.0  \n",
       "1          6.94    8.01          4.0  \n",
       "2          6.12    8.06          4.0  \n",
       "3          8.01    8.22          4.0  \n",
       "4          7.19    8.13          1.0  \n",
       "...         ...     ...          ...  \n",
       "1275       9.00    4.87          2.0  \n",
       "1276       8.96    8.18          5.0  \n",
       "1277       8.86    7.08          5.0  \n",
       "1278       8.01    6.94          2.0  \n",
       "1279       8.82    3.90          5.0  \n",
       "\n",
       "[1280 rows x 9 columns]"
      ]
     },
     "execution_count": 34,
     "metadata": {},
     "output_type": "execute_result"
    }
   ],
   "source": [
    "participant_ratings=pd.read_csv(\"/home/aaina/final_year_project/data/metadata_csv/participant_ratings.csv\")\n",
    "participant_ratings"
   ]
  },
  {
   "cell_type": "code",
   "execution_count": 35,
   "metadata": {},
   "outputs": [
    {
     "data": {
      "text/html": [
       "<div>\n",
       "<style scoped>\n",
       "    .dataframe tbody tr th:only-of-type {\n",
       "        vertical-align: middle;\n",
       "    }\n",
       "\n",
       "    .dataframe tbody tr th {\n",
       "        vertical-align: top;\n",
       "    }\n",
       "\n",
       "    .dataframe thead th {\n",
       "        text-align: right;\n",
       "    }\n",
       "</style>\n",
       "<table border=\"1\" class=\"dataframe\">\n",
       "  <thead>\n",
       "    <tr style=\"text-align: right;\">\n",
       "      <th></th>\n",
       "      <th>Participant_id</th>\n",
       "      <th>Trial</th>\n",
       "      <th>Experiment_id</th>\n",
       "      <th>Start_time</th>\n",
       "      <th>Valence</th>\n",
       "      <th>Arousal</th>\n",
       "      <th>Dominance</th>\n",
       "      <th>Liking</th>\n",
       "      <th>Familiarity</th>\n",
       "    </tr>\n",
       "  </thead>\n",
       "  <tbody>\n",
       "    <tr>\n",
       "      <th>0</th>\n",
       "      <td>1</td>\n",
       "      <td>1</td>\n",
       "      <td>5</td>\n",
       "      <td>1695918</td>\n",
       "      <td>6.96</td>\n",
       "      <td>3.92</td>\n",
       "      <td>7.19</td>\n",
       "      <td>6.05</td>\n",
       "      <td>4.0</td>\n",
       "    </tr>\n",
       "    <tr>\n",
       "      <th>1</th>\n",
       "      <td>1</td>\n",
       "      <td>2</td>\n",
       "      <td>18</td>\n",
       "      <td>2714905</td>\n",
       "      <td>7.23</td>\n",
       "      <td>7.15</td>\n",
       "      <td>6.94</td>\n",
       "      <td>8.01</td>\n",
       "      <td>4.0</td>\n",
       "    </tr>\n",
       "    <tr>\n",
       "      <th>2</th>\n",
       "      <td>1</td>\n",
       "      <td>3</td>\n",
       "      <td>4</td>\n",
       "      <td>3586768</td>\n",
       "      <td>4.94</td>\n",
       "      <td>6.01</td>\n",
       "      <td>6.12</td>\n",
       "      <td>8.06</td>\n",
       "      <td>4.0</td>\n",
       "    </tr>\n",
       "    <tr>\n",
       "      <th>3</th>\n",
       "      <td>1</td>\n",
       "      <td>4</td>\n",
       "      <td>24</td>\n",
       "      <td>4493800</td>\n",
       "      <td>7.04</td>\n",
       "      <td>7.09</td>\n",
       "      <td>8.01</td>\n",
       "      <td>8.22</td>\n",
       "      <td>4.0</td>\n",
       "    </tr>\n",
       "    <tr>\n",
       "      <th>4</th>\n",
       "      <td>1</td>\n",
       "      <td>5</td>\n",
       "      <td>20</td>\n",
       "      <td>5362005</td>\n",
       "      <td>8.26</td>\n",
       "      <td>7.91</td>\n",
       "      <td>7.19</td>\n",
       "      <td>8.13</td>\n",
       "      <td>1.0</td>\n",
       "    </tr>\n",
       "    <tr>\n",
       "      <th>...</th>\n",
       "      <td>...</td>\n",
       "      <td>...</td>\n",
       "      <td>...</td>\n",
       "      <td>...</td>\n",
       "      <td>...</td>\n",
       "      <td>...</td>\n",
       "      <td>...</td>\n",
       "      <td>...</td>\n",
       "      <td>...</td>\n",
       "    </tr>\n",
       "    <tr>\n",
       "      <th>875</th>\n",
       "      <td>22</td>\n",
       "      <td>36</td>\n",
       "      <td>10</td>\n",
       "      <td>33792963</td>\n",
       "      <td>4.00</td>\n",
       "      <td>6.06</td>\n",
       "      <td>6.03</td>\n",
       "      <td>5.00</td>\n",
       "      <td>1.0</td>\n",
       "    </tr>\n",
       "    <tr>\n",
       "      <th>876</th>\n",
       "      <td>22</td>\n",
       "      <td>37</td>\n",
       "      <td>33</td>\n",
       "      <td>34618848</td>\n",
       "      <td>1.96</td>\n",
       "      <td>7.06</td>\n",
       "      <td>2.94</td>\n",
       "      <td>1.00</td>\n",
       "      <td>1.0</td>\n",
       "    </tr>\n",
       "    <tr>\n",
       "      <th>877</th>\n",
       "      <td>22</td>\n",
       "      <td>38</td>\n",
       "      <td>2</td>\n",
       "      <td>35421074</td>\n",
       "      <td>7.08</td>\n",
       "      <td>7.05</td>\n",
       "      <td>6.06</td>\n",
       "      <td>7.12</td>\n",
       "      <td>2.0</td>\n",
       "    </tr>\n",
       "    <tr>\n",
       "      <th>878</th>\n",
       "      <td>22</td>\n",
       "      <td>39</td>\n",
       "      <td>25</td>\n",
       "      <td>36205478</td>\n",
       "      <td>2.95</td>\n",
       "      <td>4.90</td>\n",
       "      <td>2.96</td>\n",
       "      <td>7.05</td>\n",
       "      <td>1.0</td>\n",
       "    </tr>\n",
       "    <tr>\n",
       "      <th>879</th>\n",
       "      <td>22</td>\n",
       "      <td>40</td>\n",
       "      <td>35</td>\n",
       "      <td>37007533</td>\n",
       "      <td>1.99</td>\n",
       "      <td>7.08</td>\n",
       "      <td>4.08</td>\n",
       "      <td>1.00</td>\n",
       "      <td>1.0</td>\n",
       "    </tr>\n",
       "  </tbody>\n",
       "</table>\n",
       "<p>880 rows × 9 columns</p>\n",
       "</div>"
      ],
      "text/plain": [
       "     Participant_id  Trial  Experiment_id  Start_time  Valence  Arousal  \\\n",
       "0                 1      1              5     1695918     6.96     3.92   \n",
       "1                 1      2             18     2714905     7.23     7.15   \n",
       "2                 1      3              4     3586768     4.94     6.01   \n",
       "3                 1      4             24     4493800     7.04     7.09   \n",
       "4                 1      5             20     5362005     8.26     7.91   \n",
       "..              ...    ...            ...         ...      ...      ...   \n",
       "875              22     36             10    33792963     4.00     6.06   \n",
       "876              22     37             33    34618848     1.96     7.06   \n",
       "877              22     38              2    35421074     7.08     7.05   \n",
       "878              22     39             25    36205478     2.95     4.90   \n",
       "879              22     40             35    37007533     1.99     7.08   \n",
       "\n",
       "     Dominance  Liking  Familiarity  \n",
       "0         7.19    6.05          4.0  \n",
       "1         6.94    8.01          4.0  \n",
       "2         6.12    8.06          4.0  \n",
       "3         8.01    8.22          4.0  \n",
       "4         7.19    8.13          1.0  \n",
       "..         ...     ...          ...  \n",
       "875       6.03    5.00          1.0  \n",
       "876       2.94    1.00          1.0  \n",
       "877       6.06    7.12          2.0  \n",
       "878       2.96    7.05          1.0  \n",
       "879       4.08    1.00          1.0  \n",
       "\n",
       "[880 rows x 9 columns]"
      ]
     },
     "execution_count": 35,
     "metadata": {},
     "output_type": "execute_result"
    }
   ],
   "source": [
    "participant_ratings_drop=participant_ratings.drop(participant_ratings.index[880:])\n",
    "participant_ratings_drop"
   ]
  },
  {
   "cell_type": "code",
   "execution_count": 36,
   "metadata": {},
   "outputs": [
    {
     "data": {
      "text/html": [
       "<div>\n",
       "<style scoped>\n",
       "    .dataframe tbody tr th:only-of-type {\n",
       "        vertical-align: middle;\n",
       "    }\n",
       "\n",
       "    .dataframe tbody tr th {\n",
       "        vertical-align: top;\n",
       "    }\n",
       "\n",
       "    .dataframe thead th {\n",
       "        text-align: right;\n",
       "    }\n",
       "</style>\n",
       "<table border=\"1\" class=\"dataframe\">\n",
       "  <thead>\n",
       "    <tr style=\"text-align: right;\">\n",
       "      <th></th>\n",
       "      <th>Participant_id</th>\n",
       "      <th>Trial</th>\n",
       "      <th>Experiment_id</th>\n",
       "      <th>Start_time</th>\n",
       "      <th>Valence</th>\n",
       "      <th>Arousal</th>\n",
       "      <th>Dominance</th>\n",
       "      <th>Liking</th>\n",
       "      <th>Familiarity</th>\n",
       "    </tr>\n",
       "  </thead>\n",
       "  <tbody>\n",
       "    <tr>\n",
       "      <th>0</th>\n",
       "      <td>1</td>\n",
       "      <td>1</td>\n",
       "      <td>5</td>\n",
       "      <td>1695918</td>\n",
       "      <td>6.96</td>\n",
       "      <td>3.92</td>\n",
       "      <td>7.19</td>\n",
       "      <td>6.05</td>\n",
       "      <td>4.0</td>\n",
       "    </tr>\n",
       "    <tr>\n",
       "      <th>1</th>\n",
       "      <td>1</td>\n",
       "      <td>2</td>\n",
       "      <td>18</td>\n",
       "      <td>2714905</td>\n",
       "      <td>7.23</td>\n",
       "      <td>7.15</td>\n",
       "      <td>6.94</td>\n",
       "      <td>8.01</td>\n",
       "      <td>4.0</td>\n",
       "    </tr>\n",
       "    <tr>\n",
       "      <th>2</th>\n",
       "      <td>1</td>\n",
       "      <td>3</td>\n",
       "      <td>4</td>\n",
       "      <td>3586768</td>\n",
       "      <td>4.94</td>\n",
       "      <td>6.01</td>\n",
       "      <td>6.12</td>\n",
       "      <td>8.06</td>\n",
       "      <td>4.0</td>\n",
       "    </tr>\n",
       "    <tr>\n",
       "      <th>3</th>\n",
       "      <td>1</td>\n",
       "      <td>4</td>\n",
       "      <td>24</td>\n",
       "      <td>4493800</td>\n",
       "      <td>7.04</td>\n",
       "      <td>7.09</td>\n",
       "      <td>8.01</td>\n",
       "      <td>8.22</td>\n",
       "      <td>4.0</td>\n",
       "    </tr>\n",
       "    <tr>\n",
       "      <th>4</th>\n",
       "      <td>1</td>\n",
       "      <td>5</td>\n",
       "      <td>20</td>\n",
       "      <td>5362005</td>\n",
       "      <td>8.26</td>\n",
       "      <td>7.91</td>\n",
       "      <td>7.19</td>\n",
       "      <td>8.13</td>\n",
       "      <td>1.0</td>\n",
       "    </tr>\n",
       "    <tr>\n",
       "      <th>...</th>\n",
       "      <td>...</td>\n",
       "      <td>...</td>\n",
       "      <td>...</td>\n",
       "      <td>...</td>\n",
       "      <td>...</td>\n",
       "      <td>...</td>\n",
       "      <td>...</td>\n",
       "      <td>...</td>\n",
       "      <td>...</td>\n",
       "    </tr>\n",
       "    <tr>\n",
       "      <th>875</th>\n",
       "      <td>22</td>\n",
       "      <td>36</td>\n",
       "      <td>10</td>\n",
       "      <td>33792963</td>\n",
       "      <td>4.00</td>\n",
       "      <td>6.06</td>\n",
       "      <td>6.03</td>\n",
       "      <td>5.00</td>\n",
       "      <td>1.0</td>\n",
       "    </tr>\n",
       "    <tr>\n",
       "      <th>876</th>\n",
       "      <td>22</td>\n",
       "      <td>37</td>\n",
       "      <td>33</td>\n",
       "      <td>34618848</td>\n",
       "      <td>1.96</td>\n",
       "      <td>7.06</td>\n",
       "      <td>2.94</td>\n",
       "      <td>1.00</td>\n",
       "      <td>1.0</td>\n",
       "    </tr>\n",
       "    <tr>\n",
       "      <th>877</th>\n",
       "      <td>22</td>\n",
       "      <td>38</td>\n",
       "      <td>2</td>\n",
       "      <td>35421074</td>\n",
       "      <td>7.08</td>\n",
       "      <td>7.05</td>\n",
       "      <td>6.06</td>\n",
       "      <td>7.12</td>\n",
       "      <td>2.0</td>\n",
       "    </tr>\n",
       "    <tr>\n",
       "      <th>878</th>\n",
       "      <td>22</td>\n",
       "      <td>39</td>\n",
       "      <td>25</td>\n",
       "      <td>36205478</td>\n",
       "      <td>2.95</td>\n",
       "      <td>4.90</td>\n",
       "      <td>2.96</td>\n",
       "      <td>7.05</td>\n",
       "      <td>1.0</td>\n",
       "    </tr>\n",
       "    <tr>\n",
       "      <th>879</th>\n",
       "      <td>22</td>\n",
       "      <td>40</td>\n",
       "      <td>35</td>\n",
       "      <td>37007533</td>\n",
       "      <td>1.99</td>\n",
       "      <td>7.08</td>\n",
       "      <td>4.08</td>\n",
       "      <td>1.00</td>\n",
       "      <td>1.0</td>\n",
       "    </tr>\n",
       "  </tbody>\n",
       "</table>\n",
       "<p>874 rows × 9 columns</p>\n",
       "</div>"
      ],
      "text/plain": [
       "     Participant_id  Trial  Experiment_id  Start_time  Valence  Arousal  \\\n",
       "0                 1      1              5     1695918     6.96     3.92   \n",
       "1                 1      2             18     2714905     7.23     7.15   \n",
       "2                 1      3              4     3586768     4.94     6.01   \n",
       "3                 1      4             24     4493800     7.04     7.09   \n",
       "4                 1      5             20     5362005     8.26     7.91   \n",
       "..              ...    ...            ...         ...      ...      ...   \n",
       "875              22     36             10    33792963     4.00     6.06   \n",
       "876              22     37             33    34618848     1.96     7.06   \n",
       "877              22     38              2    35421074     7.08     7.05   \n",
       "878              22     39             25    36205478     2.95     4.90   \n",
       "879              22     40             35    37007533     1.99     7.08   \n",
       "\n",
       "     Dominance  Liking  Familiarity  \n",
       "0         7.19    6.05          4.0  \n",
       "1         6.94    8.01          4.0  \n",
       "2         6.12    8.06          4.0  \n",
       "3         8.01    8.22          4.0  \n",
       "4         7.19    8.13          1.0  \n",
       "..         ...     ...          ...  \n",
       "875       6.03    5.00          1.0  \n",
       "876       2.94    1.00          1.0  \n",
       "877       6.06    7.12          2.0  \n",
       "878       2.96    7.05          1.0  \n",
       "879       4.08    1.00          1.0  \n",
       "\n",
       "[874 rows x 9 columns]"
      ]
     },
     "execution_count": 36,
     "metadata": {},
     "output_type": "execute_result"
    }
   ],
   "source": [
    "participant_ratings_drop=participant_ratings_drop.drop([119,199,437,438,439,559],axis=0)\n",
    "participant_ratings_drop"
   ]
  },
  {
   "cell_type": "code",
   "execution_count": 37,
   "metadata": {},
   "outputs": [
    {
     "data": {
      "text/html": [
       "<div>\n",
       "<style scoped>\n",
       "    .dataframe tbody tr th:only-of-type {\n",
       "        vertical-align: middle;\n",
       "    }\n",
       "\n",
       "    .dataframe tbody tr th {\n",
       "        vertical-align: top;\n",
       "    }\n",
       "\n",
       "    .dataframe thead th {\n",
       "        text-align: right;\n",
       "    }\n",
       "</style>\n",
       "<table border=\"1\" class=\"dataframe\">\n",
       "  <thead>\n",
       "    <tr style=\"text-align: right;\">\n",
       "      <th></th>\n",
       "      <th>Participant_id</th>\n",
       "      <th>Trial</th>\n",
       "      <th>Experiment_id</th>\n",
       "      <th>Start_time</th>\n",
       "      <th>Valence</th>\n",
       "      <th>Arousal</th>\n",
       "      <th>Dominance</th>\n",
       "      <th>Liking</th>\n",
       "      <th>Familiarity</th>\n",
       "    </tr>\n",
       "  </thead>\n",
       "  <tbody>\n",
       "    <tr>\n",
       "      <th>120</th>\n",
       "      <td>4</td>\n",
       "      <td>1</td>\n",
       "      <td>20</td>\n",
       "      <td>2644761</td>\n",
       "      <td>8.17</td>\n",
       "      <td>8.05</td>\n",
       "      <td>6.08</td>\n",
       "      <td>9.0</td>\n",
       "      <td>2.0</td>\n",
       "    </tr>\n",
       "  </tbody>\n",
       "</table>\n",
       "</div>"
      ],
      "text/plain": [
       "     Participant_id  Trial  Experiment_id  Start_time  Valence  Arousal  \\\n",
       "120               4      1             20     2644761     8.17     8.05   \n",
       "\n",
       "     Dominance  Liking  Familiarity  \n",
       "120       6.08     9.0          2.0  "
      ]
     },
     "execution_count": 37,
     "metadata": {},
     "output_type": "execute_result"
    }
   ],
   "source": [
    "participant_ratings_drop[119:120]"
   ]
  },
  {
   "cell_type": "code",
   "execution_count": 38,
   "metadata": {},
   "outputs": [
    {
     "data": {
      "text/html": [
       "<div>\n",
       "<style scoped>\n",
       "    .dataframe tbody tr th:only-of-type {\n",
       "        vertical-align: middle;\n",
       "    }\n",
       "\n",
       "    .dataframe tbody tr th {\n",
       "        vertical-align: top;\n",
       "    }\n",
       "\n",
       "    .dataframe thead th {\n",
       "        text-align: right;\n",
       "    }\n",
       "</style>\n",
       "<table border=\"1\" class=\"dataframe\">\n",
       "  <thead>\n",
       "    <tr style=\"text-align: right;\">\n",
       "      <th></th>\n",
       "      <th>Participant_id</th>\n",
       "      <th>Trial</th>\n",
       "      <th>Experiment_id</th>\n",
       "      <th>Start_time</th>\n",
       "      <th>Valence</th>\n",
       "      <th>Arousal</th>\n",
       "      <th>Dominance</th>\n",
       "      <th>Liking</th>\n",
       "      <th>Familiarity</th>\n",
       "    </tr>\n",
       "  </thead>\n",
       "  <tbody>\n",
       "    <tr>\n",
       "      <th>198</th>\n",
       "      <td>5</td>\n",
       "      <td>39</td>\n",
       "      <td>39</td>\n",
       "      <td>39936870</td>\n",
       "      <td>1.00</td>\n",
       "      <td>4.86</td>\n",
       "      <td>7.05</td>\n",
       "      <td>1.00</td>\n",
       "      <td>1.0</td>\n",
       "    </tr>\n",
       "    <tr>\n",
       "      <th>200</th>\n",
       "      <td>6</td>\n",
       "      <td>1</td>\n",
       "      <td>31</td>\n",
       "      <td>4863503</td>\n",
       "      <td>3.65</td>\n",
       "      <td>3.49</td>\n",
       "      <td>4.05</td>\n",
       "      <td>6.36</td>\n",
       "      <td>1.0</td>\n",
       "    </tr>\n",
       "    <tr>\n",
       "      <th>201</th>\n",
       "      <td>6</td>\n",
       "      <td>2</td>\n",
       "      <td>5</td>\n",
       "      <td>5941302</td>\n",
       "      <td>7.01</td>\n",
       "      <td>7.38</td>\n",
       "      <td>6.55</td>\n",
       "      <td>7.36</td>\n",
       "      <td>5.0</td>\n",
       "    </tr>\n",
       "  </tbody>\n",
       "</table>\n",
       "</div>"
      ],
      "text/plain": [
       "     Participant_id  Trial  Experiment_id  Start_time  Valence  Arousal  \\\n",
       "198               5     39             39    39936870     1.00     4.86   \n",
       "200               6      1             31     4863503     3.65     3.49   \n",
       "201               6      2              5     5941302     7.01     7.38   \n",
       "\n",
       "     Dominance  Liking  Familiarity  \n",
       "198       7.05    1.00          1.0  \n",
       "200       4.05    6.36          1.0  \n",
       "201       6.55    7.36          5.0  "
      ]
     },
     "execution_count": 38,
     "metadata": {},
     "output_type": "execute_result"
    }
   ],
   "source": [
    "participant_ratings_drop[197:200]"
   ]
  },
  {
   "cell_type": "code",
   "execution_count": 39,
   "metadata": {},
   "outputs": [],
   "source": [
    "participant_ratings_drop.to_csv('participant_ratings_drop_new_index.csv',index=True) "
   ]
  },
  {
   "cell_type": "code",
   "execution_count": 4,
   "metadata": {},
   "outputs": [],
   "source": [
    "import pandas as pd"
   ]
  },
  {
   "cell_type": "code",
   "execution_count": 5,
   "metadata": {},
   "outputs": [
    {
     "data": {
      "text/html": [
       "<div>\n",
       "<style scoped>\n",
       "    .dataframe tbody tr th:only-of-type {\n",
       "        vertical-align: middle;\n",
       "    }\n",
       "\n",
       "    .dataframe tbody tr th {\n",
       "        vertical-align: top;\n",
       "    }\n",
       "\n",
       "    .dataframe thead th {\n",
       "        text-align: right;\n",
       "    }\n",
       "</style>\n",
       "<table border=\"1\" class=\"dataframe\">\n",
       "  <thead>\n",
       "    <tr style=\"text-align: right;\">\n",
       "      <th></th>\n",
       "      <th>Unnamed: 0</th>\n",
       "      <th>Participant_id</th>\n",
       "      <th>Trial</th>\n",
       "      <th>Experiment_id</th>\n",
       "      <th>Start_time</th>\n",
       "      <th>Valence</th>\n",
       "      <th>Arousal</th>\n",
       "      <th>Dominance</th>\n",
       "      <th>Liking</th>\n",
       "      <th>Familiarity</th>\n",
       "    </tr>\n",
       "  </thead>\n",
       "  <tbody>\n",
       "    <tr>\n",
       "      <th>0</th>\n",
       "      <td>0</td>\n",
       "      <td>1</td>\n",
       "      <td>1</td>\n",
       "      <td>5</td>\n",
       "      <td>1695918</td>\n",
       "      <td>6.96</td>\n",
       "      <td>3.92</td>\n",
       "      <td>7.19</td>\n",
       "      <td>6.05</td>\n",
       "      <td>4.0</td>\n",
       "    </tr>\n",
       "    <tr>\n",
       "      <th>1</th>\n",
       "      <td>1</td>\n",
       "      <td>1</td>\n",
       "      <td>2</td>\n",
       "      <td>18</td>\n",
       "      <td>2714905</td>\n",
       "      <td>7.23</td>\n",
       "      <td>7.15</td>\n",
       "      <td>6.94</td>\n",
       "      <td>8.01</td>\n",
       "      <td>4.0</td>\n",
       "    </tr>\n",
       "    <tr>\n",
       "      <th>2</th>\n",
       "      <td>2</td>\n",
       "      <td>1</td>\n",
       "      <td>3</td>\n",
       "      <td>4</td>\n",
       "      <td>3586768</td>\n",
       "      <td>4.94</td>\n",
       "      <td>6.01</td>\n",
       "      <td>6.12</td>\n",
       "      <td>8.06</td>\n",
       "      <td>4.0</td>\n",
       "    </tr>\n",
       "    <tr>\n",
       "      <th>3</th>\n",
       "      <td>3</td>\n",
       "      <td>1</td>\n",
       "      <td>4</td>\n",
       "      <td>24</td>\n",
       "      <td>4493800</td>\n",
       "      <td>7.04</td>\n",
       "      <td>7.09</td>\n",
       "      <td>8.01</td>\n",
       "      <td>8.22</td>\n",
       "      <td>4.0</td>\n",
       "    </tr>\n",
       "    <tr>\n",
       "      <th>4</th>\n",
       "      <td>4</td>\n",
       "      <td>1</td>\n",
       "      <td>5</td>\n",
       "      <td>20</td>\n",
       "      <td>5362005</td>\n",
       "      <td>8.26</td>\n",
       "      <td>7.91</td>\n",
       "      <td>7.19</td>\n",
       "      <td>8.13</td>\n",
       "      <td>1.0</td>\n",
       "    </tr>\n",
       "    <tr>\n",
       "      <th>...</th>\n",
       "      <td>...</td>\n",
       "      <td>...</td>\n",
       "      <td>...</td>\n",
       "      <td>...</td>\n",
       "      <td>...</td>\n",
       "      <td>...</td>\n",
       "      <td>...</td>\n",
       "      <td>...</td>\n",
       "      <td>...</td>\n",
       "      <td>...</td>\n",
       "    </tr>\n",
       "    <tr>\n",
       "      <th>869</th>\n",
       "      <td>875</td>\n",
       "      <td>22</td>\n",
       "      <td>36</td>\n",
       "      <td>10</td>\n",
       "      <td>33792963</td>\n",
       "      <td>4.00</td>\n",
       "      <td>6.06</td>\n",
       "      <td>6.03</td>\n",
       "      <td>5.00</td>\n",
       "      <td>1.0</td>\n",
       "    </tr>\n",
       "    <tr>\n",
       "      <th>870</th>\n",
       "      <td>876</td>\n",
       "      <td>22</td>\n",
       "      <td>37</td>\n",
       "      <td>33</td>\n",
       "      <td>34618848</td>\n",
       "      <td>1.96</td>\n",
       "      <td>7.06</td>\n",
       "      <td>2.94</td>\n",
       "      <td>1.00</td>\n",
       "      <td>1.0</td>\n",
       "    </tr>\n",
       "    <tr>\n",
       "      <th>871</th>\n",
       "      <td>877</td>\n",
       "      <td>22</td>\n",
       "      <td>38</td>\n",
       "      <td>2</td>\n",
       "      <td>35421074</td>\n",
       "      <td>7.08</td>\n",
       "      <td>7.05</td>\n",
       "      <td>6.06</td>\n",
       "      <td>7.12</td>\n",
       "      <td>2.0</td>\n",
       "    </tr>\n",
       "    <tr>\n",
       "      <th>872</th>\n",
       "      <td>878</td>\n",
       "      <td>22</td>\n",
       "      <td>39</td>\n",
       "      <td>25</td>\n",
       "      <td>36205478</td>\n",
       "      <td>2.95</td>\n",
       "      <td>4.90</td>\n",
       "      <td>2.96</td>\n",
       "      <td>7.05</td>\n",
       "      <td>1.0</td>\n",
       "    </tr>\n",
       "    <tr>\n",
       "      <th>873</th>\n",
       "      <td>879</td>\n",
       "      <td>22</td>\n",
       "      <td>40</td>\n",
       "      <td>35</td>\n",
       "      <td>37007533</td>\n",
       "      <td>1.99</td>\n",
       "      <td>7.08</td>\n",
       "      <td>4.08</td>\n",
       "      <td>1.00</td>\n",
       "      <td>1.0</td>\n",
       "    </tr>\n",
       "  </tbody>\n",
       "</table>\n",
       "<p>874 rows × 10 columns</p>\n",
       "</div>"
      ],
      "text/plain": [
       "     Unnamed: 0  Participant_id  Trial  Experiment_id  Start_time  Valence  \\\n",
       "0             0               1      1              5     1695918     6.96   \n",
       "1             1               1      2             18     2714905     7.23   \n",
       "2             2               1      3              4     3586768     4.94   \n",
       "3             3               1      4             24     4493800     7.04   \n",
       "4             4               1      5             20     5362005     8.26   \n",
       "..          ...             ...    ...            ...         ...      ...   \n",
       "869         875              22     36             10    33792963     4.00   \n",
       "870         876              22     37             33    34618848     1.96   \n",
       "871         877              22     38              2    35421074     7.08   \n",
       "872         878              22     39             25    36205478     2.95   \n",
       "873         879              22     40             35    37007533     1.99   \n",
       "\n",
       "     Arousal  Dominance  Liking  Familiarity  \n",
       "0       3.92       7.19    6.05          4.0  \n",
       "1       7.15       6.94    8.01          4.0  \n",
       "2       6.01       6.12    8.06          4.0  \n",
       "3       7.09       8.01    8.22          4.0  \n",
       "4       7.91       7.19    8.13          1.0  \n",
       "..       ...        ...     ...          ...  \n",
       "869     6.06       6.03    5.00          1.0  \n",
       "870     7.06       2.94    1.00          1.0  \n",
       "871     7.05       6.06    7.12          2.0  \n",
       "872     4.90       2.96    7.05          1.0  \n",
       "873     7.08       4.08    1.00          1.0  \n",
       "\n",
       "[874 rows x 10 columns]"
      ]
     },
     "execution_count": 5,
     "metadata": {},
     "output_type": "execute_result"
    }
   ],
   "source": [
    "participant_ratings_drop_csv=pd.read_csv('participant_ratings_drop_new_index.csv')\n",
    "participant_ratings_drop_csv"
   ]
  },
  {
   "cell_type": "code",
   "execution_count": 6,
   "metadata": {},
   "outputs": [
    {
     "ename": "NameError",
     "evalue": "name 'face_pixels' is not defined",
     "output_type": "error",
     "traceback": [
      "\u001b[0;31m---------------------------------------------------------------------------\u001b[0m",
      "\u001b[0;31mNameError\u001b[0m                                 Traceback (most recent call last)",
      "\u001b[0;32m<ipython-input-6-061cce25bbf6>\u001b[0m in \u001b[0;36m<module>\u001b[0;34m()\u001b[0m\n\u001b[0;32m----> 1\u001b[0;31m \u001b[0mface_pixels\u001b[0m\u001b[0;34m.\u001b[0m\u001b[0mto_csv\u001b[0m\u001b[0;34m(\u001b[0m\u001b[0;34m\"face_pixels.csv\"\u001b[0m\u001b[0;34m,\u001b[0m\u001b[0mindex\u001b[0m\u001b[0;34m=\u001b[0m\u001b[0;32mFalse\u001b[0m\u001b[0;34m)\u001b[0m\u001b[0;34m\u001b[0m\u001b[0;34m\u001b[0m\u001b[0m\n\u001b[0m",
      "\u001b[0;31mNameError\u001b[0m: name 'face_pixels' is not defined"
     ]
    }
   ],
   "source": [
    "face_pixels.to_csv(\"face_pixels.csv\",index=False)"
   ]
  },
  {
   "cell_type": "code",
   "execution_count": 7,
   "metadata": {},
   "outputs": [],
   "source": [
    "face_pixels=pd.read_csv(\"face_pixels.csv\")"
   ]
  },
  {
   "cell_type": "code",
   "execution_count": 8,
   "metadata": {},
   "outputs": [
    {
     "data": {
      "text/html": [
       "<div>\n",
       "<style scoped>\n",
       "    .dataframe tbody tr th:only-of-type {\n",
       "        vertical-align: middle;\n",
       "    }\n",
       "\n",
       "    .dataframe tbody tr th {\n",
       "        vertical-align: top;\n",
       "    }\n",
       "\n",
       "    .dataframe thead th {\n",
       "        text-align: right;\n",
       "    }\n",
       "</style>\n",
       "<table border=\"1\" class=\"dataframe\">\n",
       "  <thead>\n",
       "    <tr style=\"text-align: right;\">\n",
       "      <th></th>\n",
       "      <th>face_pixels</th>\n",
       "    </tr>\n",
       "  </thead>\n",
       "  <tbody>\n",
       "    <tr>\n",
       "      <th>0</th>\n",
       "      <td>135 138 140 134 144 144 136 120 117 134 142 13...</td>\n",
       "    </tr>\n",
       "    <tr>\n",
       "      <th>1</th>\n",
       "      <td>135 141 133 143 138 118 113 138 138 138 137 12...</td>\n",
       "    </tr>\n",
       "    <tr>\n",
       "      <th>2</th>\n",
       "      <td>138 136 138 144 123 113 140 140 141 138 153 13...</td>\n",
       "    </tr>\n",
       "    <tr>\n",
       "      <th>3</th>\n",
       "      <td>138 135 138 136 140 134 117 128 139 138 136 13...</td>\n",
       "    </tr>\n",
       "    <tr>\n",
       "      <th>4</th>\n",
       "      <td>133 137 135 134 137 141 135 112 131 134 139 12...</td>\n",
       "    </tr>\n",
       "    <tr>\n",
       "      <th>...</th>\n",
       "      <td>...</td>\n",
       "    </tr>\n",
       "    <tr>\n",
       "      <th>17475</th>\n",
       "      <td>135 135 135 141 105 73 90 57 51 53 58 61 66 52...</td>\n",
       "    </tr>\n",
       "    <tr>\n",
       "      <th>17476</th>\n",
       "      <td>135 130 137 148 165 124 77 53 51 46 45 25 26 3...</td>\n",
       "    </tr>\n",
       "    <tr>\n",
       "      <th>17477</th>\n",
       "      <td>136 134 136 137 145 73 98 70 55 49 63 66 70 61...</td>\n",
       "    </tr>\n",
       "    <tr>\n",
       "      <th>17478</th>\n",
       "      <td>134 132 135 134 163 148 108 62 42 52 49 35 19 ...</td>\n",
       "    </tr>\n",
       "    <tr>\n",
       "      <th>17479</th>\n",
       "      <td>134 130 141 159 133 94 53 50 44 50 27 17 30 32...</td>\n",
       "    </tr>\n",
       "  </tbody>\n",
       "</table>\n",
       "<p>17480 rows × 1 columns</p>\n",
       "</div>"
      ],
      "text/plain": [
       "                                             face_pixels\n",
       "0      135 138 140 134 144 144 136 120 117 134 142 13...\n",
       "1      135 141 133 143 138 118 113 138 138 138 137 12...\n",
       "2      138 136 138 144 123 113 140 140 141 138 153 13...\n",
       "3      138 135 138 136 140 134 117 128 139 138 136 13...\n",
       "4      133 137 135 134 137 141 135 112 131 134 139 12...\n",
       "...                                                  ...\n",
       "17475  135 135 135 141 105 73 90 57 51 53 58 61 66 52...\n",
       "17476  135 130 137 148 165 124 77 53 51 46 45 25 26 3...\n",
       "17477  136 134 136 137 145 73 98 70 55 49 63 66 70 61...\n",
       "17478  134 132 135 134 163 148 108 62 42 52 49 35 19 ...\n",
       "17479  134 130 141 159 133 94 53 50 44 50 27 17 30 32...\n",
       "\n",
       "[17480 rows x 1 columns]"
      ]
     },
     "execution_count": 8,
     "metadata": {},
     "output_type": "execute_result"
    }
   ],
   "source": [
    "face_pixels"
   ]
  },
  {
   "cell_type": "code",
   "execution_count": 71,
   "metadata": {
    "scrolled": true
   },
   "outputs": [
    {
     "data": {
      "text/html": [
       "<div>\n",
       "<style scoped>\n",
       "    .dataframe tbody tr th:only-of-type {\n",
       "        vertical-align: middle;\n",
       "    }\n",
       "\n",
       "    .dataframe tbody tr th {\n",
       "        vertical-align: top;\n",
       "    }\n",
       "\n",
       "    .dataframe thead th {\n",
       "        text-align: right;\n",
       "    }\n",
       "</style>\n",
       "<table border=\"1\" class=\"dataframe\">\n",
       "  <thead>\n",
       "    <tr style=\"text-align: right;\">\n",
       "      <th></th>\n",
       "      <th>Unnamed: 0</th>\n",
       "      <th>Participant_id</th>\n",
       "      <th>Trial</th>\n",
       "      <th>Experiment_id</th>\n",
       "      <th>Start_time</th>\n",
       "      <th>Valence</th>\n",
       "      <th>Arousal</th>\n",
       "      <th>Dominance</th>\n",
       "      <th>Liking</th>\n",
       "      <th>Familiarity</th>\n",
       "    </tr>\n",
       "  </thead>\n",
       "  <tbody>\n",
       "    <tr>\n",
       "      <th>0</th>\n",
       "      <td>0</td>\n",
       "      <td>1</td>\n",
       "      <td>1</td>\n",
       "      <td>5</td>\n",
       "      <td>1695918</td>\n",
       "      <td>6.96</td>\n",
       "      <td>3.92</td>\n",
       "      <td>7.19</td>\n",
       "      <td>6.05</td>\n",
       "      <td>4.0</td>\n",
       "    </tr>\n",
       "    <tr>\n",
       "      <th>0</th>\n",
       "      <td>0</td>\n",
       "      <td>1</td>\n",
       "      <td>1</td>\n",
       "      <td>5</td>\n",
       "      <td>1695918</td>\n",
       "      <td>6.96</td>\n",
       "      <td>3.92</td>\n",
       "      <td>7.19</td>\n",
       "      <td>6.05</td>\n",
       "      <td>4.0</td>\n",
       "    </tr>\n",
       "    <tr>\n",
       "      <th>0</th>\n",
       "      <td>0</td>\n",
       "      <td>1</td>\n",
       "      <td>1</td>\n",
       "      <td>5</td>\n",
       "      <td>1695918</td>\n",
       "      <td>6.96</td>\n",
       "      <td>3.92</td>\n",
       "      <td>7.19</td>\n",
       "      <td>6.05</td>\n",
       "      <td>4.0</td>\n",
       "    </tr>\n",
       "    <tr>\n",
       "      <th>0</th>\n",
       "      <td>0</td>\n",
       "      <td>1</td>\n",
       "      <td>1</td>\n",
       "      <td>5</td>\n",
       "      <td>1695918</td>\n",
       "      <td>6.96</td>\n",
       "      <td>3.92</td>\n",
       "      <td>7.19</td>\n",
       "      <td>6.05</td>\n",
       "      <td>4.0</td>\n",
       "    </tr>\n",
       "    <tr>\n",
       "      <th>0</th>\n",
       "      <td>0</td>\n",
       "      <td>1</td>\n",
       "      <td>1</td>\n",
       "      <td>5</td>\n",
       "      <td>1695918</td>\n",
       "      <td>6.96</td>\n",
       "      <td>3.92</td>\n",
       "      <td>7.19</td>\n",
       "      <td>6.05</td>\n",
       "      <td>4.0</td>\n",
       "    </tr>\n",
       "    <tr>\n",
       "      <th>0</th>\n",
       "      <td>0</td>\n",
       "      <td>1</td>\n",
       "      <td>1</td>\n",
       "      <td>5</td>\n",
       "      <td>1695918</td>\n",
       "      <td>6.96</td>\n",
       "      <td>3.92</td>\n",
       "      <td>7.19</td>\n",
       "      <td>6.05</td>\n",
       "      <td>4.0</td>\n",
       "    </tr>\n",
       "    <tr>\n",
       "      <th>0</th>\n",
       "      <td>0</td>\n",
       "      <td>1</td>\n",
       "      <td>1</td>\n",
       "      <td>5</td>\n",
       "      <td>1695918</td>\n",
       "      <td>6.96</td>\n",
       "      <td>3.92</td>\n",
       "      <td>7.19</td>\n",
       "      <td>6.05</td>\n",
       "      <td>4.0</td>\n",
       "    </tr>\n",
       "    <tr>\n",
       "      <th>0</th>\n",
       "      <td>0</td>\n",
       "      <td>1</td>\n",
       "      <td>1</td>\n",
       "      <td>5</td>\n",
       "      <td>1695918</td>\n",
       "      <td>6.96</td>\n",
       "      <td>3.92</td>\n",
       "      <td>7.19</td>\n",
       "      <td>6.05</td>\n",
       "      <td>4.0</td>\n",
       "    </tr>\n",
       "    <tr>\n",
       "      <th>0</th>\n",
       "      <td>0</td>\n",
       "      <td>1</td>\n",
       "      <td>1</td>\n",
       "      <td>5</td>\n",
       "      <td>1695918</td>\n",
       "      <td>6.96</td>\n",
       "      <td>3.92</td>\n",
       "      <td>7.19</td>\n",
       "      <td>6.05</td>\n",
       "      <td>4.0</td>\n",
       "    </tr>\n",
       "    <tr>\n",
       "      <th>0</th>\n",
       "      <td>0</td>\n",
       "      <td>1</td>\n",
       "      <td>1</td>\n",
       "      <td>5</td>\n",
       "      <td>1695918</td>\n",
       "      <td>6.96</td>\n",
       "      <td>3.92</td>\n",
       "      <td>7.19</td>\n",
       "      <td>6.05</td>\n",
       "      <td>4.0</td>\n",
       "    </tr>\n",
       "    <tr>\n",
       "      <th>0</th>\n",
       "      <td>0</td>\n",
       "      <td>1</td>\n",
       "      <td>1</td>\n",
       "      <td>5</td>\n",
       "      <td>1695918</td>\n",
       "      <td>6.96</td>\n",
       "      <td>3.92</td>\n",
       "      <td>7.19</td>\n",
       "      <td>6.05</td>\n",
       "      <td>4.0</td>\n",
       "    </tr>\n",
       "    <tr>\n",
       "      <th>0</th>\n",
       "      <td>0</td>\n",
       "      <td>1</td>\n",
       "      <td>1</td>\n",
       "      <td>5</td>\n",
       "      <td>1695918</td>\n",
       "      <td>6.96</td>\n",
       "      <td>3.92</td>\n",
       "      <td>7.19</td>\n",
       "      <td>6.05</td>\n",
       "      <td>4.0</td>\n",
       "    </tr>\n",
       "    <tr>\n",
       "      <th>0</th>\n",
       "      <td>0</td>\n",
       "      <td>1</td>\n",
       "      <td>1</td>\n",
       "      <td>5</td>\n",
       "      <td>1695918</td>\n",
       "      <td>6.96</td>\n",
       "      <td>3.92</td>\n",
       "      <td>7.19</td>\n",
       "      <td>6.05</td>\n",
       "      <td>4.0</td>\n",
       "    </tr>\n",
       "    <tr>\n",
       "      <th>0</th>\n",
       "      <td>0</td>\n",
       "      <td>1</td>\n",
       "      <td>1</td>\n",
       "      <td>5</td>\n",
       "      <td>1695918</td>\n",
       "      <td>6.96</td>\n",
       "      <td>3.92</td>\n",
       "      <td>7.19</td>\n",
       "      <td>6.05</td>\n",
       "      <td>4.0</td>\n",
       "    </tr>\n",
       "    <tr>\n",
       "      <th>0</th>\n",
       "      <td>0</td>\n",
       "      <td>1</td>\n",
       "      <td>1</td>\n",
       "      <td>5</td>\n",
       "      <td>1695918</td>\n",
       "      <td>6.96</td>\n",
       "      <td>3.92</td>\n",
       "      <td>7.19</td>\n",
       "      <td>6.05</td>\n",
       "      <td>4.0</td>\n",
       "    </tr>\n",
       "    <tr>\n",
       "      <th>0</th>\n",
       "      <td>0</td>\n",
       "      <td>1</td>\n",
       "      <td>1</td>\n",
       "      <td>5</td>\n",
       "      <td>1695918</td>\n",
       "      <td>6.96</td>\n",
       "      <td>3.92</td>\n",
       "      <td>7.19</td>\n",
       "      <td>6.05</td>\n",
       "      <td>4.0</td>\n",
       "    </tr>\n",
       "    <tr>\n",
       "      <th>0</th>\n",
       "      <td>0</td>\n",
       "      <td>1</td>\n",
       "      <td>1</td>\n",
       "      <td>5</td>\n",
       "      <td>1695918</td>\n",
       "      <td>6.96</td>\n",
       "      <td>3.92</td>\n",
       "      <td>7.19</td>\n",
       "      <td>6.05</td>\n",
       "      <td>4.0</td>\n",
       "    </tr>\n",
       "    <tr>\n",
       "      <th>0</th>\n",
       "      <td>0</td>\n",
       "      <td>1</td>\n",
       "      <td>1</td>\n",
       "      <td>5</td>\n",
       "      <td>1695918</td>\n",
       "      <td>6.96</td>\n",
       "      <td>3.92</td>\n",
       "      <td>7.19</td>\n",
       "      <td>6.05</td>\n",
       "      <td>4.0</td>\n",
       "    </tr>\n",
       "    <tr>\n",
       "      <th>0</th>\n",
       "      <td>0</td>\n",
       "      <td>1</td>\n",
       "      <td>1</td>\n",
       "      <td>5</td>\n",
       "      <td>1695918</td>\n",
       "      <td>6.96</td>\n",
       "      <td>3.92</td>\n",
       "      <td>7.19</td>\n",
       "      <td>6.05</td>\n",
       "      <td>4.0</td>\n",
       "    </tr>\n",
       "    <tr>\n",
       "      <th>1</th>\n",
       "      <td>1</td>\n",
       "      <td>1</td>\n",
       "      <td>2</td>\n",
       "      <td>18</td>\n",
       "      <td>2714905</td>\n",
       "      <td>7.23</td>\n",
       "      <td>7.15</td>\n",
       "      <td>6.94</td>\n",
       "      <td>8.01</td>\n",
       "      <td>4.0</td>\n",
       "    </tr>\n",
       "    <tr>\n",
       "      <th>1</th>\n",
       "      <td>1</td>\n",
       "      <td>1</td>\n",
       "      <td>2</td>\n",
       "      <td>18</td>\n",
       "      <td>2714905</td>\n",
       "      <td>7.23</td>\n",
       "      <td>7.15</td>\n",
       "      <td>6.94</td>\n",
       "      <td>8.01</td>\n",
       "      <td>4.0</td>\n",
       "    </tr>\n",
       "    <tr>\n",
       "      <th>1</th>\n",
       "      <td>1</td>\n",
       "      <td>1</td>\n",
       "      <td>2</td>\n",
       "      <td>18</td>\n",
       "      <td>2714905</td>\n",
       "      <td>7.23</td>\n",
       "      <td>7.15</td>\n",
       "      <td>6.94</td>\n",
       "      <td>8.01</td>\n",
       "      <td>4.0</td>\n",
       "    </tr>\n",
       "    <tr>\n",
       "      <th>1</th>\n",
       "      <td>1</td>\n",
       "      <td>1</td>\n",
       "      <td>2</td>\n",
       "      <td>18</td>\n",
       "      <td>2714905</td>\n",
       "      <td>7.23</td>\n",
       "      <td>7.15</td>\n",
       "      <td>6.94</td>\n",
       "      <td>8.01</td>\n",
       "      <td>4.0</td>\n",
       "    </tr>\n",
       "    <tr>\n",
       "      <th>1</th>\n",
       "      <td>1</td>\n",
       "      <td>1</td>\n",
       "      <td>2</td>\n",
       "      <td>18</td>\n",
       "      <td>2714905</td>\n",
       "      <td>7.23</td>\n",
       "      <td>7.15</td>\n",
       "      <td>6.94</td>\n",
       "      <td>8.01</td>\n",
       "      <td>4.0</td>\n",
       "    </tr>\n",
       "    <tr>\n",
       "      <th>1</th>\n",
       "      <td>1</td>\n",
       "      <td>1</td>\n",
       "      <td>2</td>\n",
       "      <td>18</td>\n",
       "      <td>2714905</td>\n",
       "      <td>7.23</td>\n",
       "      <td>7.15</td>\n",
       "      <td>6.94</td>\n",
       "      <td>8.01</td>\n",
       "      <td>4.0</td>\n",
       "    </tr>\n",
       "    <tr>\n",
       "      <th>1</th>\n",
       "      <td>1</td>\n",
       "      <td>1</td>\n",
       "      <td>2</td>\n",
       "      <td>18</td>\n",
       "      <td>2714905</td>\n",
       "      <td>7.23</td>\n",
       "      <td>7.15</td>\n",
       "      <td>6.94</td>\n",
       "      <td>8.01</td>\n",
       "      <td>4.0</td>\n",
       "    </tr>\n",
       "    <tr>\n",
       "      <th>1</th>\n",
       "      <td>1</td>\n",
       "      <td>1</td>\n",
       "      <td>2</td>\n",
       "      <td>18</td>\n",
       "      <td>2714905</td>\n",
       "      <td>7.23</td>\n",
       "      <td>7.15</td>\n",
       "      <td>6.94</td>\n",
       "      <td>8.01</td>\n",
       "      <td>4.0</td>\n",
       "    </tr>\n",
       "    <tr>\n",
       "      <th>1</th>\n",
       "      <td>1</td>\n",
       "      <td>1</td>\n",
       "      <td>2</td>\n",
       "      <td>18</td>\n",
       "      <td>2714905</td>\n",
       "      <td>7.23</td>\n",
       "      <td>7.15</td>\n",
       "      <td>6.94</td>\n",
       "      <td>8.01</td>\n",
       "      <td>4.0</td>\n",
       "    </tr>\n",
       "    <tr>\n",
       "      <th>1</th>\n",
       "      <td>1</td>\n",
       "      <td>1</td>\n",
       "      <td>2</td>\n",
       "      <td>18</td>\n",
       "      <td>2714905</td>\n",
       "      <td>7.23</td>\n",
       "      <td>7.15</td>\n",
       "      <td>6.94</td>\n",
       "      <td>8.01</td>\n",
       "      <td>4.0</td>\n",
       "    </tr>\n",
       "    <tr>\n",
       "      <th>1</th>\n",
       "      <td>1</td>\n",
       "      <td>1</td>\n",
       "      <td>2</td>\n",
       "      <td>18</td>\n",
       "      <td>2714905</td>\n",
       "      <td>7.23</td>\n",
       "      <td>7.15</td>\n",
       "      <td>6.94</td>\n",
       "      <td>8.01</td>\n",
       "      <td>4.0</td>\n",
       "    </tr>\n",
       "    <tr>\n",
       "      <th>1</th>\n",
       "      <td>1</td>\n",
       "      <td>1</td>\n",
       "      <td>2</td>\n",
       "      <td>18</td>\n",
       "      <td>2714905</td>\n",
       "      <td>7.23</td>\n",
       "      <td>7.15</td>\n",
       "      <td>6.94</td>\n",
       "      <td>8.01</td>\n",
       "      <td>4.0</td>\n",
       "    </tr>\n",
       "    <tr>\n",
       "      <th>1</th>\n",
       "      <td>1</td>\n",
       "      <td>1</td>\n",
       "      <td>2</td>\n",
       "      <td>18</td>\n",
       "      <td>2714905</td>\n",
       "      <td>7.23</td>\n",
       "      <td>7.15</td>\n",
       "      <td>6.94</td>\n",
       "      <td>8.01</td>\n",
       "      <td>4.0</td>\n",
       "    </tr>\n",
       "    <tr>\n",
       "      <th>1</th>\n",
       "      <td>1</td>\n",
       "      <td>1</td>\n",
       "      <td>2</td>\n",
       "      <td>18</td>\n",
       "      <td>2714905</td>\n",
       "      <td>7.23</td>\n",
       "      <td>7.15</td>\n",
       "      <td>6.94</td>\n",
       "      <td>8.01</td>\n",
       "      <td>4.0</td>\n",
       "    </tr>\n",
       "    <tr>\n",
       "      <th>1</th>\n",
       "      <td>1</td>\n",
       "      <td>1</td>\n",
       "      <td>2</td>\n",
       "      <td>18</td>\n",
       "      <td>2714905</td>\n",
       "      <td>7.23</td>\n",
       "      <td>7.15</td>\n",
       "      <td>6.94</td>\n",
       "      <td>8.01</td>\n",
       "      <td>4.0</td>\n",
       "    </tr>\n",
       "    <tr>\n",
       "      <th>1</th>\n",
       "      <td>1</td>\n",
       "      <td>1</td>\n",
       "      <td>2</td>\n",
       "      <td>18</td>\n",
       "      <td>2714905</td>\n",
       "      <td>7.23</td>\n",
       "      <td>7.15</td>\n",
       "      <td>6.94</td>\n",
       "      <td>8.01</td>\n",
       "      <td>4.0</td>\n",
       "    </tr>\n",
       "    <tr>\n",
       "      <th>1</th>\n",
       "      <td>1</td>\n",
       "      <td>1</td>\n",
       "      <td>2</td>\n",
       "      <td>18</td>\n",
       "      <td>2714905</td>\n",
       "      <td>7.23</td>\n",
       "      <td>7.15</td>\n",
       "      <td>6.94</td>\n",
       "      <td>8.01</td>\n",
       "      <td>4.0</td>\n",
       "    </tr>\n",
       "    <tr>\n",
       "      <th>1</th>\n",
       "      <td>1</td>\n",
       "      <td>1</td>\n",
       "      <td>2</td>\n",
       "      <td>18</td>\n",
       "      <td>2714905</td>\n",
       "      <td>7.23</td>\n",
       "      <td>7.15</td>\n",
       "      <td>6.94</td>\n",
       "      <td>8.01</td>\n",
       "      <td>4.0</td>\n",
       "    </tr>\n",
       "    <tr>\n",
       "      <th>1</th>\n",
       "      <td>1</td>\n",
       "      <td>1</td>\n",
       "      <td>2</td>\n",
       "      <td>18</td>\n",
       "      <td>2714905</td>\n",
       "      <td>7.23</td>\n",
       "      <td>7.15</td>\n",
       "      <td>6.94</td>\n",
       "      <td>8.01</td>\n",
       "      <td>4.0</td>\n",
       "    </tr>\n",
       "    <tr>\n",
       "      <th>1</th>\n",
       "      <td>1</td>\n",
       "      <td>1</td>\n",
       "      <td>2</td>\n",
       "      <td>18</td>\n",
       "      <td>2714905</td>\n",
       "      <td>7.23</td>\n",
       "      <td>7.15</td>\n",
       "      <td>6.94</td>\n",
       "      <td>8.01</td>\n",
       "      <td>4.0</td>\n",
       "    </tr>\n",
       "  </tbody>\n",
       "</table>\n",
       "</div>"
      ],
      "text/plain": [
       "   Unnamed: 0  Participant_id  Trial  Experiment_id  Start_time  Valence  \\\n",
       "0           0               1      1              5     1695918     6.96   \n",
       "0           0               1      1              5     1695918     6.96   \n",
       "0           0               1      1              5     1695918     6.96   \n",
       "0           0               1      1              5     1695918     6.96   \n",
       "0           0               1      1              5     1695918     6.96   \n",
       "0           0               1      1              5     1695918     6.96   \n",
       "0           0               1      1              5     1695918     6.96   \n",
       "0           0               1      1              5     1695918     6.96   \n",
       "0           0               1      1              5     1695918     6.96   \n",
       "0           0               1      1              5     1695918     6.96   \n",
       "0           0               1      1              5     1695918     6.96   \n",
       "0           0               1      1              5     1695918     6.96   \n",
       "0           0               1      1              5     1695918     6.96   \n",
       "0           0               1      1              5     1695918     6.96   \n",
       "0           0               1      1              5     1695918     6.96   \n",
       "0           0               1      1              5     1695918     6.96   \n",
       "0           0               1      1              5     1695918     6.96   \n",
       "0           0               1      1              5     1695918     6.96   \n",
       "0           0               1      1              5     1695918     6.96   \n",
       "1           1               1      2             18     2714905     7.23   \n",
       "1           1               1      2             18     2714905     7.23   \n",
       "1           1               1      2             18     2714905     7.23   \n",
       "1           1               1      2             18     2714905     7.23   \n",
       "1           1               1      2             18     2714905     7.23   \n",
       "1           1               1      2             18     2714905     7.23   \n",
       "1           1               1      2             18     2714905     7.23   \n",
       "1           1               1      2             18     2714905     7.23   \n",
       "1           1               1      2             18     2714905     7.23   \n",
       "1           1               1      2             18     2714905     7.23   \n",
       "1           1               1      2             18     2714905     7.23   \n",
       "1           1               1      2             18     2714905     7.23   \n",
       "1           1               1      2             18     2714905     7.23   \n",
       "1           1               1      2             18     2714905     7.23   \n",
       "1           1               1      2             18     2714905     7.23   \n",
       "1           1               1      2             18     2714905     7.23   \n",
       "1           1               1      2             18     2714905     7.23   \n",
       "1           1               1      2             18     2714905     7.23   \n",
       "1           1               1      2             18     2714905     7.23   \n",
       "1           1               1      2             18     2714905     7.23   \n",
       "\n",
       "   Arousal  Dominance  Liking  Familiarity  \n",
       "0     3.92       7.19    6.05          4.0  \n",
       "0     3.92       7.19    6.05          4.0  \n",
       "0     3.92       7.19    6.05          4.0  \n",
       "0     3.92       7.19    6.05          4.0  \n",
       "0     3.92       7.19    6.05          4.0  \n",
       "0     3.92       7.19    6.05          4.0  \n",
       "0     3.92       7.19    6.05          4.0  \n",
       "0     3.92       7.19    6.05          4.0  \n",
       "0     3.92       7.19    6.05          4.0  \n",
       "0     3.92       7.19    6.05          4.0  \n",
       "0     3.92       7.19    6.05          4.0  \n",
       "0     3.92       7.19    6.05          4.0  \n",
       "0     3.92       7.19    6.05          4.0  \n",
       "0     3.92       7.19    6.05          4.0  \n",
       "0     3.92       7.19    6.05          4.0  \n",
       "0     3.92       7.19    6.05          4.0  \n",
       "0     3.92       7.19    6.05          4.0  \n",
       "0     3.92       7.19    6.05          4.0  \n",
       "0     3.92       7.19    6.05          4.0  \n",
       "1     7.15       6.94    8.01          4.0  \n",
       "1     7.15       6.94    8.01          4.0  \n",
       "1     7.15       6.94    8.01          4.0  \n",
       "1     7.15       6.94    8.01          4.0  \n",
       "1     7.15       6.94    8.01          4.0  \n",
       "1     7.15       6.94    8.01          4.0  \n",
       "1     7.15       6.94    8.01          4.0  \n",
       "1     7.15       6.94    8.01          4.0  \n",
       "1     7.15       6.94    8.01          4.0  \n",
       "1     7.15       6.94    8.01          4.0  \n",
       "1     7.15       6.94    8.01          4.0  \n",
       "1     7.15       6.94    8.01          4.0  \n",
       "1     7.15       6.94    8.01          4.0  \n",
       "1     7.15       6.94    8.01          4.0  \n",
       "1     7.15       6.94    8.01          4.0  \n",
       "1     7.15       6.94    8.01          4.0  \n",
       "1     7.15       6.94    8.01          4.0  \n",
       "1     7.15       6.94    8.01          4.0  \n",
       "1     7.15       6.94    8.01          4.0  \n",
       "1     7.15       6.94    8.01          4.0  "
      ]
     },
     "execution_count": 71,
     "metadata": {},
     "output_type": "execute_result"
    }
   ],
   "source": [
    "participant_ratings_replicated=pd.concat([participant_ratings_drop_csv]*20).sort_index()\n",
    "participant_ratings_replicated[1:40]"
   ]
  },
  {
   "cell_type": "code",
   "execution_count": 72,
   "metadata": {},
   "outputs": [],
   "source": [
    "participant_ratings_replicated.to_csv(\"participant_ratings_replicated.csv\",index=False)"
   ]
  },
  {
   "cell_type": "code",
   "execution_count": 69,
   "metadata": {},
   "outputs": [
    {
     "data": {
      "text/html": [
       "<div>\n",
       "<style scoped>\n",
       "    .dataframe tbody tr th:only-of-type {\n",
       "        vertical-align: middle;\n",
       "    }\n",
       "\n",
       "    .dataframe tbody tr th {\n",
       "        vertical-align: top;\n",
       "    }\n",
       "\n",
       "    .dataframe thead th {\n",
       "        text-align: right;\n",
       "    }\n",
       "</style>\n",
       "<table border=\"1\" class=\"dataframe\">\n",
       "  <thead>\n",
       "    <tr style=\"text-align: right;\">\n",
       "      <th></th>\n",
       "      <th>Unnamed: 0</th>\n",
       "      <th>Participant_id</th>\n",
       "      <th>Trial</th>\n",
       "      <th>Experiment_id</th>\n",
       "      <th>Start_time</th>\n",
       "      <th>Valence</th>\n",
       "      <th>Arousal</th>\n",
       "      <th>Dominance</th>\n",
       "      <th>Liking</th>\n",
       "      <th>Familiarity</th>\n",
       "    </tr>\n",
       "  </thead>\n",
       "  <tbody>\n",
       "    <tr>\n",
       "      <th>0</th>\n",
       "      <td>0</td>\n",
       "      <td>1</td>\n",
       "      <td>1</td>\n",
       "      <td>5</td>\n",
       "      <td>1695918</td>\n",
       "      <td>6.96</td>\n",
       "      <td>3.92</td>\n",
       "      <td>7.19</td>\n",
       "      <td>6.05</td>\n",
       "      <td>4.0</td>\n",
       "    </tr>\n",
       "    <tr>\n",
       "      <th>1</th>\n",
       "      <td>0</td>\n",
       "      <td>1</td>\n",
       "      <td>1</td>\n",
       "      <td>5</td>\n",
       "      <td>1695918</td>\n",
       "      <td>6.96</td>\n",
       "      <td>3.92</td>\n",
       "      <td>7.19</td>\n",
       "      <td>6.05</td>\n",
       "      <td>4.0</td>\n",
       "    </tr>\n",
       "    <tr>\n",
       "      <th>2</th>\n",
       "      <td>0</td>\n",
       "      <td>1</td>\n",
       "      <td>1</td>\n",
       "      <td>5</td>\n",
       "      <td>1695918</td>\n",
       "      <td>6.96</td>\n",
       "      <td>3.92</td>\n",
       "      <td>7.19</td>\n",
       "      <td>6.05</td>\n",
       "      <td>4.0</td>\n",
       "    </tr>\n",
       "    <tr>\n",
       "      <th>3</th>\n",
       "      <td>0</td>\n",
       "      <td>1</td>\n",
       "      <td>1</td>\n",
       "      <td>5</td>\n",
       "      <td>1695918</td>\n",
       "      <td>6.96</td>\n",
       "      <td>3.92</td>\n",
       "      <td>7.19</td>\n",
       "      <td>6.05</td>\n",
       "      <td>4.0</td>\n",
       "    </tr>\n",
       "    <tr>\n",
       "      <th>4</th>\n",
       "      <td>0</td>\n",
       "      <td>1</td>\n",
       "      <td>1</td>\n",
       "      <td>5</td>\n",
       "      <td>1695918</td>\n",
       "      <td>6.96</td>\n",
       "      <td>3.92</td>\n",
       "      <td>7.19</td>\n",
       "      <td>6.05</td>\n",
       "      <td>4.0</td>\n",
       "    </tr>\n",
       "    <tr>\n",
       "      <th>...</th>\n",
       "      <td>...</td>\n",
       "      <td>...</td>\n",
       "      <td>...</td>\n",
       "      <td>...</td>\n",
       "      <td>...</td>\n",
       "      <td>...</td>\n",
       "      <td>...</td>\n",
       "      <td>...</td>\n",
       "      <td>...</td>\n",
       "      <td>...</td>\n",
       "    </tr>\n",
       "    <tr>\n",
       "      <th>17475</th>\n",
       "      <td>879</td>\n",
       "      <td>22</td>\n",
       "      <td>40</td>\n",
       "      <td>35</td>\n",
       "      <td>37007533</td>\n",
       "      <td>1.99</td>\n",
       "      <td>7.08</td>\n",
       "      <td>4.08</td>\n",
       "      <td>1.00</td>\n",
       "      <td>1.0</td>\n",
       "    </tr>\n",
       "    <tr>\n",
       "      <th>17476</th>\n",
       "      <td>879</td>\n",
       "      <td>22</td>\n",
       "      <td>40</td>\n",
       "      <td>35</td>\n",
       "      <td>37007533</td>\n",
       "      <td>1.99</td>\n",
       "      <td>7.08</td>\n",
       "      <td>4.08</td>\n",
       "      <td>1.00</td>\n",
       "      <td>1.0</td>\n",
       "    </tr>\n",
       "    <tr>\n",
       "      <th>17477</th>\n",
       "      <td>879</td>\n",
       "      <td>22</td>\n",
       "      <td>40</td>\n",
       "      <td>35</td>\n",
       "      <td>37007533</td>\n",
       "      <td>1.99</td>\n",
       "      <td>7.08</td>\n",
       "      <td>4.08</td>\n",
       "      <td>1.00</td>\n",
       "      <td>1.0</td>\n",
       "    </tr>\n",
       "    <tr>\n",
       "      <th>17478</th>\n",
       "      <td>879</td>\n",
       "      <td>22</td>\n",
       "      <td>40</td>\n",
       "      <td>35</td>\n",
       "      <td>37007533</td>\n",
       "      <td>1.99</td>\n",
       "      <td>7.08</td>\n",
       "      <td>4.08</td>\n",
       "      <td>1.00</td>\n",
       "      <td>1.0</td>\n",
       "    </tr>\n",
       "    <tr>\n",
       "      <th>17479</th>\n",
       "      <td>879</td>\n",
       "      <td>22</td>\n",
       "      <td>40</td>\n",
       "      <td>35</td>\n",
       "      <td>37007533</td>\n",
       "      <td>1.99</td>\n",
       "      <td>7.08</td>\n",
       "      <td>4.08</td>\n",
       "      <td>1.00</td>\n",
       "      <td>1.0</td>\n",
       "    </tr>\n",
       "  </tbody>\n",
       "</table>\n",
       "<p>17480 rows × 10 columns</p>\n",
       "</div>"
      ],
      "text/plain": [
       "       Unnamed: 0  Participant_id  Trial  Experiment_id  Start_time  Valence  \\\n",
       "0               0               1      1              5     1695918     6.96   \n",
       "1               0               1      1              5     1695918     6.96   \n",
       "2               0               1      1              5     1695918     6.96   \n",
       "3               0               1      1              5     1695918     6.96   \n",
       "4               0               1      1              5     1695918     6.96   \n",
       "...           ...             ...    ...            ...         ...      ...   \n",
       "17475         879              22     40             35    37007533     1.99   \n",
       "17476         879              22     40             35    37007533     1.99   \n",
       "17477         879              22     40             35    37007533     1.99   \n",
       "17478         879              22     40             35    37007533     1.99   \n",
       "17479         879              22     40             35    37007533     1.99   \n",
       "\n",
       "       Arousal  Dominance  Liking  Familiarity  \n",
       "0         3.92       7.19    6.05          4.0  \n",
       "1         3.92       7.19    6.05          4.0  \n",
       "2         3.92       7.19    6.05          4.0  \n",
       "3         3.92       7.19    6.05          4.0  \n",
       "4         3.92       7.19    6.05          4.0  \n",
       "...        ...        ...     ...          ...  \n",
       "17475     7.08       4.08    1.00          1.0  \n",
       "17476     7.08       4.08    1.00          1.0  \n",
       "17477     7.08       4.08    1.00          1.0  \n",
       "17478     7.08       4.08    1.00          1.0  \n",
       "17479     7.08       4.08    1.00          1.0  \n",
       "\n",
       "[17480 rows x 10 columns]"
      ]
     },
     "execution_count": 69,
     "metadata": {},
     "output_type": "execute_result"
    }
   ],
   "source": [
    "participant_ratings_replicated=pd.read_csv('participant_ratings_replicated.csv')\n",
    "participant_ratings_replicated"
   ]
  },
  {
   "cell_type": "code",
   "execution_count": 70,
   "metadata": {},
   "outputs": [
    {
     "data": {
      "text/html": [
       "<div>\n",
       "<style scoped>\n",
       "    .dataframe tbody tr th:only-of-type {\n",
       "        vertical-align: middle;\n",
       "    }\n",
       "\n",
       "    .dataframe tbody tr th {\n",
       "        vertical-align: top;\n",
       "    }\n",
       "\n",
       "    .dataframe thead th {\n",
       "        text-align: right;\n",
       "    }\n",
       "</style>\n",
       "<table border=\"1\" class=\"dataframe\">\n",
       "  <thead>\n",
       "    <tr style=\"text-align: right;\">\n",
       "      <th></th>\n",
       "      <th>Unnamed: 0</th>\n",
       "      <th>Participant_id</th>\n",
       "      <th>Trial</th>\n",
       "      <th>Experiment_id</th>\n",
       "      <th>Start_time</th>\n",
       "      <th>Valence</th>\n",
       "      <th>Arousal</th>\n",
       "      <th>Dominance</th>\n",
       "      <th>Liking</th>\n",
       "      <th>Familiarity</th>\n",
       "      <th>face_pixels</th>\n",
       "    </tr>\n",
       "  </thead>\n",
       "  <tbody>\n",
       "    <tr>\n",
       "      <th>0</th>\n",
       "      <td>0</td>\n",
       "      <td>1</td>\n",
       "      <td>1</td>\n",
       "      <td>5</td>\n",
       "      <td>1695918</td>\n",
       "      <td>6.96</td>\n",
       "      <td>3.92</td>\n",
       "      <td>7.19</td>\n",
       "      <td>6.05</td>\n",
       "      <td>4.0</td>\n",
       "      <td>135 138 140 134 144 144 136 120 117 134 142 13...</td>\n",
       "    </tr>\n",
       "    <tr>\n",
       "      <th>1</th>\n",
       "      <td>0</td>\n",
       "      <td>1</td>\n",
       "      <td>1</td>\n",
       "      <td>5</td>\n",
       "      <td>1695918</td>\n",
       "      <td>6.96</td>\n",
       "      <td>3.92</td>\n",
       "      <td>7.19</td>\n",
       "      <td>6.05</td>\n",
       "      <td>4.0</td>\n",
       "      <td>135 141 133 143 138 118 113 138 138 138 137 12...</td>\n",
       "    </tr>\n",
       "    <tr>\n",
       "      <th>2</th>\n",
       "      <td>0</td>\n",
       "      <td>1</td>\n",
       "      <td>1</td>\n",
       "      <td>5</td>\n",
       "      <td>1695918</td>\n",
       "      <td>6.96</td>\n",
       "      <td>3.92</td>\n",
       "      <td>7.19</td>\n",
       "      <td>6.05</td>\n",
       "      <td>4.0</td>\n",
       "      <td>138 136 138 144 123 113 140 140 141 138 153 13...</td>\n",
       "    </tr>\n",
       "    <tr>\n",
       "      <th>3</th>\n",
       "      <td>0</td>\n",
       "      <td>1</td>\n",
       "      <td>1</td>\n",
       "      <td>5</td>\n",
       "      <td>1695918</td>\n",
       "      <td>6.96</td>\n",
       "      <td>3.92</td>\n",
       "      <td>7.19</td>\n",
       "      <td>6.05</td>\n",
       "      <td>4.0</td>\n",
       "      <td>138 135 138 136 140 134 117 128 139 138 136 13...</td>\n",
       "    </tr>\n",
       "    <tr>\n",
       "      <th>4</th>\n",
       "      <td>0</td>\n",
       "      <td>1</td>\n",
       "      <td>1</td>\n",
       "      <td>5</td>\n",
       "      <td>1695918</td>\n",
       "      <td>6.96</td>\n",
       "      <td>3.92</td>\n",
       "      <td>7.19</td>\n",
       "      <td>6.05</td>\n",
       "      <td>4.0</td>\n",
       "      <td>133 137 135 134 137 141 135 112 131 134 139 12...</td>\n",
       "    </tr>\n",
       "    <tr>\n",
       "      <th>...</th>\n",
       "      <td>...</td>\n",
       "      <td>...</td>\n",
       "      <td>...</td>\n",
       "      <td>...</td>\n",
       "      <td>...</td>\n",
       "      <td>...</td>\n",
       "      <td>...</td>\n",
       "      <td>...</td>\n",
       "      <td>...</td>\n",
       "      <td>...</td>\n",
       "      <td>...</td>\n",
       "    </tr>\n",
       "    <tr>\n",
       "      <th>17475</th>\n",
       "      <td>879</td>\n",
       "      <td>22</td>\n",
       "      <td>40</td>\n",
       "      <td>35</td>\n",
       "      <td>37007533</td>\n",
       "      <td>1.99</td>\n",
       "      <td>7.08</td>\n",
       "      <td>4.08</td>\n",
       "      <td>1.00</td>\n",
       "      <td>1.0</td>\n",
       "      <td>135 135 135 141 105 73 90 57 51 53 58 61 66 52...</td>\n",
       "    </tr>\n",
       "    <tr>\n",
       "      <th>17476</th>\n",
       "      <td>879</td>\n",
       "      <td>22</td>\n",
       "      <td>40</td>\n",
       "      <td>35</td>\n",
       "      <td>37007533</td>\n",
       "      <td>1.99</td>\n",
       "      <td>7.08</td>\n",
       "      <td>4.08</td>\n",
       "      <td>1.00</td>\n",
       "      <td>1.0</td>\n",
       "      <td>135 130 137 148 165 124 77 53 51 46 45 25 26 3...</td>\n",
       "    </tr>\n",
       "    <tr>\n",
       "      <th>17477</th>\n",
       "      <td>879</td>\n",
       "      <td>22</td>\n",
       "      <td>40</td>\n",
       "      <td>35</td>\n",
       "      <td>37007533</td>\n",
       "      <td>1.99</td>\n",
       "      <td>7.08</td>\n",
       "      <td>4.08</td>\n",
       "      <td>1.00</td>\n",
       "      <td>1.0</td>\n",
       "      <td>136 134 136 137 145 73 98 70 55 49 63 66 70 61...</td>\n",
       "    </tr>\n",
       "    <tr>\n",
       "      <th>17478</th>\n",
       "      <td>879</td>\n",
       "      <td>22</td>\n",
       "      <td>40</td>\n",
       "      <td>35</td>\n",
       "      <td>37007533</td>\n",
       "      <td>1.99</td>\n",
       "      <td>7.08</td>\n",
       "      <td>4.08</td>\n",
       "      <td>1.00</td>\n",
       "      <td>1.0</td>\n",
       "      <td>134 132 135 134 163 148 108 62 42 52 49 35 19 ...</td>\n",
       "    </tr>\n",
       "    <tr>\n",
       "      <th>17479</th>\n",
       "      <td>879</td>\n",
       "      <td>22</td>\n",
       "      <td>40</td>\n",
       "      <td>35</td>\n",
       "      <td>37007533</td>\n",
       "      <td>1.99</td>\n",
       "      <td>7.08</td>\n",
       "      <td>4.08</td>\n",
       "      <td>1.00</td>\n",
       "      <td>1.0</td>\n",
       "      <td>134 130 141 159 133 94 53 50 44 50 27 17 30 32...</td>\n",
       "    </tr>\n",
       "  </tbody>\n",
       "</table>\n",
       "<p>17480 rows × 11 columns</p>\n",
       "</div>"
      ],
      "text/plain": [
       "       Unnamed: 0  Participant_id  Trial  Experiment_id  Start_time  Valence  \\\n",
       "0               0               1      1              5     1695918     6.96   \n",
       "1               0               1      1              5     1695918     6.96   \n",
       "2               0               1      1              5     1695918     6.96   \n",
       "3               0               1      1              5     1695918     6.96   \n",
       "4               0               1      1              5     1695918     6.96   \n",
       "...           ...             ...    ...            ...         ...      ...   \n",
       "17475         879              22     40             35    37007533     1.99   \n",
       "17476         879              22     40             35    37007533     1.99   \n",
       "17477         879              22     40             35    37007533     1.99   \n",
       "17478         879              22     40             35    37007533     1.99   \n",
       "17479         879              22     40             35    37007533     1.99   \n",
       "\n",
       "       Arousal  Dominance  Liking  Familiarity  \\\n",
       "0         3.92       7.19    6.05          4.0   \n",
       "1         3.92       7.19    6.05          4.0   \n",
       "2         3.92       7.19    6.05          4.0   \n",
       "3         3.92       7.19    6.05          4.0   \n",
       "4         3.92       7.19    6.05          4.0   \n",
       "...        ...        ...     ...          ...   \n",
       "17475     7.08       4.08    1.00          1.0   \n",
       "17476     7.08       4.08    1.00          1.0   \n",
       "17477     7.08       4.08    1.00          1.0   \n",
       "17478     7.08       4.08    1.00          1.0   \n",
       "17479     7.08       4.08    1.00          1.0   \n",
       "\n",
       "                                             face_pixels  \n",
       "0      135 138 140 134 144 144 136 120 117 134 142 13...  \n",
       "1      135 141 133 143 138 118 113 138 138 138 137 12...  \n",
       "2      138 136 138 144 123 113 140 140 141 138 153 13...  \n",
       "3      138 135 138 136 140 134 117 128 139 138 136 13...  \n",
       "4      133 137 135 134 137 141 135 112 131 134 139 12...  \n",
       "...                                                  ...  \n",
       "17475  135 135 135 141 105 73 90 57 51 53 58 61 66 52...  \n",
       "17476  135 130 137 148 165 124 77 53 51 46 45 25 26 3...  \n",
       "17477  136 134 136 137 145 73 98 70 55 49 63 66 70 61...  \n",
       "17478  134 132 135 134 163 148 108 62 42 52 49 35 19 ...  \n",
       "17479  134 130 141 159 133 94 53 50 44 50 27 17 30 32...  \n",
       "\n",
       "[17480 rows x 11 columns]"
      ]
     },
     "execution_count": 70,
     "metadata": {},
     "output_type": "execute_result"
    }
   ],
   "source": [
    "df_combine=pd.concat([participant_ratings_replicated,face_pixels], axis=1)\n",
    "df_combine"
   ]
  },
  {
   "cell_type": "code",
   "execution_count": 71,
   "metadata": {},
   "outputs": [
    {
     "data": {
      "text/html": [
       "<div>\n",
       "<style scoped>\n",
       "    .dataframe tbody tr th:only-of-type {\n",
       "        vertical-align: middle;\n",
       "    }\n",
       "\n",
       "    .dataframe tbody tr th {\n",
       "        vertical-align: top;\n",
       "    }\n",
       "\n",
       "    .dataframe thead th {\n",
       "        text-align: right;\n",
       "    }\n",
       "</style>\n",
       "<table border=\"1\" class=\"dataframe\">\n",
       "  <thead>\n",
       "    <tr style=\"text-align: right;\">\n",
       "      <th></th>\n",
       "      <th>Unnamed: 0</th>\n",
       "      <th>Participant_id</th>\n",
       "      <th>Trial</th>\n",
       "      <th>Experiment_id</th>\n",
       "      <th>Start_time</th>\n",
       "      <th>Valence</th>\n",
       "      <th>Arousal</th>\n",
       "      <th>Dominance</th>\n",
       "      <th>Liking</th>\n",
       "      <th>Familiarity</th>\n",
       "      <th>face_pixels</th>\n",
       "    </tr>\n",
       "  </thead>\n",
       "  <tbody>\n",
       "    <tr>\n",
       "      <th>17475</th>\n",
       "      <td>879</td>\n",
       "      <td>22</td>\n",
       "      <td>40</td>\n",
       "      <td>35</td>\n",
       "      <td>37007533</td>\n",
       "      <td>1.99</td>\n",
       "      <td>7.08</td>\n",
       "      <td>4.08</td>\n",
       "      <td>1.0</td>\n",
       "      <td>1.0</td>\n",
       "      <td>135 135 135 141 105 73 90 57 51 53 58 61 66 52...</td>\n",
       "    </tr>\n",
       "    <tr>\n",
       "      <th>17476</th>\n",
       "      <td>879</td>\n",
       "      <td>22</td>\n",
       "      <td>40</td>\n",
       "      <td>35</td>\n",
       "      <td>37007533</td>\n",
       "      <td>1.99</td>\n",
       "      <td>7.08</td>\n",
       "      <td>4.08</td>\n",
       "      <td>1.0</td>\n",
       "      <td>1.0</td>\n",
       "      <td>135 130 137 148 165 124 77 53 51 46 45 25 26 3...</td>\n",
       "    </tr>\n",
       "    <tr>\n",
       "      <th>17477</th>\n",
       "      <td>879</td>\n",
       "      <td>22</td>\n",
       "      <td>40</td>\n",
       "      <td>35</td>\n",
       "      <td>37007533</td>\n",
       "      <td>1.99</td>\n",
       "      <td>7.08</td>\n",
       "      <td>4.08</td>\n",
       "      <td>1.0</td>\n",
       "      <td>1.0</td>\n",
       "      <td>136 134 136 137 145 73 98 70 55 49 63 66 70 61...</td>\n",
       "    </tr>\n",
       "    <tr>\n",
       "      <th>17478</th>\n",
       "      <td>879</td>\n",
       "      <td>22</td>\n",
       "      <td>40</td>\n",
       "      <td>35</td>\n",
       "      <td>37007533</td>\n",
       "      <td>1.99</td>\n",
       "      <td>7.08</td>\n",
       "      <td>4.08</td>\n",
       "      <td>1.0</td>\n",
       "      <td>1.0</td>\n",
       "      <td>134 132 135 134 163 148 108 62 42 52 49 35 19 ...</td>\n",
       "    </tr>\n",
       "    <tr>\n",
       "      <th>17479</th>\n",
       "      <td>879</td>\n",
       "      <td>22</td>\n",
       "      <td>40</td>\n",
       "      <td>35</td>\n",
       "      <td>37007533</td>\n",
       "      <td>1.99</td>\n",
       "      <td>7.08</td>\n",
       "      <td>4.08</td>\n",
       "      <td>1.0</td>\n",
       "      <td>1.0</td>\n",
       "      <td>134 130 141 159 133 94 53 50 44 50 27 17 30 32...</td>\n",
       "    </tr>\n",
       "  </tbody>\n",
       "</table>\n",
       "</div>"
      ],
      "text/plain": [
       "       Unnamed: 0  Participant_id  Trial  Experiment_id  Start_time  Valence  \\\n",
       "17475         879              22     40             35    37007533     1.99   \n",
       "17476         879              22     40             35    37007533     1.99   \n",
       "17477         879              22     40             35    37007533     1.99   \n",
       "17478         879              22     40             35    37007533     1.99   \n",
       "17479         879              22     40             35    37007533     1.99   \n",
       "\n",
       "       Arousal  Dominance  Liking  Familiarity  \\\n",
       "17475     7.08       4.08     1.0          1.0   \n",
       "17476     7.08       4.08     1.0          1.0   \n",
       "17477     7.08       4.08     1.0          1.0   \n",
       "17478     7.08       4.08     1.0          1.0   \n",
       "17479     7.08       4.08     1.0          1.0   \n",
       "\n",
       "                                             face_pixels  \n",
       "17475  135 135 135 141 105 73 90 57 51 53 58 61 66 52...  \n",
       "17476  135 130 137 148 165 124 77 53 51 46 45 25 26 3...  \n",
       "17477  136 134 136 137 145 73 98 70 55 49 63 66 70 61...  \n",
       "17478  134 132 135 134 163 148 108 62 42 52 49 35 19 ...  \n",
       "17479  134 130 141 159 133 94 53 50 44 50 27 17 30 32...  "
      ]
     },
     "execution_count": 71,
     "metadata": {},
     "output_type": "execute_result"
    }
   ],
   "source": [
    "df_combine.tail()"
   ]
  },
  {
   "cell_type": "code",
   "execution_count": 72,
   "metadata": {},
   "outputs": [],
   "source": [
    "df_combine.to_csv('df_combine_all_20.csv',index=False) "
   ]
  },
  {
   "cell_type": "code",
   "execution_count": 2,
   "metadata": {},
   "outputs": [],
   "source": [
    "import pandas as pd"
   ]
  },
  {
   "cell_type": "code",
   "execution_count": 3,
   "metadata": {
    "scrolled": true
   },
   "outputs": [
    {
     "data": {
      "text/html": [
       "<div>\n",
       "<style scoped>\n",
       "    .dataframe tbody tr th:only-of-type {\n",
       "        vertical-align: middle;\n",
       "    }\n",
       "\n",
       "    .dataframe tbody tr th {\n",
       "        vertical-align: top;\n",
       "    }\n",
       "\n",
       "    .dataframe thead th {\n",
       "        text-align: right;\n",
       "    }\n",
       "</style>\n",
       "<table border=\"1\" class=\"dataframe\">\n",
       "  <thead>\n",
       "    <tr style=\"text-align: right;\">\n",
       "      <th></th>\n",
       "      <th>Unnamed: 0</th>\n",
       "      <th>Participant_id</th>\n",
       "      <th>Trial</th>\n",
       "      <th>Experiment_id</th>\n",
       "      <th>Start_time</th>\n",
       "      <th>Valence</th>\n",
       "      <th>Arousal</th>\n",
       "      <th>Dominance</th>\n",
       "      <th>Liking</th>\n",
       "      <th>Familiarity</th>\n",
       "      <th>face_pixels</th>\n",
       "    </tr>\n",
       "  </thead>\n",
       "  <tbody>\n",
       "    <tr>\n",
       "      <th>0</th>\n",
       "      <td>0</td>\n",
       "      <td>1</td>\n",
       "      <td>1</td>\n",
       "      <td>5</td>\n",
       "      <td>1695918</td>\n",
       "      <td>6.96</td>\n",
       "      <td>3.92</td>\n",
       "      <td>7.19</td>\n",
       "      <td>6.05</td>\n",
       "      <td>4.0</td>\n",
       "      <td>135 138 140 134 144 144 136 120 117 134 142 13...</td>\n",
       "    </tr>\n",
       "    <tr>\n",
       "      <th>1</th>\n",
       "      <td>0</td>\n",
       "      <td>1</td>\n",
       "      <td>1</td>\n",
       "      <td>5</td>\n",
       "      <td>1695918</td>\n",
       "      <td>6.96</td>\n",
       "      <td>3.92</td>\n",
       "      <td>7.19</td>\n",
       "      <td>6.05</td>\n",
       "      <td>4.0</td>\n",
       "      <td>135 141 133 143 138 118 113 138 138 138 137 12...</td>\n",
       "    </tr>\n",
       "    <tr>\n",
       "      <th>2</th>\n",
       "      <td>0</td>\n",
       "      <td>1</td>\n",
       "      <td>1</td>\n",
       "      <td>5</td>\n",
       "      <td>1695918</td>\n",
       "      <td>6.96</td>\n",
       "      <td>3.92</td>\n",
       "      <td>7.19</td>\n",
       "      <td>6.05</td>\n",
       "      <td>4.0</td>\n",
       "      <td>138 136 138 144 123 113 140 140 141 138 153 13...</td>\n",
       "    </tr>\n",
       "    <tr>\n",
       "      <th>3</th>\n",
       "      <td>0</td>\n",
       "      <td>1</td>\n",
       "      <td>1</td>\n",
       "      <td>5</td>\n",
       "      <td>1695918</td>\n",
       "      <td>6.96</td>\n",
       "      <td>3.92</td>\n",
       "      <td>7.19</td>\n",
       "      <td>6.05</td>\n",
       "      <td>4.0</td>\n",
       "      <td>138 135 138 136 140 134 117 128 139 138 136 13...</td>\n",
       "    </tr>\n",
       "    <tr>\n",
       "      <th>4</th>\n",
       "      <td>0</td>\n",
       "      <td>1</td>\n",
       "      <td>1</td>\n",
       "      <td>5</td>\n",
       "      <td>1695918</td>\n",
       "      <td>6.96</td>\n",
       "      <td>3.92</td>\n",
       "      <td>7.19</td>\n",
       "      <td>6.05</td>\n",
       "      <td>4.0</td>\n",
       "      <td>133 137 135 134 137 141 135 112 131 134 139 12...</td>\n",
       "    </tr>\n",
       "    <tr>\n",
       "      <th>...</th>\n",
       "      <td>...</td>\n",
       "      <td>...</td>\n",
       "      <td>...</td>\n",
       "      <td>...</td>\n",
       "      <td>...</td>\n",
       "      <td>...</td>\n",
       "      <td>...</td>\n",
       "      <td>...</td>\n",
       "      <td>...</td>\n",
       "      <td>...</td>\n",
       "      <td>...</td>\n",
       "    </tr>\n",
       "    <tr>\n",
       "      <th>17475</th>\n",
       "      <td>879</td>\n",
       "      <td>22</td>\n",
       "      <td>40</td>\n",
       "      <td>35</td>\n",
       "      <td>37007533</td>\n",
       "      <td>1.99</td>\n",
       "      <td>7.08</td>\n",
       "      <td>4.08</td>\n",
       "      <td>1.00</td>\n",
       "      <td>1.0</td>\n",
       "      <td>135 135 135 141 105 73 90 57 51 53 58 61 66 52...</td>\n",
       "    </tr>\n",
       "    <tr>\n",
       "      <th>17476</th>\n",
       "      <td>879</td>\n",
       "      <td>22</td>\n",
       "      <td>40</td>\n",
       "      <td>35</td>\n",
       "      <td>37007533</td>\n",
       "      <td>1.99</td>\n",
       "      <td>7.08</td>\n",
       "      <td>4.08</td>\n",
       "      <td>1.00</td>\n",
       "      <td>1.0</td>\n",
       "      <td>135 130 137 148 165 124 77 53 51 46 45 25 26 3...</td>\n",
       "    </tr>\n",
       "    <tr>\n",
       "      <th>17477</th>\n",
       "      <td>879</td>\n",
       "      <td>22</td>\n",
       "      <td>40</td>\n",
       "      <td>35</td>\n",
       "      <td>37007533</td>\n",
       "      <td>1.99</td>\n",
       "      <td>7.08</td>\n",
       "      <td>4.08</td>\n",
       "      <td>1.00</td>\n",
       "      <td>1.0</td>\n",
       "      <td>136 134 136 137 145 73 98 70 55 49 63 66 70 61...</td>\n",
       "    </tr>\n",
       "    <tr>\n",
       "      <th>17478</th>\n",
       "      <td>879</td>\n",
       "      <td>22</td>\n",
       "      <td>40</td>\n",
       "      <td>35</td>\n",
       "      <td>37007533</td>\n",
       "      <td>1.99</td>\n",
       "      <td>7.08</td>\n",
       "      <td>4.08</td>\n",
       "      <td>1.00</td>\n",
       "      <td>1.0</td>\n",
       "      <td>134 132 135 134 163 148 108 62 42 52 49 35 19 ...</td>\n",
       "    </tr>\n",
       "    <tr>\n",
       "      <th>17479</th>\n",
       "      <td>879</td>\n",
       "      <td>22</td>\n",
       "      <td>40</td>\n",
       "      <td>35</td>\n",
       "      <td>37007533</td>\n",
       "      <td>1.99</td>\n",
       "      <td>7.08</td>\n",
       "      <td>4.08</td>\n",
       "      <td>1.00</td>\n",
       "      <td>1.0</td>\n",
       "      <td>134 130 141 159 133 94 53 50 44 50 27 17 30 32...</td>\n",
       "    </tr>\n",
       "  </tbody>\n",
       "</table>\n",
       "<p>17480 rows × 11 columns</p>\n",
       "</div>"
      ],
      "text/plain": [
       "       Unnamed: 0  Participant_id  Trial  Experiment_id  Start_time  Valence  \\\n",
       "0               0               1      1              5     1695918     6.96   \n",
       "1               0               1      1              5     1695918     6.96   \n",
       "2               0               1      1              5     1695918     6.96   \n",
       "3               0               1      1              5     1695918     6.96   \n",
       "4               0               1      1              5     1695918     6.96   \n",
       "...           ...             ...    ...            ...         ...      ...   \n",
       "17475         879              22     40             35    37007533     1.99   \n",
       "17476         879              22     40             35    37007533     1.99   \n",
       "17477         879              22     40             35    37007533     1.99   \n",
       "17478         879              22     40             35    37007533     1.99   \n",
       "17479         879              22     40             35    37007533     1.99   \n",
       "\n",
       "       Arousal  Dominance  Liking  Familiarity  \\\n",
       "0         3.92       7.19    6.05          4.0   \n",
       "1         3.92       7.19    6.05          4.0   \n",
       "2         3.92       7.19    6.05          4.0   \n",
       "3         3.92       7.19    6.05          4.0   \n",
       "4         3.92       7.19    6.05          4.0   \n",
       "...        ...        ...     ...          ...   \n",
       "17475     7.08       4.08    1.00          1.0   \n",
       "17476     7.08       4.08    1.00          1.0   \n",
       "17477     7.08       4.08    1.00          1.0   \n",
       "17478     7.08       4.08    1.00          1.0   \n",
       "17479     7.08       4.08    1.00          1.0   \n",
       "\n",
       "                                             face_pixels  \n",
       "0      135 138 140 134 144 144 136 120 117 134 142 13...  \n",
       "1      135 141 133 143 138 118 113 138 138 138 137 12...  \n",
       "2      138 136 138 144 123 113 140 140 141 138 153 13...  \n",
       "3      138 135 138 136 140 134 117 128 139 138 136 13...  \n",
       "4      133 137 135 134 137 141 135 112 131 134 139 12...  \n",
       "...                                                  ...  \n",
       "17475  135 135 135 141 105 73 90 57 51 53 58 61 66 52...  \n",
       "17476  135 130 137 148 165 124 77 53 51 46 45 25 26 3...  \n",
       "17477  136 134 136 137 145 73 98 70 55 49 63 66 70 61...  \n",
       "17478  134 132 135 134 163 148 108 62 42 52 49 35 19 ...  \n",
       "17479  134 130 141 159 133 94 53 50 44 50 27 17 30 32...  \n",
       "\n",
       "[17480 rows x 11 columns]"
      ]
     },
     "execution_count": 3,
     "metadata": {},
     "output_type": "execute_result"
    }
   ],
   "source": [
    "df_combine=pd.read_csv(\"df_combine_all_20.csv\")\n",
    "df_combine"
   ]
  },
  {
   "cell_type": "code",
   "execution_count": 4,
   "metadata": {},
   "outputs": [
    {
     "data": {
      "text/plain": [
       "dtype('O')"
      ]
     },
     "execution_count": 4,
     "metadata": {},
     "output_type": "execute_result"
    }
   ],
   "source": [
    "df_combine.face_pixels.dtype"
   ]
  },
  {
   "cell_type": "code",
   "execution_count": 5,
   "metadata": {
    "scrolled": true
   },
   "outputs": [],
   "source": [
    "#df_combine_filtered = df_combine[df_combine['face_pixels'].notnull()]\n",
    "#df_combine_filtered"
   ]
  },
  {
   "cell_type": "code",
   "execution_count": 6,
   "metadata": {},
   "outputs": [],
   "source": [
    "#df_combine_filtered[118:120]"
   ]
  },
  {
   "cell_type": "code",
   "execution_count": 7,
   "metadata": {},
   "outputs": [],
   "source": [
    "#len(df_combine_filtered)"
   ]
  },
  {
   "cell_type": "code",
   "execution_count": 8,
   "metadata": {},
   "outputs": [],
   "source": [
    "#15732  13984 14858"
   ]
  },
  {
   "cell_type": "code",
   "execution_count": 9,
   "metadata": {},
   "outputs": [],
   "source": [
    "Type_set=[]\n",
    "for i in range(17480):\n",
    "    if i<15732:\n",
    "        Type_set.append(\"Training_set\")\n",
    "    else:\n",
    "        Type_set.append(\"Testing_set\")"
   ]
  },
  {
   "cell_type": "code",
   "execution_count": 10,
   "metadata": {},
   "outputs": [
    {
     "data": {
      "text/plain": [
       "17480"
      ]
     },
     "execution_count": 10,
     "metadata": {},
     "output_type": "execute_result"
    }
   ],
   "source": [
    "len(Type_set)"
   ]
  },
  {
   "cell_type": "code",
   "execution_count": 9,
   "metadata": {},
   "outputs": [],
   "source": [
    "#Type_set"
   ]
  },
  {
   "cell_type": "code",
   "execution_count": 12,
   "metadata": {},
   "outputs": [],
   "source": [
    "df_combine['Type_set'] = Type_set"
   ]
  },
  {
   "cell_type": "code",
   "execution_count": 13,
   "metadata": {},
   "outputs": [
    {
     "data": {
      "text/html": [
       "<div>\n",
       "<style scoped>\n",
       "    .dataframe tbody tr th:only-of-type {\n",
       "        vertical-align: middle;\n",
       "    }\n",
       "\n",
       "    .dataframe tbody tr th {\n",
       "        vertical-align: top;\n",
       "    }\n",
       "\n",
       "    .dataframe thead th {\n",
       "        text-align: right;\n",
       "    }\n",
       "</style>\n",
       "<table border=\"1\" class=\"dataframe\">\n",
       "  <thead>\n",
       "    <tr style=\"text-align: right;\">\n",
       "      <th></th>\n",
       "      <th>Unnamed: 0</th>\n",
       "      <th>Participant_id</th>\n",
       "      <th>Trial</th>\n",
       "      <th>Experiment_id</th>\n",
       "      <th>Start_time</th>\n",
       "      <th>Valence</th>\n",
       "      <th>Arousal</th>\n",
       "      <th>Dominance</th>\n",
       "      <th>Liking</th>\n",
       "      <th>Familiarity</th>\n",
       "      <th>face_pixels</th>\n",
       "      <th>Type_set</th>\n",
       "    </tr>\n",
       "  </thead>\n",
       "  <tbody>\n",
       "    <tr>\n",
       "      <th>0</th>\n",
       "      <td>0</td>\n",
       "      <td>1</td>\n",
       "      <td>1</td>\n",
       "      <td>5</td>\n",
       "      <td>1695918</td>\n",
       "      <td>6.96</td>\n",
       "      <td>3.92</td>\n",
       "      <td>7.19</td>\n",
       "      <td>6.05</td>\n",
       "      <td>4.0</td>\n",
       "      <td>135 138 140 134 144 144 136 120 117 134 142 13...</td>\n",
       "      <td>Training_set</td>\n",
       "    </tr>\n",
       "    <tr>\n",
       "      <th>1</th>\n",
       "      <td>0</td>\n",
       "      <td>1</td>\n",
       "      <td>1</td>\n",
       "      <td>5</td>\n",
       "      <td>1695918</td>\n",
       "      <td>6.96</td>\n",
       "      <td>3.92</td>\n",
       "      <td>7.19</td>\n",
       "      <td>6.05</td>\n",
       "      <td>4.0</td>\n",
       "      <td>135 141 133 143 138 118 113 138 138 138 137 12...</td>\n",
       "      <td>Training_set</td>\n",
       "    </tr>\n",
       "    <tr>\n",
       "      <th>2</th>\n",
       "      <td>0</td>\n",
       "      <td>1</td>\n",
       "      <td>1</td>\n",
       "      <td>5</td>\n",
       "      <td>1695918</td>\n",
       "      <td>6.96</td>\n",
       "      <td>3.92</td>\n",
       "      <td>7.19</td>\n",
       "      <td>6.05</td>\n",
       "      <td>4.0</td>\n",
       "      <td>138 136 138 144 123 113 140 140 141 138 153 13...</td>\n",
       "      <td>Training_set</td>\n",
       "    </tr>\n",
       "    <tr>\n",
       "      <th>3</th>\n",
       "      <td>0</td>\n",
       "      <td>1</td>\n",
       "      <td>1</td>\n",
       "      <td>5</td>\n",
       "      <td>1695918</td>\n",
       "      <td>6.96</td>\n",
       "      <td>3.92</td>\n",
       "      <td>7.19</td>\n",
       "      <td>6.05</td>\n",
       "      <td>4.0</td>\n",
       "      <td>138 135 138 136 140 134 117 128 139 138 136 13...</td>\n",
       "      <td>Training_set</td>\n",
       "    </tr>\n",
       "    <tr>\n",
       "      <th>4</th>\n",
       "      <td>0</td>\n",
       "      <td>1</td>\n",
       "      <td>1</td>\n",
       "      <td>5</td>\n",
       "      <td>1695918</td>\n",
       "      <td>6.96</td>\n",
       "      <td>3.92</td>\n",
       "      <td>7.19</td>\n",
       "      <td>6.05</td>\n",
       "      <td>4.0</td>\n",
       "      <td>133 137 135 134 137 141 135 112 131 134 139 12...</td>\n",
       "      <td>Training_set</td>\n",
       "    </tr>\n",
       "  </tbody>\n",
       "</table>\n",
       "</div>"
      ],
      "text/plain": [
       "   Unnamed: 0  Participant_id  Trial  Experiment_id  Start_time  Valence  \\\n",
       "0           0               1      1              5     1695918     6.96   \n",
       "1           0               1      1              5     1695918     6.96   \n",
       "2           0               1      1              5     1695918     6.96   \n",
       "3           0               1      1              5     1695918     6.96   \n",
       "4           0               1      1              5     1695918     6.96   \n",
       "\n",
       "   Arousal  Dominance  Liking  Familiarity  \\\n",
       "0     3.92       7.19    6.05          4.0   \n",
       "1     3.92       7.19    6.05          4.0   \n",
       "2     3.92       7.19    6.05          4.0   \n",
       "3     3.92       7.19    6.05          4.0   \n",
       "4     3.92       7.19    6.05          4.0   \n",
       "\n",
       "                                         face_pixels      Type_set  \n",
       "0  135 138 140 134 144 144 136 120 117 134 142 13...  Training_set  \n",
       "1  135 141 133 143 138 118 113 138 138 138 137 12...  Training_set  \n",
       "2  138 136 138 144 123 113 140 140 141 138 153 13...  Training_set  \n",
       "3  138 135 138 136 140 134 117 128 139 138 136 13...  Training_set  \n",
       "4  133 137 135 134 137 141 135 112 131 134 139 12...  Training_set  "
      ]
     },
     "execution_count": 13,
     "metadata": {},
     "output_type": "execute_result"
    }
   ],
   "source": [
    "df_combine.head()"
   ]
  },
  {
   "cell_type": "code",
   "execution_count": 14,
   "metadata": {},
   "outputs": [],
   "source": [
    "df_combine.loc[df_combine['Valence'] <=4.5, 'Valence_label'] = 0"
   ]
  },
  {
   "cell_type": "code",
   "execution_count": 15,
   "metadata": {},
   "outputs": [],
   "source": [
    "df_combine.loc[df_combine['Valence'] >4.5, 'Valence_label'] = 1"
   ]
  },
  {
   "cell_type": "code",
   "execution_count": 58,
   "metadata": {},
   "outputs": [],
   "source": [
    "df_combine.loc[df_combine['Arousal'] <=4.5, 'Arousal_label'] = 0\n",
    "df_combine.loc[df_combine['Arousal'] >4.5, 'Arousal_label'] = 1"
   ]
  },
  {
   "cell_type": "code",
   "execution_count": 59,
   "metadata": {},
   "outputs": [],
   "source": [
    "df_combine.loc[df_combine['Dominance'] <=4.5, 'Dominance_label'] = 0\n",
    "df_combine.loc[df_combine['Dominance'] >4.5, 'Dominance_label'] = 1"
   ]
  },
  {
   "cell_type": "code",
   "execution_count": 60,
   "metadata": {},
   "outputs": [],
   "source": [
    "df_combine.loc[df_combine['Liking'] <=4.5, 'Liking_label'] = 0\n",
    "df_combine.loc[df_combine['Liking'] >4.5, 'Liking_label'] = 1"
   ]
  },
  {
   "cell_type": "code",
   "execution_count": 63,
   "metadata": {
    "scrolled": true
   },
   "outputs": [
    {
     "data": {
      "text/html": [
       "<div>\n",
       "<style scoped>\n",
       "    .dataframe tbody tr th:only-of-type {\n",
       "        vertical-align: middle;\n",
       "    }\n",
       "\n",
       "    .dataframe tbody tr th {\n",
       "        vertical-align: top;\n",
       "    }\n",
       "\n",
       "    .dataframe thead th {\n",
       "        text-align: right;\n",
       "    }\n",
       "</style>\n",
       "<table border=\"1\" class=\"dataframe\">\n",
       "  <thead>\n",
       "    <tr style=\"text-align: right;\">\n",
       "      <th></th>\n",
       "      <th>Unnamed: 0</th>\n",
       "      <th>Participant_id</th>\n",
       "      <th>Trial</th>\n",
       "      <th>Experiment_id</th>\n",
       "      <th>Start_time</th>\n",
       "      <th>Valence</th>\n",
       "      <th>Arousal</th>\n",
       "      <th>Dominance</th>\n",
       "      <th>Liking</th>\n",
       "      <th>Familiarity</th>\n",
       "      <th>face_pixels</th>\n",
       "      <th>Type_set</th>\n",
       "      <th>Valence_label</th>\n",
       "      <th>Arousal_label</th>\n",
       "      <th>Dominance_label</th>\n",
       "      <th>Liking_label</th>\n",
       "    </tr>\n",
       "  </thead>\n",
       "  <tbody>\n",
       "    <tr>\n",
       "      <th>40</th>\n",
       "      <td>2</td>\n",
       "      <td>1</td>\n",
       "      <td>3</td>\n",
       "      <td>4</td>\n",
       "      <td>3586768</td>\n",
       "      <td>4.94</td>\n",
       "      <td>6.01</td>\n",
       "      <td>6.12</td>\n",
       "      <td>8.06</td>\n",
       "      <td>4.0</td>\n",
       "      <td>138 133 137 136 138 125 138 137 135 134 143 13...</td>\n",
       "      <td>Training_set</td>\n",
       "      <td>1.0</td>\n",
       "      <td>1.0</td>\n",
       "      <td>1.0</td>\n",
       "      <td>1.0</td>\n",
       "    </tr>\n",
       "    <tr>\n",
       "      <th>60</th>\n",
       "      <td>3</td>\n",
       "      <td>1</td>\n",
       "      <td>4</td>\n",
       "      <td>24</td>\n",
       "      <td>4493800</td>\n",
       "      <td>7.04</td>\n",
       "      <td>7.09</td>\n",
       "      <td>8.01</td>\n",
       "      <td>8.22</td>\n",
       "      <td>4.0</td>\n",
       "      <td>139 132 135 135 133 136 132 139 136 107 122 13...</td>\n",
       "      <td>Training_set</td>\n",
       "      <td>1.0</td>\n",
       "      <td>1.0</td>\n",
       "      <td>1.0</td>\n",
       "      <td>1.0</td>\n",
       "    </tr>\n",
       "    <tr>\n",
       "      <th>80</th>\n",
       "      <td>4</td>\n",
       "      <td>1</td>\n",
       "      <td>5</td>\n",
       "      <td>20</td>\n",
       "      <td>5362005</td>\n",
       "      <td>8.26</td>\n",
       "      <td>7.91</td>\n",
       "      <td>7.19</td>\n",
       "      <td>8.13</td>\n",
       "      <td>1.0</td>\n",
       "      <td>137 116 129 141 132 139 139 148 150 111 145 12...</td>\n",
       "      <td>Training_set</td>\n",
       "      <td>1.0</td>\n",
       "      <td>1.0</td>\n",
       "      <td>1.0</td>\n",
       "      <td>1.0</td>\n",
       "    </tr>\n",
       "    <tr>\n",
       "      <th>100</th>\n",
       "      <td>5</td>\n",
       "      <td>1</td>\n",
       "      <td>6</td>\n",
       "      <td>31</td>\n",
       "      <td>6176062</td>\n",
       "      <td>3.03</td>\n",
       "      <td>8.14</td>\n",
       "      <td>2.86</td>\n",
       "      <td>8.04</td>\n",
       "      <td>1.0</td>\n",
       "      <td>133 136 147 148 131 134 136 137 143 93 122 103...</td>\n",
       "      <td>Training_set</td>\n",
       "      <td>0.0</td>\n",
       "      <td>1.0</td>\n",
       "      <td>0.0</td>\n",
       "      <td>1.0</td>\n",
       "    </tr>\n",
       "    <tr>\n",
       "      <th>120</th>\n",
       "      <td>6</td>\n",
       "      <td>1</td>\n",
       "      <td>7</td>\n",
       "      <td>40</td>\n",
       "      <td>7138735</td>\n",
       "      <td>5.10</td>\n",
       "      <td>7.12</td>\n",
       "      <td>6.17</td>\n",
       "      <td>5.97</td>\n",
       "      <td>3.0</td>\n",
       "      <td>138 113 125 136 143 146 168 151 140 135 123 15...</td>\n",
       "      <td>Training_set</td>\n",
       "      <td>1.0</td>\n",
       "      <td>1.0</td>\n",
       "      <td>1.0</td>\n",
       "      <td>1.0</td>\n",
       "    </tr>\n",
       "    <tr>\n",
       "      <th>140</th>\n",
       "      <td>7</td>\n",
       "      <td>1</td>\n",
       "      <td>8</td>\n",
       "      <td>39</td>\n",
       "      <td>8081417</td>\n",
       "      <td>3.24</td>\n",
       "      <td>6.18</td>\n",
       "      <td>7.87</td>\n",
       "      <td>6.15</td>\n",
       "      <td>1.0</td>\n",
       "      <td>134 137 142 138 163 152 133 139 128 119 110 12...</td>\n",
       "      <td>Training_set</td>\n",
       "      <td>0.0</td>\n",
       "      <td>1.0</td>\n",
       "      <td>1.0</td>\n",
       "      <td>1.0</td>\n",
       "    </tr>\n",
       "    <tr>\n",
       "      <th>160</th>\n",
       "      <td>8</td>\n",
       "      <td>1</td>\n",
       "      <td>9</td>\n",
       "      <td>13</td>\n",
       "      <td>8960934</td>\n",
       "      <td>1.95</td>\n",
       "      <td>3.12</td>\n",
       "      <td>2.87</td>\n",
       "      <td>6.18</td>\n",
       "      <td>1.0</td>\n",
       "      <td>135 138 137 134 146 167 143 132 137 134 117 12...</td>\n",
       "      <td>Training_set</td>\n",
       "      <td>0.0</td>\n",
       "      <td>0.0</td>\n",
       "      <td>0.0</td>\n",
       "      <td>1.0</td>\n",
       "    </tr>\n",
       "    <tr>\n",
       "      <th>180</th>\n",
       "      <td>9</td>\n",
       "      <td>1</td>\n",
       "      <td>10</td>\n",
       "      <td>33</td>\n",
       "      <td>9816492</td>\n",
       "      <td>3.81</td>\n",
       "      <td>3.85</td>\n",
       "      <td>4.78</td>\n",
       "      <td>5.13</td>\n",
       "      <td>1.0</td>\n",
       "      <td>137 132 130 138 135 137 138 142 139 138 133 11...</td>\n",
       "      <td>Training_set</td>\n",
       "      <td>0.0</td>\n",
       "      <td>0.0</td>\n",
       "      <td>1.0</td>\n",
       "      <td>1.0</td>\n",
       "    </tr>\n",
       "    <tr>\n",
       "      <th>200</th>\n",
       "      <td>10</td>\n",
       "      <td>1</td>\n",
       "      <td>11</td>\n",
       "      <td>6</td>\n",
       "      <td>10696693</td>\n",
       "      <td>8.27</td>\n",
       "      <td>3.92</td>\n",
       "      <td>7.00</td>\n",
       "      <td>8.03</td>\n",
       "      <td>2.0</td>\n",
       "      <td>138 117 123 138 140 143 159 154 150 142 113 13...</td>\n",
       "      <td>Training_set</td>\n",
       "      <td>1.0</td>\n",
       "      <td>0.0</td>\n",
       "      <td>1.0</td>\n",
       "      <td>1.0</td>\n",
       "    </tr>\n",
       "    <tr>\n",
       "      <th>220</th>\n",
       "      <td>11</td>\n",
       "      <td>1</td>\n",
       "      <td>12</td>\n",
       "      <td>10</td>\n",
       "      <td>11559734</td>\n",
       "      <td>1.99</td>\n",
       "      <td>4.86</td>\n",
       "      <td>2.04</td>\n",
       "      <td>7.09</td>\n",
       "      <td>2.0</td>\n",
       "      <td>126 138 137 141 143 138 145 137 139 123 133 13...</td>\n",
       "      <td>Training_set</td>\n",
       "      <td>0.0</td>\n",
       "      <td>1.0</td>\n",
       "      <td>0.0</td>\n",
       "      <td>1.0</td>\n",
       "    </tr>\n",
       "    <tr>\n",
       "      <th>240</th>\n",
       "      <td>12</td>\n",
       "      <td>1</td>\n",
       "      <td>13</td>\n",
       "      <td>35</td>\n",
       "      <td>12593050</td>\n",
       "      <td>2.06</td>\n",
       "      <td>8.15</td>\n",
       "      <td>8.05</td>\n",
       "      <td>5.18</td>\n",
       "      <td>1.0</td>\n",
       "      <td>135 135 134 133 140 135 139 133 129 137 135 13...</td>\n",
       "      <td>Training_set</td>\n",
       "      <td>0.0</td>\n",
       "      <td>1.0</td>\n",
       "      <td>1.0</td>\n",
       "      <td>1.0</td>\n",
       "    </tr>\n",
       "    <tr>\n",
       "      <th>260</th>\n",
       "      <td>13</td>\n",
       "      <td>1</td>\n",
       "      <td>14</td>\n",
       "      <td>22</td>\n",
       "      <td>13429432</td>\n",
       "      <td>7.09</td>\n",
       "      <td>2.08</td>\n",
       "      <td>7.06</td>\n",
       "      <td>7.37</td>\n",
       "      <td>1.0</td>\n",
       "      <td>136 145 135 117 130 133 138 136 134 146 138 11...</td>\n",
       "      <td>Training_set</td>\n",
       "      <td>1.0</td>\n",
       "      <td>0.0</td>\n",
       "      <td>1.0</td>\n",
       "      <td>1.0</td>\n",
       "    </tr>\n",
       "    <tr>\n",
       "      <th>280</th>\n",
       "      <td>14</td>\n",
       "      <td>1</td>\n",
       "      <td>15</td>\n",
       "      <td>15</td>\n",
       "      <td>14230827</td>\n",
       "      <td>3.17</td>\n",
       "      <td>8.08</td>\n",
       "      <td>2.91</td>\n",
       "      <td>5.04</td>\n",
       "      <td>1.0</td>\n",
       "      <td>134 140 140 143 149 152 153 147 140 108 128 12...</td>\n",
       "      <td>Training_set</td>\n",
       "      <td>0.0</td>\n",
       "      <td>1.0</td>\n",
       "      <td>0.0</td>\n",
       "      <td>1.0</td>\n",
       "    </tr>\n",
       "  </tbody>\n",
       "</table>\n",
       "</div>"
      ],
      "text/plain": [
       "     Unnamed: 0  Participant_id  Trial  Experiment_id  Start_time  Valence  \\\n",
       "40            2               1      3              4     3586768     4.94   \n",
       "60            3               1      4             24     4493800     7.04   \n",
       "80            4               1      5             20     5362005     8.26   \n",
       "100           5               1      6             31     6176062     3.03   \n",
       "120           6               1      7             40     7138735     5.10   \n",
       "140           7               1      8             39     8081417     3.24   \n",
       "160           8               1      9             13     8960934     1.95   \n",
       "180           9               1     10             33     9816492     3.81   \n",
       "200          10               1     11              6    10696693     8.27   \n",
       "220          11               1     12             10    11559734     1.99   \n",
       "240          12               1     13             35    12593050     2.06   \n",
       "260          13               1     14             22    13429432     7.09   \n",
       "280          14               1     15             15    14230827     3.17   \n",
       "\n",
       "     Arousal  Dominance  Liking  Familiarity  \\\n",
       "40      6.01       6.12    8.06          4.0   \n",
       "60      7.09       8.01    8.22          4.0   \n",
       "80      7.91       7.19    8.13          1.0   \n",
       "100     8.14       2.86    8.04          1.0   \n",
       "120     7.12       6.17    5.97          3.0   \n",
       "140     6.18       7.87    6.15          1.0   \n",
       "160     3.12       2.87    6.18          1.0   \n",
       "180     3.85       4.78    5.13          1.0   \n",
       "200     3.92       7.00    8.03          2.0   \n",
       "220     4.86       2.04    7.09          2.0   \n",
       "240     8.15       8.05    5.18          1.0   \n",
       "260     2.08       7.06    7.37          1.0   \n",
       "280     8.08       2.91    5.04          1.0   \n",
       "\n",
       "                                           face_pixels      Type_set  \\\n",
       "40   138 133 137 136 138 125 138 137 135 134 143 13...  Training_set   \n",
       "60   139 132 135 135 133 136 132 139 136 107 122 13...  Training_set   \n",
       "80   137 116 129 141 132 139 139 148 150 111 145 12...  Training_set   \n",
       "100  133 136 147 148 131 134 136 137 143 93 122 103...  Training_set   \n",
       "120  138 113 125 136 143 146 168 151 140 135 123 15...  Training_set   \n",
       "140  134 137 142 138 163 152 133 139 128 119 110 12...  Training_set   \n",
       "160  135 138 137 134 146 167 143 132 137 134 117 12...  Training_set   \n",
       "180  137 132 130 138 135 137 138 142 139 138 133 11...  Training_set   \n",
       "200  138 117 123 138 140 143 159 154 150 142 113 13...  Training_set   \n",
       "220  126 138 137 141 143 138 145 137 139 123 133 13...  Training_set   \n",
       "240  135 135 134 133 140 135 139 133 129 137 135 13...  Training_set   \n",
       "260  136 145 135 117 130 133 138 136 134 146 138 11...  Training_set   \n",
       "280  134 140 140 143 149 152 153 147 140 108 128 12...  Training_set   \n",
       "\n",
       "     Valence_label  Arousal_label  Dominance_label  Liking_label  \n",
       "40             1.0            1.0              1.0           1.0  \n",
       "60             1.0            1.0              1.0           1.0  \n",
       "80             1.0            1.0              1.0           1.0  \n",
       "100            0.0            1.0              0.0           1.0  \n",
       "120            1.0            1.0              1.0           1.0  \n",
       "140            0.0            1.0              1.0           1.0  \n",
       "160            0.0            0.0              0.0           1.0  \n",
       "180            0.0            0.0              1.0           1.0  \n",
       "200            1.0            0.0              1.0           1.0  \n",
       "220            0.0            1.0              0.0           1.0  \n",
       "240            0.0            1.0              1.0           1.0  \n",
       "260            1.0            0.0              1.0           1.0  \n",
       "280            0.0            1.0              0.0           1.0  "
      ]
     },
     "execution_count": 63,
     "metadata": {},
     "output_type": "execute_result"
    }
   ],
   "source": [
    "df_combine[40:300:20]"
   ]
  },
  {
   "cell_type": "code",
   "execution_count": 65,
   "metadata": {},
   "outputs": [],
   "source": [
    "#df_combine.to_csv('df_combine_all_20_VADL.csv',index=False)"
   ]
  },
  {
   "cell_type": "code",
   "execution_count": 10,
   "metadata": {},
   "outputs": [],
   "source": [
    "df_combine=pd.read_csv('df_combine_all_20_VADL.csv')"
   ]
  },
  {
   "cell_type": "code",
   "execution_count": 11,
   "metadata": {
    "scrolled": true
   },
   "outputs": [
    {
     "data": {
      "text/html": [
       "<div>\n",
       "<style scoped>\n",
       "    .dataframe tbody tr th:only-of-type {\n",
       "        vertical-align: middle;\n",
       "    }\n",
       "\n",
       "    .dataframe tbody tr th {\n",
       "        vertical-align: top;\n",
       "    }\n",
       "\n",
       "    .dataframe thead th {\n",
       "        text-align: right;\n",
       "    }\n",
       "</style>\n",
       "<table border=\"1\" class=\"dataframe\">\n",
       "  <thead>\n",
       "    <tr style=\"text-align: right;\">\n",
       "      <th></th>\n",
       "      <th>Unnamed: 0</th>\n",
       "      <th>Participant_id</th>\n",
       "      <th>Trial</th>\n",
       "      <th>Experiment_id</th>\n",
       "      <th>Start_time</th>\n",
       "      <th>Valence</th>\n",
       "      <th>Arousal</th>\n",
       "      <th>Dominance</th>\n",
       "      <th>Liking</th>\n",
       "      <th>Familiarity</th>\n",
       "      <th>face_pixels</th>\n",
       "      <th>Type_set</th>\n",
       "      <th>Valence_label</th>\n",
       "      <th>Arousal_label</th>\n",
       "      <th>Dominance_label</th>\n",
       "      <th>Liking_label</th>\n",
       "    </tr>\n",
       "  </thead>\n",
       "  <tbody>\n",
       "    <tr>\n",
       "      <th>0</th>\n",
       "      <td>0</td>\n",
       "      <td>1</td>\n",
       "      <td>1</td>\n",
       "      <td>5</td>\n",
       "      <td>1695918</td>\n",
       "      <td>6.96</td>\n",
       "      <td>3.92</td>\n",
       "      <td>7.19</td>\n",
       "      <td>6.05</td>\n",
       "      <td>4.0</td>\n",
       "      <td>135 138 140 134 144 144 136 120 117 134 142 13...</td>\n",
       "      <td>Training_set</td>\n",
       "      <td>1.0</td>\n",
       "      <td>0.0</td>\n",
       "      <td>1.0</td>\n",
       "      <td>1.0</td>\n",
       "    </tr>\n",
       "    <tr>\n",
       "      <th>1</th>\n",
       "      <td>0</td>\n",
       "      <td>1</td>\n",
       "      <td>1</td>\n",
       "      <td>5</td>\n",
       "      <td>1695918</td>\n",
       "      <td>6.96</td>\n",
       "      <td>3.92</td>\n",
       "      <td>7.19</td>\n",
       "      <td>6.05</td>\n",
       "      <td>4.0</td>\n",
       "      <td>135 141 133 143 138 118 113 138 138 138 137 12...</td>\n",
       "      <td>Training_set</td>\n",
       "      <td>1.0</td>\n",
       "      <td>0.0</td>\n",
       "      <td>1.0</td>\n",
       "      <td>1.0</td>\n",
       "    </tr>\n",
       "    <tr>\n",
       "      <th>2</th>\n",
       "      <td>0</td>\n",
       "      <td>1</td>\n",
       "      <td>1</td>\n",
       "      <td>5</td>\n",
       "      <td>1695918</td>\n",
       "      <td>6.96</td>\n",
       "      <td>3.92</td>\n",
       "      <td>7.19</td>\n",
       "      <td>6.05</td>\n",
       "      <td>4.0</td>\n",
       "      <td>138 136 138 144 123 113 140 140 141 138 153 13...</td>\n",
       "      <td>Training_set</td>\n",
       "      <td>1.0</td>\n",
       "      <td>0.0</td>\n",
       "      <td>1.0</td>\n",
       "      <td>1.0</td>\n",
       "    </tr>\n",
       "    <tr>\n",
       "      <th>3</th>\n",
       "      <td>0</td>\n",
       "      <td>1</td>\n",
       "      <td>1</td>\n",
       "      <td>5</td>\n",
       "      <td>1695918</td>\n",
       "      <td>6.96</td>\n",
       "      <td>3.92</td>\n",
       "      <td>7.19</td>\n",
       "      <td>6.05</td>\n",
       "      <td>4.0</td>\n",
       "      <td>138 135 138 136 140 134 117 128 139 138 136 13...</td>\n",
       "      <td>Training_set</td>\n",
       "      <td>1.0</td>\n",
       "      <td>0.0</td>\n",
       "      <td>1.0</td>\n",
       "      <td>1.0</td>\n",
       "    </tr>\n",
       "    <tr>\n",
       "      <th>4</th>\n",
       "      <td>0</td>\n",
       "      <td>1</td>\n",
       "      <td>1</td>\n",
       "      <td>5</td>\n",
       "      <td>1695918</td>\n",
       "      <td>6.96</td>\n",
       "      <td>3.92</td>\n",
       "      <td>7.19</td>\n",
       "      <td>6.05</td>\n",
       "      <td>4.0</td>\n",
       "      <td>133 137 135 134 137 141 135 112 131 134 139 12...</td>\n",
       "      <td>Training_set</td>\n",
       "      <td>1.0</td>\n",
       "      <td>0.0</td>\n",
       "      <td>1.0</td>\n",
       "      <td>1.0</td>\n",
       "    </tr>\n",
       "    <tr>\n",
       "      <th>...</th>\n",
       "      <td>...</td>\n",
       "      <td>...</td>\n",
       "      <td>...</td>\n",
       "      <td>...</td>\n",
       "      <td>...</td>\n",
       "      <td>...</td>\n",
       "      <td>...</td>\n",
       "      <td>...</td>\n",
       "      <td>...</td>\n",
       "      <td>...</td>\n",
       "      <td>...</td>\n",
       "      <td>...</td>\n",
       "      <td>...</td>\n",
       "      <td>...</td>\n",
       "      <td>...</td>\n",
       "      <td>...</td>\n",
       "    </tr>\n",
       "    <tr>\n",
       "      <th>17475</th>\n",
       "      <td>879</td>\n",
       "      <td>22</td>\n",
       "      <td>40</td>\n",
       "      <td>35</td>\n",
       "      <td>37007533</td>\n",
       "      <td>1.99</td>\n",
       "      <td>7.08</td>\n",
       "      <td>4.08</td>\n",
       "      <td>1.00</td>\n",
       "      <td>1.0</td>\n",
       "      <td>135 135 135 141 105 73 90 57 51 53 58 61 66 52...</td>\n",
       "      <td>Testing_set</td>\n",
       "      <td>0.0</td>\n",
       "      <td>1.0</td>\n",
       "      <td>0.0</td>\n",
       "      <td>0.0</td>\n",
       "    </tr>\n",
       "    <tr>\n",
       "      <th>17476</th>\n",
       "      <td>879</td>\n",
       "      <td>22</td>\n",
       "      <td>40</td>\n",
       "      <td>35</td>\n",
       "      <td>37007533</td>\n",
       "      <td>1.99</td>\n",
       "      <td>7.08</td>\n",
       "      <td>4.08</td>\n",
       "      <td>1.00</td>\n",
       "      <td>1.0</td>\n",
       "      <td>135 130 137 148 165 124 77 53 51 46 45 25 26 3...</td>\n",
       "      <td>Testing_set</td>\n",
       "      <td>0.0</td>\n",
       "      <td>1.0</td>\n",
       "      <td>0.0</td>\n",
       "      <td>0.0</td>\n",
       "    </tr>\n",
       "    <tr>\n",
       "      <th>17477</th>\n",
       "      <td>879</td>\n",
       "      <td>22</td>\n",
       "      <td>40</td>\n",
       "      <td>35</td>\n",
       "      <td>37007533</td>\n",
       "      <td>1.99</td>\n",
       "      <td>7.08</td>\n",
       "      <td>4.08</td>\n",
       "      <td>1.00</td>\n",
       "      <td>1.0</td>\n",
       "      <td>136 134 136 137 145 73 98 70 55 49 63 66 70 61...</td>\n",
       "      <td>Testing_set</td>\n",
       "      <td>0.0</td>\n",
       "      <td>1.0</td>\n",
       "      <td>0.0</td>\n",
       "      <td>0.0</td>\n",
       "    </tr>\n",
       "    <tr>\n",
       "      <th>17478</th>\n",
       "      <td>879</td>\n",
       "      <td>22</td>\n",
       "      <td>40</td>\n",
       "      <td>35</td>\n",
       "      <td>37007533</td>\n",
       "      <td>1.99</td>\n",
       "      <td>7.08</td>\n",
       "      <td>4.08</td>\n",
       "      <td>1.00</td>\n",
       "      <td>1.0</td>\n",
       "      <td>134 132 135 134 163 148 108 62 42 52 49 35 19 ...</td>\n",
       "      <td>Testing_set</td>\n",
       "      <td>0.0</td>\n",
       "      <td>1.0</td>\n",
       "      <td>0.0</td>\n",
       "      <td>0.0</td>\n",
       "    </tr>\n",
       "    <tr>\n",
       "      <th>17479</th>\n",
       "      <td>879</td>\n",
       "      <td>22</td>\n",
       "      <td>40</td>\n",
       "      <td>35</td>\n",
       "      <td>37007533</td>\n",
       "      <td>1.99</td>\n",
       "      <td>7.08</td>\n",
       "      <td>4.08</td>\n",
       "      <td>1.00</td>\n",
       "      <td>1.0</td>\n",
       "      <td>134 130 141 159 133 94 53 50 44 50 27 17 30 32...</td>\n",
       "      <td>Testing_set</td>\n",
       "      <td>0.0</td>\n",
       "      <td>1.0</td>\n",
       "      <td>0.0</td>\n",
       "      <td>0.0</td>\n",
       "    </tr>\n",
       "  </tbody>\n",
       "</table>\n",
       "<p>17480 rows × 16 columns</p>\n",
       "</div>"
      ],
      "text/plain": [
       "       Unnamed: 0  Participant_id  Trial  Experiment_id  Start_time  Valence  \\\n",
       "0               0               1      1              5     1695918     6.96   \n",
       "1               0               1      1              5     1695918     6.96   \n",
       "2               0               1      1              5     1695918     6.96   \n",
       "3               0               1      1              5     1695918     6.96   \n",
       "4               0               1      1              5     1695918     6.96   \n",
       "...           ...             ...    ...            ...         ...      ...   \n",
       "17475         879              22     40             35    37007533     1.99   \n",
       "17476         879              22     40             35    37007533     1.99   \n",
       "17477         879              22     40             35    37007533     1.99   \n",
       "17478         879              22     40             35    37007533     1.99   \n",
       "17479         879              22     40             35    37007533     1.99   \n",
       "\n",
       "       Arousal  Dominance  Liking  Familiarity  \\\n",
       "0         3.92       7.19    6.05          4.0   \n",
       "1         3.92       7.19    6.05          4.0   \n",
       "2         3.92       7.19    6.05          4.0   \n",
       "3         3.92       7.19    6.05          4.0   \n",
       "4         3.92       7.19    6.05          4.0   \n",
       "...        ...        ...     ...          ...   \n",
       "17475     7.08       4.08    1.00          1.0   \n",
       "17476     7.08       4.08    1.00          1.0   \n",
       "17477     7.08       4.08    1.00          1.0   \n",
       "17478     7.08       4.08    1.00          1.0   \n",
       "17479     7.08       4.08    1.00          1.0   \n",
       "\n",
       "                                             face_pixels      Type_set  \\\n",
       "0      135 138 140 134 144 144 136 120 117 134 142 13...  Training_set   \n",
       "1      135 141 133 143 138 118 113 138 138 138 137 12...  Training_set   \n",
       "2      138 136 138 144 123 113 140 140 141 138 153 13...  Training_set   \n",
       "3      138 135 138 136 140 134 117 128 139 138 136 13...  Training_set   \n",
       "4      133 137 135 134 137 141 135 112 131 134 139 12...  Training_set   \n",
       "...                                                  ...           ...   \n",
       "17475  135 135 135 141 105 73 90 57 51 53 58 61 66 52...   Testing_set   \n",
       "17476  135 130 137 148 165 124 77 53 51 46 45 25 26 3...   Testing_set   \n",
       "17477  136 134 136 137 145 73 98 70 55 49 63 66 70 61...   Testing_set   \n",
       "17478  134 132 135 134 163 148 108 62 42 52 49 35 19 ...   Testing_set   \n",
       "17479  134 130 141 159 133 94 53 50 44 50 27 17 30 32...   Testing_set   \n",
       "\n",
       "       Valence_label  Arousal_label  Dominance_label  Liking_label  \n",
       "0                1.0            0.0              1.0           1.0  \n",
       "1                1.0            0.0              1.0           1.0  \n",
       "2                1.0            0.0              1.0           1.0  \n",
       "3                1.0            0.0              1.0           1.0  \n",
       "4                1.0            0.0              1.0           1.0  \n",
       "...              ...            ...              ...           ...  \n",
       "17475            0.0            1.0              0.0           0.0  \n",
       "17476            0.0            1.0              0.0           0.0  \n",
       "17477            0.0            1.0              0.0           0.0  \n",
       "17478            0.0            1.0              0.0           0.0  \n",
       "17479            0.0            1.0              0.0           0.0  \n",
       "\n",
       "[17480 rows x 16 columns]"
      ]
     },
     "execution_count": 11,
     "metadata": {},
     "output_type": "execute_result"
    }
   ],
   "source": [
    "df_combine"
   ]
  },
  {
   "cell_type": "code",
   "execution_count": 12,
   "metadata": {
    "scrolled": true
   },
   "outputs": [],
   "source": [
    "import sys, os\n",
    "import pandas as pd\n",
    "import numpy as np\n",
    "\n",
    "#from keras import backend\n",
    "#from tensorflow.keras import backend\n",
    "from keras.models import Sequential\n",
    "from keras.layers import Dense, Dropout, Activation, Flatten\n",
    "from keras.layers import Conv2D, MaxPooling2D, BatchNormalization,AveragePooling2D\n",
    "from keras.losses import categorical_crossentropy\n",
    "from keras.optimizers import Adam\n",
    "from keras.regularizers import l2\n",
    "from keras.utils import np_utils"
   ]
  },
  {
   "cell_type": "code",
   "execution_count": 42,
   "metadata": {},
   "outputs": [],
   "source": [
    "X_train,y_train,X_test,y_test=[],[],[],[]"
   ]
  },
  {
   "cell_type": "code",
   "execution_count": 43,
   "metadata": {},
   "outputs": [],
   "source": [
    "for index, row in df_combine.iterrows():\n",
    "    val=row[\"face_pixels\"].split(\" \")\n",
    "    #print(type(val))\n",
    "   # try:\n",
    "    if 'Training_set' in row['Type_set']:\n",
    "             X_train.append(np.array(val,'float32'))\n",
    "             y_train.append(row['Liking_label'])\n",
    "    \n",
    "    elif 'Testing_set' in row['Type_set']:\n",
    "             X_test.append(np.array(val,'float32'))\n",
    "             y_test.append(row['Liking_label'])\n",
    "   # except:\n",
    "    #    print(f\"error occured at index :{index} and row:{row}\")\n"
   ]
  },
  {
   "cell_type": "code",
   "execution_count": 44,
   "metadata": {},
   "outputs": [
    {
     "name": "stdout",
     "output_type": "stream",
     "text": [
      "15732\n",
      "15732\n",
      "1748\n",
      "1748\n"
     ]
    }
   ],
   "source": [
    "print(len(X_train))\n",
    "print(len(y_train))\n",
    "print(len(X_test))\n",
    "print(len(y_test))"
   ]
  },
  {
   "cell_type": "code",
   "execution_count": 10,
   "metadata": {},
   "outputs": [],
   "source": [
    "#X_train"
   ]
  },
  {
   "cell_type": "code",
   "execution_count": 11,
   "metadata": {},
   "outputs": [],
   "source": [
    "#y_train"
   ]
  },
  {
   "cell_type": "code",
   "execution_count": 47,
   "metadata": {},
   "outputs": [],
   "source": [
    "X_train = np.array(X_train)\n",
    "y_train = np.array(y_train)\n",
    "X_test = np.array(X_test)\n",
    "y_test = np.array(y_test)"
   ]
  },
  {
   "cell_type": "code",
   "execution_count": 48,
   "metadata": {},
   "outputs": [
    {
     "data": {
      "text/plain": [
       "array([[135., 138., 140., ..., 242., 231., 223.],\n",
       "       [135., 141., 133., ..., 241., 237., 228.],\n",
       "       [138., 136., 138., ..., 238., 243., 235.],\n",
       "       ...,\n",
       "       [139., 137., 145., ...,  22.,  34.,  61.],\n",
       "       [137., 132., 138., ..., 170.,  19.,  42.],\n",
       "       [133., 137., 134., ..., 205.,  54.,  38.]], dtype=float32)"
      ]
     },
     "execution_count": 48,
     "metadata": {},
     "output_type": "execute_result"
    }
   ],
   "source": [
    "X_train"
   ]
  },
  {
   "cell_type": "code",
   "execution_count": 49,
   "metadata": {},
   "outputs": [],
   "source": [
    "X_train -= np.mean(X_train, axis=0)\n",
    "X_train /= np.std(X_train, axis=0)\n",
    "\n",
    "X_test -= np.mean(X_test, axis=0)\n",
    "X_test /= np.std(X_test, axis=0)\n",
    "\n",
    "X_train = X_train.reshape(X_train.shape[0], 100, 100,1)\n",
    "X_test = X_test.reshape(X_test.shape[0], 100, 100, 1)"
   ]
  },
  {
   "cell_type": "code",
   "execution_count": 12,
   "metadata": {},
   "outputs": [],
   "source": [
    "#X_train"
   ]
  },
  {
   "cell_type": "code",
   "execution_count": 51,
   "metadata": {},
   "outputs": [
    {
     "data": {
      "text/plain": [
       "(15732, 100, 100, 1)"
      ]
     },
     "execution_count": 51,
     "metadata": {},
     "output_type": "execute_result"
    }
   ],
   "source": [
    "X_train.shape"
   ]
  },
  {
   "cell_type": "code",
   "execution_count": 52,
   "metadata": {},
   "outputs": [
    {
     "name": "stdout",
     "output_type": "stream",
     "text": [
      "100\n",
      "100\n"
     ]
    }
   ],
   "source": [
    "print(len(X_train[0]))\n",
    "print(len(X_train[2]))"
   ]
  },
  {
   "cell_type": "code",
   "execution_count": 53,
   "metadata": {},
   "outputs": [
    {
     "data": {
      "text/plain": [
       "array([1., 1., 1., 1., 1., 1., 1., 1., 1., 1., 1., 1., 1., 1., 1., 1., 1.,\n",
       "       1., 1., 1., 1., 1., 1., 1., 1., 1., 1., 1., 1., 1., 1., 1., 1., 1.,\n",
       "       1., 1., 1., 1., 1., 1., 1., 1., 1., 1., 1., 1., 1., 1., 1., 1., 1.,\n",
       "       1., 1., 1., 1., 1., 1., 1., 1., 1., 1., 1., 1., 1., 1., 1., 1., 1.,\n",
       "       1., 1., 1., 1., 1., 1., 1., 1., 1., 1., 1., 1., 1., 1., 1., 1., 1.,\n",
       "       1., 1., 1., 1., 1., 1., 1., 1., 1., 1., 1., 1., 1., 1., 1., 1., 1.,\n",
       "       1., 1., 1., 1., 1., 1., 1., 1., 1., 1., 1., 1., 1., 1., 1., 1., 1.,\n",
       "       1., 1., 1., 1., 1., 1., 1., 1., 1., 1., 1., 1., 1., 1., 1., 1., 1.,\n",
       "       1., 1., 1., 1., 1., 1., 1., 1., 1., 1., 1., 1., 1., 1., 1., 1., 1.,\n",
       "       1., 1., 1., 1., 1., 1., 1., 1., 1., 1., 1., 1., 1., 1., 1., 1., 1.,\n",
       "       1., 1., 1., 1., 1., 1., 1., 1., 1., 1., 1., 1., 1., 1., 1., 1., 1.,\n",
       "       1., 1., 1., 1., 1., 1., 1., 1., 1., 1., 1., 1., 1.])"
      ]
     },
     "execution_count": 53,
     "metadata": {},
     "output_type": "execute_result"
    }
   ],
   "source": [
    "y_train[0:200]"
   ]
  },
  {
   "cell_type": "code",
   "execution_count": 54,
   "metadata": {},
   "outputs": [
    {
     "data": {
      "text/plain": [
       "15732"
      ]
     },
     "execution_count": 54,
     "metadata": {},
     "output_type": "execute_result"
    }
   ],
   "source": [
    "len(y_train)"
   ]
  },
  {
   "cell_type": "code",
   "execution_count": 32,
   "metadata": {},
   "outputs": [],
   "source": [
    "#num_labels=2\n",
    "#num_features = 64\n",
    "#width, height = 100,100"
   ]
  },
  {
   "cell_type": "code",
   "execution_count": 33,
   "metadata": {
    "scrolled": true
   },
   "outputs": [],
   "source": [
    "#y_train=np_utils.to_categorical(y_train, num_classes=num_labels)\n",
    "#y_test=np_utils.to_categorical(y_test, num_classes=num_labels)\n",
    "#print(y_train)"
   ]
  },
  {
   "cell_type": "code",
   "execution_count": 55,
   "metadata": {
    "scrolled": true
   },
   "outputs": [
    {
     "name": "stdout",
     "output_type": "stream",
     "text": [
      "_________________________________________________________________\n",
      "Layer (type)                 Output Shape              Param #   \n",
      "=================================================================\n",
      "conv2d_13 (Conv2D)           (None, 98, 98, 64)        640       \n",
      "_________________________________________________________________\n",
      "conv2d_14 (Conv2D)           (None, 96, 96, 64)        36928     \n",
      "_________________________________________________________________\n",
      "max_pooling2d_7 (MaxPooling2 (None, 48, 48, 64)        0         \n",
      "_________________________________________________________________\n",
      "dropout_9 (Dropout)          (None, 48, 48, 64)        0         \n",
      "_________________________________________________________________\n",
      "conv2d_15 (Conv2D)           (None, 46, 46, 64)        36928     \n",
      "_________________________________________________________________\n",
      "conv2d_16 (Conv2D)           (None, 44, 44, 64)        36928     \n",
      "_________________________________________________________________\n",
      "max_pooling2d_8 (MaxPooling2 (None, 22, 22, 64)        0         \n",
      "_________________________________________________________________\n",
      "dropout_10 (Dropout)         (None, 22, 22, 64)        0         \n",
      "_________________________________________________________________\n",
      "conv2d_17 (Conv2D)           (None, 20, 20, 128)       73856     \n",
      "_________________________________________________________________\n",
      "conv2d_18 (Conv2D)           (None, 18, 18, 128)       147584    \n",
      "_________________________________________________________________\n",
      "max_pooling2d_9 (MaxPooling2 (None, 9, 9, 128)         0         \n",
      "_________________________________________________________________\n",
      "flatten_3 (Flatten)          (None, 10368)             0         \n",
      "_________________________________________________________________\n",
      "dense_7 (Dense)              (None, 1024)              10617856  \n",
      "_________________________________________________________________\n",
      "dropout_11 (Dropout)         (None, 1024)              0         \n",
      "_________________________________________________________________\n",
      "dense_8 (Dense)              (None, 1024)              1049600   \n",
      "_________________________________________________________________\n",
      "dropout_12 (Dropout)         (None, 1024)              0         \n",
      "_________________________________________________________________\n",
      "dense_9 (Dense)              (None, 1)                 1025      \n",
      "=================================================================\n",
      "Total params: 12,001,345\n",
      "Trainable params: 12,001,345\n",
      "Non-trainable params: 0\n",
      "_________________________________________________________________\n"
     ]
    }
   ],
   "source": [
    "#1st convolution layer\n",
    "model = Sequential()\n",
    "\n",
    "model.add(Conv2D(64, kernel_size=(3, 3), activation='relu', input_shape=(X_train.shape[1:])))\n",
    "model.add(Conv2D(64,kernel_size= (3, 3), activation='relu'))\n",
    "# model.add(BatchNormalization())\n",
    "model.add(MaxPooling2D(pool_size=(2,2), strides=(2, 2)))\n",
    "model.add(Dropout(0.5))\n",
    "\n",
    "#2nd convolution layer\n",
    "model.add(Conv2D(64, (3, 3), activation='relu'))\n",
    "model.add(Conv2D(64, (3, 3), activation='relu'))\n",
    "# model.add(BatchNormalization())\n",
    "model.add(MaxPooling2D(pool_size=(2,2), strides=(2, 2)))\n",
    "model.add(Dropout(0.5))\n",
    "\n",
    "#3rd convolution layer\n",
    "model.add(Conv2D(128, (3, 3), activation='relu'))\n",
    "model.add(Conv2D(128, (3, 3), activation='relu'))\n",
    "# model.add(BatchNormalization())\n",
    "model.add(MaxPooling2D(pool_size=(2,2), strides=(2, 2)))\n",
    "\n",
    "model.add(Flatten())\n",
    "\n",
    "#fully connected neural networks\n",
    "model.add(Dense(1024, activation='relu'))\n",
    "model.add(Dropout(0.2))\n",
    "model.add(Dense(1024, activation='relu'))\n",
    "model.add(Dropout(0.2))\n",
    "\n",
    "model.add(Dense(1, activation='sigmoid'))\n",
    "\n",
    "model.summary()"
   ]
  },
  {
   "cell_type": "code",
   "execution_count": 56,
   "metadata": {},
   "outputs": [],
   "source": [
    "batch_size = 64\n",
    "epochs = 15"
   ]
  },
  {
   "cell_type": "markdown",
   "metadata": {},
   "source": [
    "#### TRAINING FOR VALENCE LABEL"
   ]
  },
  {
   "cell_type": "code",
   "execution_count": 36,
   "metadata": {
    "scrolled": true
   },
   "outputs": [
    {
     "name": "stdout",
     "output_type": "stream",
     "text": [
      "Train on 15732 samples, validate on 1748 samples\n"
     ]
    },
    {
     "data": {
      "application/vnd.jupyter.widget-view+json": {
       "model_id": "7d89d244de00464aba4b6e912334b874",
       "version_major": 2,
       "version_minor": 0
      },
      "text/plain": [
       "HBox(children=(FloatProgress(value=0.0, description='Training', max=20.0, style=ProgressStyle(description_widt…"
      ]
     },
     "metadata": {},
     "output_type": "display_data"
    },
    {
     "name": "stdout",
     "output_type": "stream",
     "text": [
      "Epoch 1/20\n"
     ]
    },
    {
     "data": {
      "application/vnd.jupyter.widget-view+json": {
       "model_id": "",
       "version_major": 2,
       "version_minor": 0
      },
      "text/plain": [
       "HBox(children=(FloatProgress(value=0.0, description='Epoch 0', max=15732.0, style=ProgressStyle(description_wi…"
      ]
     },
     "metadata": {},
     "output_type": "display_data"
    },
    {
     "name": "stdout",
     "output_type": "stream",
     "text": [
      "15732/15732 [==============================] - 1135s 72ms/step - loss: 0.6769 - acc: 0.6154 - val_loss: 0.6635 - val_acc: 0.6224\n",
      "Epoch 2/20\n"
     ]
    },
    {
     "data": {
      "application/vnd.jupyter.widget-view+json": {
       "model_id": "",
       "version_major": 2,
       "version_minor": 0
      },
      "text/plain": [
       "HBox(children=(FloatProgress(value=0.0, description='Epoch 1', max=15732.0, style=ProgressStyle(description_wi…"
      ]
     },
     "metadata": {},
     "output_type": "display_data"
    },
    {
     "name": "stdout",
     "output_type": "stream",
     "text": [
      "15732/15732 [==============================] - 1162s 74ms/step - loss: 0.6521 - acc: 0.6253 - val_loss: 0.6533 - val_acc: 0.6379\n",
      "Epoch 3/20\n"
     ]
    },
    {
     "data": {
      "application/vnd.jupyter.widget-view+json": {
       "model_id": "",
       "version_major": 2,
       "version_minor": 0
      },
      "text/plain": [
       "HBox(children=(FloatProgress(value=0.0, description='Epoch 2', max=15732.0, style=ProgressStyle(description_wi…"
      ]
     },
     "metadata": {},
     "output_type": "display_data"
    },
    {
     "name": "stdout",
     "output_type": "stream",
     "text": [
      "15732/15732 [==============================] - 1220s 78ms/step - loss: 0.6344 - acc: 0.6438 - val_loss: 0.6946 - val_acc: 0.6041\n",
      "Epoch 4/20\n"
     ]
    },
    {
     "data": {
      "application/vnd.jupyter.widget-view+json": {
       "model_id": "",
       "version_major": 2,
       "version_minor": 0
      },
      "text/plain": [
       "HBox(children=(FloatProgress(value=0.0, description='Epoch 3', max=15732.0, style=ProgressStyle(description_wi…"
      ]
     },
     "metadata": {},
     "output_type": "display_data"
    },
    {
     "name": "stdout",
     "output_type": "stream",
     "text": [
      "15732/15732 [==============================] - 1199s 76ms/step - loss: 0.6159 - acc: 0.6635 - val_loss: 0.7052 - val_acc: 0.5503\n",
      "Epoch 5/20\n"
     ]
    },
    {
     "data": {
      "application/vnd.jupyter.widget-view+json": {
       "model_id": "",
       "version_major": 2,
       "version_minor": 0
      },
      "text/plain": [
       "HBox(children=(FloatProgress(value=0.0, description='Epoch 4', max=15732.0, style=ProgressStyle(description_wi…"
      ]
     },
     "metadata": {},
     "output_type": "display_data"
    },
    {
     "name": "stdout",
     "output_type": "stream",
     "text": [
      "15732/15732 [==============================] - 1173s 75ms/step - loss: 0.6009 - acc: 0.6790 - val_loss: 0.6979 - val_acc: 0.6087\n",
      "Epoch 6/20\n"
     ]
    },
    {
     "data": {
      "application/vnd.jupyter.widget-view+json": {
       "model_id": "",
       "version_major": 2,
       "version_minor": 0
      },
      "text/plain": [
       "HBox(children=(FloatProgress(value=0.0, description='Epoch 5', max=15732.0, style=ProgressStyle(description_wi…"
      ]
     },
     "metadata": {},
     "output_type": "display_data"
    },
    {
     "name": "stdout",
     "output_type": "stream",
     "text": [
      "15732/15732 [==============================] - 1172s 75ms/step - loss: 0.5823 - acc: 0.6922 - val_loss: 0.7098 - val_acc: 0.5641\n",
      "Epoch 7/20\n"
     ]
    },
    {
     "data": {
      "application/vnd.jupyter.widget-view+json": {
       "model_id": "",
       "version_major": 2,
       "version_minor": 0
      },
      "text/plain": [
       "HBox(children=(FloatProgress(value=0.0, description='Epoch 6', max=15732.0, style=ProgressStyle(description_wi…"
      ]
     },
     "metadata": {},
     "output_type": "display_data"
    },
    {
     "name": "stdout",
     "output_type": "stream",
     "text": [
      "15732/15732 [==============================] - 1029s 65ms/step - loss: 0.5658 - acc: 0.7014 - val_loss: 0.7742 - val_acc: 0.5406\n",
      "Epoch 8/20\n"
     ]
    },
    {
     "data": {
      "application/vnd.jupyter.widget-view+json": {
       "model_id": "",
       "version_major": 2,
       "version_minor": 0
      },
      "text/plain": [
       "HBox(children=(FloatProgress(value=0.0, description='Epoch 7', max=15732.0, style=ProgressStyle(description_wi…"
      ]
     },
     "metadata": {},
     "output_type": "display_data"
    },
    {
     "name": "stdout",
     "output_type": "stream",
     "text": [
      "15732/15732 [==============================] - 1014s 64ms/step - loss: 0.5502 - acc: 0.7190 - val_loss: 0.7206 - val_acc: 0.5744\n",
      "Epoch 9/20\n"
     ]
    },
    {
     "data": {
      "application/vnd.jupyter.widget-view+json": {
       "model_id": "",
       "version_major": 2,
       "version_minor": 0
      },
      "text/plain": [
       "HBox(children=(FloatProgress(value=0.0, description='Epoch 8', max=15732.0, style=ProgressStyle(description_wi…"
      ]
     },
     "metadata": {},
     "output_type": "display_data"
    },
    {
     "name": "stdout",
     "output_type": "stream",
     "text": [
      "15732/15732 [==============================] - 1002s 64ms/step - loss: 0.5319 - acc: 0.7298 - val_loss: 0.9320 - val_acc: 0.5372\n",
      "Epoch 10/20\n"
     ]
    },
    {
     "data": {
      "application/vnd.jupyter.widget-view+json": {
       "model_id": "",
       "version_major": 2,
       "version_minor": 0
      },
      "text/plain": [
       "HBox(children=(FloatProgress(value=0.0, description='Epoch 9', max=15732.0, style=ProgressStyle(description_wi…"
      ]
     },
     "metadata": {},
     "output_type": "display_data"
    },
    {
     "name": "stdout",
     "output_type": "stream",
     "text": [
      "15732/15732 [==============================] - 1020s 65ms/step - loss: 0.5168 - acc: 0.7447 - val_loss: 0.8347 - val_acc: 0.5595\n",
      "Epoch 11/20\n"
     ]
    },
    {
     "data": {
      "application/vnd.jupyter.widget-view+json": {
       "model_id": "",
       "version_major": 2,
       "version_minor": 0
      },
      "text/plain": [
       "HBox(children=(FloatProgress(value=0.0, description='Epoch 10', max=15732.0, style=ProgressStyle(description_w…"
      ]
     },
     "metadata": {},
     "output_type": "display_data"
    },
    {
     "name": "stdout",
     "output_type": "stream",
     "text": [
      "15732/15732 [==============================] - 999s 63ms/step - loss: 0.5033 - acc: 0.7468 - val_loss: 0.9285 - val_acc: 0.5360\n",
      "Epoch 12/20\n"
     ]
    },
    {
     "data": {
      "application/vnd.jupyter.widget-view+json": {
       "model_id": "",
       "version_major": 2,
       "version_minor": 0
      },
      "text/plain": [
       "HBox(children=(FloatProgress(value=0.0, description='Epoch 11', max=15732.0, style=ProgressStyle(description_w…"
      ]
     },
     "metadata": {},
     "output_type": "display_data"
    },
    {
     "name": "stdout",
     "output_type": "stream",
     "text": [
      "15732/15732 [==============================] - 998s 63ms/step - loss: 0.4957 - acc: 0.7505 - val_loss: 0.8337 - val_acc: 0.5458\n",
      "Epoch 13/20\n"
     ]
    },
    {
     "data": {
      "application/vnd.jupyter.widget-view+json": {
       "model_id": "",
       "version_major": 2,
       "version_minor": 0
      },
      "text/plain": [
       "HBox(children=(FloatProgress(value=0.0, description='Epoch 12', max=15732.0, style=ProgressStyle(description_w…"
      ]
     },
     "metadata": {},
     "output_type": "display_data"
    },
    {
     "name": "stdout",
     "output_type": "stream",
     "text": [
      "15732/15732 [==============================] - 1000s 64ms/step - loss: 0.4839 - acc: 0.7623 - val_loss: 0.8339 - val_acc: 0.5481\n",
      "Epoch 14/20\n"
     ]
    },
    {
     "data": {
      "application/vnd.jupyter.widget-view+json": {
       "model_id": "",
       "version_major": 2,
       "version_minor": 0
      },
      "text/plain": [
       "HBox(children=(FloatProgress(value=0.0, description='Epoch 13', max=15732.0, style=ProgressStyle(description_w…"
      ]
     },
     "metadata": {},
     "output_type": "display_data"
    },
    {
     "name": "stdout",
     "output_type": "stream",
     "text": [
      "15732/15732 [==============================] - 997s 63ms/step - loss: 0.4699 - acc: 0.7684 - val_loss: 0.9792 - val_acc: 0.5618\n",
      "Epoch 15/20\n"
     ]
    },
    {
     "data": {
      "application/vnd.jupyter.widget-view+json": {
       "model_id": "",
       "version_major": 2,
       "version_minor": 0
      },
      "text/plain": [
       "HBox(children=(FloatProgress(value=0.0, description='Epoch 14', max=15732.0, style=ProgressStyle(description_w…"
      ]
     },
     "metadata": {},
     "output_type": "display_data"
    },
    {
     "name": "stdout",
     "output_type": "stream",
     "text": [
      "15732/15732 [==============================] - 996s 63ms/step - loss: 0.4607 - acc: 0.7742 - val_loss: 1.0338 - val_acc: 0.5601\n",
      "Epoch 16/20\n"
     ]
    },
    {
     "data": {
      "application/vnd.jupyter.widget-view+json": {
       "model_id": "",
       "version_major": 2,
       "version_minor": 0
      },
      "text/plain": [
       "HBox(children=(FloatProgress(value=0.0, description='Epoch 15', max=15732.0, style=ProgressStyle(description_w…"
      ]
     },
     "metadata": {},
     "output_type": "display_data"
    },
    {
     "name": "stdout",
     "output_type": "stream",
     "text": [
      "15732/15732 [==============================] - 997s 63ms/step - loss: 0.4462 - acc: 0.7825 - val_loss: 0.9601 - val_acc: 0.5526\n",
      "Epoch 17/20\n"
     ]
    },
    {
     "data": {
      "application/vnd.jupyter.widget-view+json": {
       "model_id": "",
       "version_major": 2,
       "version_minor": 0
      },
      "text/plain": [
       "HBox(children=(FloatProgress(value=0.0, description='Epoch 16', max=15732.0, style=ProgressStyle(description_w…"
      ]
     },
     "metadata": {},
     "output_type": "display_data"
    },
    {
     "name": "stdout",
     "output_type": "stream",
     "text": [
      "15732/15732 [==============================] - 1001s 64ms/step - loss: 0.4365 - acc: 0.7902 - val_loss: 1.1106 - val_acc: 0.5498\n",
      "Epoch 18/20\n"
     ]
    },
    {
     "data": {
      "application/vnd.jupyter.widget-view+json": {
       "model_id": "",
       "version_major": 2,
       "version_minor": 0
      },
      "text/plain": [
       "HBox(children=(FloatProgress(value=0.0, description='Epoch 17', max=15732.0, style=ProgressStyle(description_w…"
      ]
     },
     "metadata": {},
     "output_type": "display_data"
    },
    {
     "name": "stdout",
     "output_type": "stream",
     "text": [
      "15732/15732 [==============================] - 997s 63ms/step - loss: 0.4250 - acc: 0.7997 - val_loss: 1.1071 - val_acc: 0.5549\n",
      "Epoch 19/20\n"
     ]
    },
    {
     "data": {
      "application/vnd.jupyter.widget-view+json": {
       "model_id": "",
       "version_major": 2,
       "version_minor": 0
      },
      "text/plain": [
       "HBox(children=(FloatProgress(value=0.0, description='Epoch 18', max=15732.0, style=ProgressStyle(description_w…"
      ]
     },
     "metadata": {},
     "output_type": "display_data"
    },
    {
     "name": "stdout",
     "output_type": "stream",
     "text": [
      "15732/15732 [==============================] - 999s 64ms/step - loss: 0.4203 - acc: 0.8023 - val_loss: 1.1928 - val_acc: 0.5566\n",
      "Epoch 20/20\n"
     ]
    },
    {
     "data": {
      "application/vnd.jupyter.widget-view+json": {
       "model_id": "",
       "version_major": 2,
       "version_minor": 0
      },
      "text/plain": [
       "HBox(children=(FloatProgress(value=0.0, description='Epoch 19', max=15732.0, style=ProgressStyle(description_w…"
      ]
     },
     "metadata": {},
     "output_type": "display_data"
    },
    {
     "name": "stdout",
     "output_type": "stream",
     "text": [
      "15732/15732 [==============================] - 998s 63ms/step - loss: 0.4062 - acc: 0.8051 - val_loss: 1.0944 - val_acc: 0.5469\n",
      "\n"
     ]
    }
   ],
   "source": [
    "from keras_tqdm import TQDMNotebookCallback\n",
    "call = TQDMNotebookCallback()\n",
    "\n",
    "#Compliling the model\n",
    "model.compile(loss= 'binary_crossentropy', optimizer='adam', metrics=['accuracy'])\n",
    "\n",
    "#Training the model\n",
    "model.fit(X_train, y_train, batch_size=batch_size, epochs=epochs, verbose=1, validation_data=(X_test, y_test), shuffle=True,callbacks=[call])\n",
    "\n",
    "\n",
    "#Saving the  model to  use it later on\n",
    "deap_facial = model.to_json()\n",
    "with open(\"deap_facial_20_classification.json\", \"w\") as json_file:\n",
    "    json_file.write(deap_facial)\n",
    "model.save_weights(\"deap_facial_20_classification_weights.h5\")"
   ]
  },
  {
   "cell_type": "code",
   "execution_count": 37,
   "metadata": {},
   "outputs": [],
   "source": [
    "model.save('model_facial_valence_classification.h5')"
   ]
  },
  {
   "cell_type": "code",
   "execution_count": 40,
   "metadata": {
    "scrolled": true
   },
   "outputs": [],
   "source": [
    "from keras.models import load_model\n",
    "model = load_model('model_facial_valence_classification.h5')"
   ]
  },
  {
   "cell_type": "code",
   "execution_count": 41,
   "metadata": {},
   "outputs": [
    {
     "name": "stdout",
     "output_type": "stream",
     "text": [
      "Train loss: 0.34339223055326695\n",
      "Train Accuracy: 85.31019577627232\n",
      "Test loss: 1.0943712282508133\n",
      "Test Accuracy: 54.69107551487414\n"
     ]
    }
   ],
   "source": [
    "train_eval = model.evaluate(X_train, y_train, verbose=0)\n",
    "print('Train loss:', train_eval[0])\n",
    "print('Train Accuracy:', 100*train_eval[1])\n",
    " \n",
    "test_eval = model.evaluate(X_test, y_test, verbose=0)\n",
    "print('Test loss:', test_eval[0])\n",
    "print('Test Accuracy:', 100*test_eval[1])"
   ]
  },
  {
   "cell_type": "code",
   "execution_count": 44,
   "metadata": {},
   "outputs": [
    {
     "data": {
      "text/plain": [
       "numpy.ndarray"
      ]
     },
     "execution_count": 44,
     "metadata": {},
     "output_type": "execute_result"
    }
   ],
   "source": [
    "type(X_test)"
   ]
  },
  {
   "cell_type": "code",
   "execution_count": 45,
   "metadata": {},
   "outputs": [
    {
     "data": {
      "text/plain": [
       "(1748, 100, 100, 1)"
      ]
     },
     "execution_count": 45,
     "metadata": {},
     "output_type": "execute_result"
    }
   ],
   "source": [
    "X_test.shape"
   ]
  },
  {
   "cell_type": "code",
   "execution_count": 52,
   "metadata": {
    "scrolled": true
   },
   "outputs": [
    {
     "data": {
      "image/png": "[encoded data removed]",
      "text/plain": [
       "<Figure size 432x288 with 1 Axes>"
      ]
     },
     "metadata": {},
     "output_type": "display_data"
    },
    {
     "name": "stdout",
     "output_type": "stream",
     "text": [
      "[0.41428003]\n",
      "----------------------------------------------\n"
     ]
    },
    {
     "data": {
      "image/png": "[encoded data removed]",
      "text/plain": [
       "<Figure size 432x288 with 1 Axes>"
      ]
     },
     "metadata": {},
     "output_type": "display_data"
    },
    {
     "name": "stdout",
     "output_type": "stream",
     "text": [
      "[0.6064536]\n",
      "----------------------------------------------\n"
     ]
    },
    {
     "data": {
      "image/png": "[encoded data removed]",
      "text/plain": [
       "<Figure size 432x288 with 1 Axes>"
      ]
     },
     "metadata": {},
     "output_type": "display_data"
    },
    {
     "name": "stdout",
     "output_type": "stream",
     "text": [
      "[0.05849911]\n",
      "----------------------------------------------\n"
     ]
    },
    {
     "data": {
      "image/png": "[encoded data removed]",
      "text/plain": [
       "<Figure size 432x288 with 1 Axes>"
      ]
     },
     "metadata": {},
     "output_type": "display_data"
    },
    {
     "name": "stdout",
     "output_type": "stream",
     "text": [
      "[0.24088092]\n",
      "----------------------------------------------\n"
     ]
    },
    {
     "data": {
      "image/png": "[encoded data removed]",
      "text/plain": [
       "<Figure size 432x288 with 1 Axes>"
      ]
     },
     "metadata": {},
     "output_type": "display_data"
    },
    {
     "name": "stdout",
     "output_type": "stream",
     "text": [
      "[0.06425779]\n",
      "----------------------------------------------\n"
     ]
    },
    {
     "data": {
      "image/png": "[encoded data removed]",
      "text/plain": [
       "<Figure size 432x288 with 1 Axes>"
      ]
     },
     "metadata": {},
     "output_type": "display_data"
    },
    {
     "name": "stdout",
     "output_type": "stream",
     "text": [
      "[0.14490055]\n",
      "----------------------------------------------\n"
     ]
    },
    {
     "data": {
      "image/png": "[encoded data removed]",
      "text/plain": [
       "<Figure size 432x288 with 1 Axes>"
      ]
     },
     "metadata": {},
     "output_type": "display_data"
    },
    {
     "name": "stdout",
     "output_type": "stream",
     "text": [
      "[0.23001005]\n",
      "----------------------------------------------\n"
     ]
    },
    {
     "data": {
      "image/png": "[encoded data removed]",
      "text/plain": [
       "<Figure size 432x288 with 1 Axes>"
      ]
     },
     "metadata": {},
     "output_type": "display_data"
    },
    {
     "name": "stdout",
     "output_type": "stream",
     "text": [
      "[0.299683]\n",
      "----------------------------------------------\n"
     ]
    },
    {
     "data": {
      "image/png": "[encoded data removed]",
      "text/plain": [
       "<Figure size 432x288 with 1 Axes>"
      ]
     },
     "metadata": {},
     "output_type": "display_data"
    },
    {
     "name": "stdout",
     "output_type": "stream",
     "text": [
      "[0.09508959]\n",
      "----------------------------------------------\n"
     ]
    },
    {
     "data": {
      "image/png": "[encoded data removed]",
      "text/plain": [
       "<Figure size 432x288 with 1 Axes>"
      ]
     },
     "metadata": {},
     "output_type": "display_data"
    },
    {
     "name": "stdout",
     "output_type": "stream",
     "text": [
      "[0.40497208]\n",
      "----------------------------------------------\n"
     ]
    }
   ],
   "source": [
    "import matplotlib.pyplot as plt\n",
    "\n",
    "monitor_testset_results = True\n",
    "\n",
    "if monitor_testset_results == True:\n",
    "    predictions = model.predict(X_test)\n",
    "\n",
    "    index = 0\n",
    "    for i in predictions:\n",
    "        if index < 30 and index >= 20:\n",
    "            testing_img = X_test[index]\n",
    "            #print(testing_img.shape)\n",
    "            testing_img = testing_img.reshape(100,100);\n",
    "            plt.gray()\n",
    "            plt.imshow(testing_img)\n",
    "            plt.show()\n",
    "            print(i)\n",
    "            #print(y_test[index])\n",
    "            #emotion_analysis(i)\n",
    "            print(\"----------------------------------------------\")\n",
    "        index = index + 1"
   ]
  },
  {
   "cell_type": "markdown",
   "metadata": {},
   "source": [
    "#### TRAINING FOR AROUSAL LABEL"
   ]
  },
  {
   "cell_type": "code",
   "execution_count": 94,
   "metadata": {
    "scrolled": true
   },
   "outputs": [
    {
     "name": "stdout",
     "output_type": "stream",
     "text": [
      "Train on 15732 samples, validate on 1748 samples\n"
     ]
    },
    {
     "data": {
      "application/vnd.jupyter.widget-view+json": {
       "model_id": "e5d351778ea545e2bba19865f1604fcd",
       "version_major": 2,
       "version_minor": 0
      },
      "text/plain": [
       "HBox(children=(FloatProgress(value=0.0, description='Training', max=15.0, style=ProgressStyle(description_widt…"
      ]
     },
     "metadata": {},
     "output_type": "display_data"
    },
    {
     "name": "stdout",
     "output_type": "stream",
     "text": [
      "Epoch 1/15\n"
     ]
    },
    {
     "data": {
      "application/vnd.jupyter.widget-view+json": {
       "model_id": "",
       "version_major": 2,
       "version_minor": 0
      },
      "text/plain": [
       "HBox(children=(FloatProgress(value=0.0, description='Epoch 0', max=15732.0, style=ProgressStyle(description_wi…"
      ]
     },
     "metadata": {},
     "output_type": "display_data"
    },
    {
     "name": "stdout",
     "output_type": "stream",
     "text": [
      "15732/15732 [==============================] - 1105s 70ms/step - loss: 0.6604 - acc: 0.6419 - val_loss: 0.5666 - val_acc: 0.7666\n",
      "Epoch 2/15\n"
     ]
    },
    {
     "data": {
      "application/vnd.jupyter.widget-view+json": {
       "model_id": "",
       "version_major": 2,
       "version_minor": 0
      },
      "text/plain": [
       "HBox(children=(FloatProgress(value=0.0, description='Epoch 1', max=15732.0, style=ProgressStyle(description_wi…"
      ]
     },
     "metadata": {},
     "output_type": "display_data"
    },
    {
     "name": "stdout",
     "output_type": "stream",
     "text": [
      "15732/15732 [==============================] - 1199s 76ms/step - loss: 0.6013 - acc: 0.6767 - val_loss: 0.5996 - val_acc: 0.7614\n",
      "Epoch 3/15\n"
     ]
    },
    {
     "data": {
      "application/vnd.jupyter.widget-view+json": {
       "model_id": "",
       "version_major": 2,
       "version_minor": 0
      },
      "text/plain": [
       "HBox(children=(FloatProgress(value=0.0, description='Epoch 2', max=15732.0, style=ProgressStyle(description_wi…"
      ]
     },
     "metadata": {},
     "output_type": "display_data"
    },
    {
     "name": "stdout",
     "output_type": "stream",
     "text": [
      "15732/15732 [==============================] - 1199s 76ms/step - loss: 0.5811 - acc: 0.6976 - val_loss: 0.5910 - val_acc: 0.7557\n",
      "Epoch 4/15\n"
     ]
    },
    {
     "data": {
      "application/vnd.jupyter.widget-view+json": {
       "model_id": "",
       "version_major": 2,
       "version_minor": 0
      },
      "text/plain": [
       "HBox(children=(FloatProgress(value=0.0, description='Epoch 3', max=15732.0, style=ProgressStyle(description_wi…"
      ]
     },
     "metadata": {},
     "output_type": "display_data"
    },
    {
     "name": "stdout",
     "output_type": "stream",
     "text": [
      "15732/15732 [==============================] - 1199s 76ms/step - loss: 0.5675 - acc: 0.7075 - val_loss: 0.5767 - val_acc: 0.7489\n",
      "Epoch 5/15\n"
     ]
    },
    {
     "data": {
      "application/vnd.jupyter.widget-view+json": {
       "model_id": "",
       "version_major": 2,
       "version_minor": 0
      },
      "text/plain": [
       "HBox(children=(FloatProgress(value=0.0, description='Epoch 4', max=15732.0, style=ProgressStyle(description_wi…"
      ]
     },
     "metadata": {},
     "output_type": "display_data"
    },
    {
     "name": "stdout",
     "output_type": "stream",
     "text": [
      "15732/15732 [==============================] - 1195s 76ms/step - loss: 0.5487 - acc: 0.7239 - val_loss: 0.5858 - val_acc: 0.7471\n",
      "Epoch 6/15\n"
     ]
    },
    {
     "data": {
      "application/vnd.jupyter.widget-view+json": {
       "model_id": "",
       "version_major": 2,
       "version_minor": 0
      },
      "text/plain": [
       "HBox(children=(FloatProgress(value=0.0, description='Epoch 5', max=15732.0, style=ProgressStyle(description_wi…"
      ]
     },
     "metadata": {},
     "output_type": "display_data"
    },
    {
     "name": "stdout",
     "output_type": "stream",
     "text": [
      "15732/15732 [==============================] - 1191s 76ms/step - loss: 0.5382 - acc: 0.7283 - val_loss: 0.6068 - val_acc: 0.7208\n",
      "Epoch 7/15\n"
     ]
    },
    {
     "data": {
      "application/vnd.jupyter.widget-view+json": {
       "model_id": "",
       "version_major": 2,
       "version_minor": 0
      },
      "text/plain": [
       "HBox(children=(FloatProgress(value=0.0, description='Epoch 6', max=15732.0, style=ProgressStyle(description_wi…"
      ]
     },
     "metadata": {},
     "output_type": "display_data"
    },
    {
     "name": "stdout",
     "output_type": "stream",
     "text": [
      "15732/15732 [==============================] - 1200s 76ms/step - loss: 0.5225 - acc: 0.7356 - val_loss: 0.5767 - val_acc: 0.7546\n",
      "Epoch 8/15\n"
     ]
    },
    {
     "data": {
      "application/vnd.jupyter.widget-view+json": {
       "model_id": "",
       "version_major": 2,
       "version_minor": 0
      },
      "text/plain": [
       "HBox(children=(FloatProgress(value=0.0, description='Epoch 7', max=15732.0, style=ProgressStyle(description_wi…"
      ]
     },
     "metadata": {},
     "output_type": "display_data"
    },
    {
     "name": "stdout",
     "output_type": "stream",
     "text": [
      "15732/15732 [==============================] - 1166s 74ms/step - loss: 0.5062 - acc: 0.7492 - val_loss: 0.6136 - val_acc: 0.6957\n",
      "Epoch 9/15\n"
     ]
    },
    {
     "data": {
      "application/vnd.jupyter.widget-view+json": {
       "model_id": "",
       "version_major": 2,
       "version_minor": 0
      },
      "text/plain": [
       "HBox(children=(FloatProgress(value=0.0, description='Epoch 8', max=15732.0, style=ProgressStyle(description_wi…"
      ]
     },
     "metadata": {},
     "output_type": "display_data"
    },
    {
     "name": "stdout",
     "output_type": "stream",
     "text": [
      "15732/15732 [==============================] - 1166s 74ms/step - loss: 0.4917 - acc: 0.7562 - val_loss: 0.6032 - val_acc: 0.7025\n",
      "Epoch 10/15\n"
     ]
    },
    {
     "data": {
      "application/vnd.jupyter.widget-view+json": {
       "model_id": "",
       "version_major": 2,
       "version_minor": 0
      },
      "text/plain": [
       "HBox(children=(FloatProgress(value=0.0, description='Epoch 9', max=15732.0, style=ProgressStyle(description_wi…"
      ]
     },
     "metadata": {},
     "output_type": "display_data"
    },
    {
     "name": "stdout",
     "output_type": "stream",
     "text": [
      "15732/15732 [==============================] - 1209s 77ms/step - loss: 0.4760 - acc: 0.7678 - val_loss: 0.6175 - val_acc: 0.7191\n",
      "Epoch 11/15\n"
     ]
    },
    {
     "data": {
      "application/vnd.jupyter.widget-view+json": {
       "model_id": "",
       "version_major": 2,
       "version_minor": 0
      },
      "text/plain": [
       "HBox(children=(FloatProgress(value=0.0, description='Epoch 10', max=15732.0, style=ProgressStyle(description_w…"
      ]
     },
     "metadata": {},
     "output_type": "display_data"
    },
    {
     "name": "stdout",
     "output_type": "stream",
     "text": [
      "15732/15732 [==============================] - 1245s 79ms/step - loss: 0.4683 - acc: 0.7650 - val_loss: 0.6539 - val_acc: 0.6562\n",
      "Epoch 12/15\n"
     ]
    },
    {
     "data": {
      "application/vnd.jupyter.widget-view+json": {
       "model_id": "",
       "version_major": 2,
       "version_minor": 0
      },
      "text/plain": [
       "HBox(children=(FloatProgress(value=0.0, description='Epoch 11', max=15732.0, style=ProgressStyle(description_w…"
      ]
     },
     "metadata": {},
     "output_type": "display_data"
    },
    {
     "name": "stdout",
     "output_type": "stream",
     "text": [
      "15732/15732 [==============================] - 1274s 81ms/step - loss: 0.4528 - acc: 0.7794 - val_loss: 0.6589 - val_acc: 0.6487\n",
      "Epoch 13/15\n"
     ]
    },
    {
     "data": {
      "application/vnd.jupyter.widget-view+json": {
       "model_id": "",
       "version_major": 2,
       "version_minor": 0
      },
      "text/plain": [
       "HBox(children=(FloatProgress(value=0.0, description='Epoch 12', max=15732.0, style=ProgressStyle(description_w…"
      ]
     },
     "metadata": {},
     "output_type": "display_data"
    },
    {
     "name": "stdout",
     "output_type": "stream",
     "text": [
      "15732/15732 [==============================] - 1086s 69ms/step - loss: 0.4460 - acc: 0.7868 - val_loss: 0.6554 - val_acc: 0.6739\n",
      "Epoch 14/15\n"
     ]
    },
    {
     "data": {
      "application/vnd.jupyter.widget-view+json": {
       "model_id": "",
       "version_major": 2,
       "version_minor": 0
      },
      "text/plain": [
       "HBox(children=(FloatProgress(value=0.0, description='Epoch 13', max=15732.0, style=ProgressStyle(description_w…"
      ]
     },
     "metadata": {},
     "output_type": "display_data"
    },
    {
     "name": "stdout",
     "output_type": "stream",
     "text": [
      "15732/15732 [==============================] - 1086s 69ms/step - loss: 0.4308 - acc: 0.7940 - val_loss: 0.6336 - val_acc: 0.6796\n",
      "Epoch 15/15\n"
     ]
    },
    {
     "data": {
      "application/vnd.jupyter.widget-view+json": {
       "model_id": "",
       "version_major": 2,
       "version_minor": 0
      },
      "text/plain": [
       "HBox(children=(FloatProgress(value=0.0, description='Epoch 14', max=15732.0, style=ProgressStyle(description_w…"
      ]
     },
     "metadata": {},
     "output_type": "display_data"
    },
    {
     "name": "stdout",
     "output_type": "stream",
     "text": [
      "15732/15732 [==============================] - 1100s 70ms/step - loss: 0.4189 - acc: 0.8012 - val_loss: 0.6680 - val_acc: 0.6419\n",
      "\n"
     ]
    }
   ],
   "source": [
    "from keras_tqdm import TQDMNotebookCallback\n",
    "call = TQDMNotebookCallback()\n",
    "\n",
    "#Compliling the model\n",
    "model.compile(loss= 'binary_crossentropy', optimizer='adam', metrics=['accuracy'])\n",
    "\n",
    "#Training the model\n",
    "model.fit(X_train, y_train, batch_size=batch_size, epochs=epochs, verbose=1, validation_data=(X_test, y_test), shuffle=True,callbacks=[call])\n",
    "\n",
    "\n",
    "#Saving the  model to  use it later on\n",
    "deap_facial = model.to_json()\n",
    "with open(\"deap_facial_20_classification_arousal.json\", \"w\") as json_file:\n",
    "    json_file.write(deap_facial)\n",
    "model.save_weights(\"deap_facial_20_classification_arousal_weights.h5\")"
   ]
  },
  {
   "cell_type": "code",
   "execution_count": 95,
   "metadata": {},
   "outputs": [],
   "source": [
    "model.save(\"model_facial_arousal_classification.h5\")"
   ]
  },
  {
   "cell_type": "markdown",
   "metadata": {},
   "source": [
    "#### TRAINING FOR DOMINANCE LABEL"
   ]
  },
  {
   "cell_type": "code",
   "execution_count": 41,
   "metadata": {
    "scrolled": true
   },
   "outputs": [
    {
     "name": "stdout",
     "output_type": "stream",
     "text": [
      "Train on 15732 samples, validate on 1748 samples\n"
     ]
    },
    {
     "data": {
      "application/vnd.jupyter.widget-view+json": {
       "model_id": "6c543d0a59114d97bbc1768c43df78fa",
       "version_major": 2,
       "version_minor": 0
      },
      "text/plain": [
       "HBox(children=(FloatProgress(value=0.0, description='Training', max=15.0, style=ProgressStyle(description_widt…"
      ]
     },
     "metadata": {},
     "output_type": "display_data"
    },
    {
     "name": "stdout",
     "output_type": "stream",
     "text": [
      "Epoch 1/15\n"
     ]
    },
    {
     "data": {
      "application/vnd.jupyter.widget-view+json": {
       "model_id": "",
       "version_major": 2,
       "version_minor": 0
      },
      "text/plain": [
       "HBox(children=(FloatProgress(value=0.0, description='Epoch 0', max=15732.0, style=ProgressStyle(description_wi…"
      ]
     },
     "metadata": {},
     "output_type": "display_data"
    },
    {
     "name": "stdout",
     "output_type": "stream",
     "text": [
      "15732/15732 [==============================] - 1115s 71ms/step - loss: 0.6797 - acc: 0.6016 - val_loss: 0.6350 - val_acc: 0.6911\n",
      "Epoch 2/15\n"
     ]
    },
    {
     "data": {
      "application/vnd.jupyter.widget-view+json": {
       "model_id": "",
       "version_major": 2,
       "version_minor": 0
      },
      "text/plain": [
       "HBox(children=(FloatProgress(value=0.0, description='Epoch 1', max=15732.0, style=ProgressStyle(description_wi…"
      ]
     },
     "metadata": {},
     "output_type": "display_data"
    },
    {
     "name": "stdout",
     "output_type": "stream",
     "text": [
      "15732/15732 [==============================] - 1153s 73ms/step - loss: 0.6309 - acc: 0.6234 - val_loss: 0.6446 - val_acc: 0.6304\n",
      "Epoch 3/15\n"
     ]
    },
    {
     "data": {
      "application/vnd.jupyter.widget-view+json": {
       "model_id": "",
       "version_major": 2,
       "version_minor": 0
      },
      "text/plain": [
       "HBox(children=(FloatProgress(value=0.0, description='Epoch 2', max=15732.0, style=ProgressStyle(description_wi…"
      ]
     },
     "metadata": {},
     "output_type": "display_data"
    },
    {
     "name": "stdout",
     "output_type": "stream",
     "text": [
      "15732/15732 [==============================] - 1166s 74ms/step - loss: 0.6102 - acc: 0.6397 - val_loss: 0.6707 - val_acc: 0.5944\n",
      "Epoch 4/15\n"
     ]
    },
    {
     "data": {
      "application/vnd.jupyter.widget-view+json": {
       "model_id": "",
       "version_major": 2,
       "version_minor": 0
      },
      "text/plain": [
       "HBox(children=(FloatProgress(value=0.0, description='Epoch 3', max=15732.0, style=ProgressStyle(description_wi…"
      ]
     },
     "metadata": {},
     "output_type": "display_data"
    },
    {
     "name": "stdout",
     "output_type": "stream",
     "text": [
      "15732/15732 [==============================] - 1175s 75ms/step - loss: 0.5954 - acc: 0.6572 - val_loss: 0.6853 - val_acc: 0.5852\n",
      "Epoch 5/15\n"
     ]
    },
    {
     "data": {
      "application/vnd.jupyter.widget-view+json": {
       "model_id": "",
       "version_major": 2,
       "version_minor": 0
      },
      "text/plain": [
       "HBox(children=(FloatProgress(value=0.0, description='Epoch 4', max=15732.0, style=ProgressStyle(description_wi…"
      ]
     },
     "metadata": {},
     "output_type": "display_data"
    },
    {
     "name": "stdout",
     "output_type": "stream",
     "text": [
      "15732/15732 [==============================] - 1175s 75ms/step - loss: 0.5776 - acc: 0.6788 - val_loss: 0.6694 - val_acc: 0.5950\n",
      "Epoch 6/15\n"
     ]
    },
    {
     "data": {
      "application/vnd.jupyter.widget-view+json": {
       "model_id": "",
       "version_major": 2,
       "version_minor": 0
      },
      "text/plain": [
       "HBox(children=(FloatProgress(value=0.0, description='Epoch 5', max=15732.0, style=ProgressStyle(description_wi…"
      ]
     },
     "metadata": {},
     "output_type": "display_data"
    },
    {
     "name": "stdout",
     "output_type": "stream",
     "text": [
      "15732/15732 [==============================] - 1174s 75ms/step - loss: 0.5616 - acc: 0.6925 - val_loss: 0.6857 - val_acc: 0.5961\n",
      "Epoch 7/15\n"
     ]
    },
    {
     "data": {
      "application/vnd.jupyter.widget-view+json": {
       "model_id": "",
       "version_major": 2,
       "version_minor": 0
      },
      "text/plain": [
       "HBox(children=(FloatProgress(value=0.0, description='Epoch 6', max=15732.0, style=ProgressStyle(description_wi…"
      ]
     },
     "metadata": {},
     "output_type": "display_data"
    },
    {
     "name": "stdout",
     "output_type": "stream",
     "text": [
      "15732/15732 [==============================] - 1174s 75ms/step - loss: 0.5477 - acc: 0.7039 - val_loss: 0.7137 - val_acc: 0.6081\n",
      "Epoch 8/15\n"
     ]
    },
    {
     "data": {
      "application/vnd.jupyter.widget-view+json": {
       "model_id": "",
       "version_major": 2,
       "version_minor": 0
      },
      "text/plain": [
       "HBox(children=(FloatProgress(value=0.0, description='Epoch 7', max=15732.0, style=ProgressStyle(description_wi…"
      ]
     },
     "metadata": {},
     "output_type": "display_data"
    },
    {
     "name": "stdout",
     "output_type": "stream",
     "text": [
      "15732/15732 [==============================] - 1177s 75ms/step - loss: 0.5384 - acc: 0.7121 - val_loss: 0.7555 - val_acc: 0.5475\n",
      "Epoch 9/15\n"
     ]
    },
    {
     "data": {
      "application/vnd.jupyter.widget-view+json": {
       "model_id": "",
       "version_major": 2,
       "version_minor": 0
      },
      "text/plain": [
       "HBox(children=(FloatProgress(value=0.0, description='Epoch 8', max=15732.0, style=ProgressStyle(description_wi…"
      ]
     },
     "metadata": {},
     "output_type": "display_data"
    },
    {
     "name": "stdout",
     "output_type": "stream",
     "text": [
      "15732/15732 [==============================] - 1173s 75ms/step - loss: 0.5254 - acc: 0.7170 - val_loss: 0.7530 - val_acc: 0.5423\n",
      "Epoch 10/15\n"
     ]
    },
    {
     "data": {
      "application/vnd.jupyter.widget-view+json": {
       "model_id": "",
       "version_major": 2,
       "version_minor": 0
      },
      "text/plain": [
       "HBox(children=(FloatProgress(value=0.0, description='Epoch 9', max=15732.0, style=ProgressStyle(description_wi…"
      ]
     },
     "metadata": {},
     "output_type": "display_data"
    },
    {
     "name": "stdout",
     "output_type": "stream",
     "text": [
      "15732/15732 [==============================] - 1173s 75ms/step - loss: 0.5151 - acc: 0.7278 - val_loss: 0.7890 - val_acc: 0.5521\n",
      "Epoch 11/15\n"
     ]
    },
    {
     "data": {
      "application/vnd.jupyter.widget-view+json": {
       "model_id": "",
       "version_major": 2,
       "version_minor": 0
      },
      "text/plain": [
       "HBox(children=(FloatProgress(value=0.0, description='Epoch 10', max=15732.0, style=ProgressStyle(description_w…"
      ]
     },
     "metadata": {},
     "output_type": "display_data"
    },
    {
     "name": "stdout",
     "output_type": "stream",
     "text": [
      "15732/15732 [==============================] - 1174s 75ms/step - loss: 0.5034 - acc: 0.7364 - val_loss: 0.7197 - val_acc: 0.6076\n",
      "Epoch 12/15\n"
     ]
    },
    {
     "data": {
      "application/vnd.jupyter.widget-view+json": {
       "model_id": "",
       "version_major": 2,
       "version_minor": 0
      },
      "text/plain": [
       "HBox(children=(FloatProgress(value=0.0, description='Epoch 11', max=15732.0, style=ProgressStyle(description_w…"
      ]
     },
     "metadata": {},
     "output_type": "display_data"
    },
    {
     "name": "stdout",
     "output_type": "stream",
     "text": [
      "15732/15732 [==============================] - 1175s 75ms/step - loss: 0.4965 - acc: 0.7428 - val_loss: 0.7503 - val_acc: 0.5532\n",
      "Epoch 13/15\n"
     ]
    },
    {
     "data": {
      "application/vnd.jupyter.widget-view+json": {
       "model_id": "",
       "version_major": 2,
       "version_minor": 0
      },
      "text/plain": [
       "HBox(children=(FloatProgress(value=0.0, description='Epoch 12', max=15732.0, style=ProgressStyle(description_w…"
      ]
     },
     "metadata": {},
     "output_type": "display_data"
    },
    {
     "name": "stdout",
     "output_type": "stream",
     "text": [
      "15732/15732 [==============================] - 1175s 75ms/step - loss: 0.4877 - acc: 0.7481 - val_loss: 0.7457 - val_acc: 0.5669\n",
      "Epoch 14/15\n"
     ]
    },
    {
     "data": {
      "application/vnd.jupyter.widget-view+json": {
       "model_id": "",
       "version_major": 2,
       "version_minor": 0
      },
      "text/plain": [
       "HBox(children=(FloatProgress(value=0.0, description='Epoch 13', max=15732.0, style=ProgressStyle(description_w…"
      ]
     },
     "metadata": {},
     "output_type": "display_data"
    },
    {
     "name": "stdout",
     "output_type": "stream",
     "text": [
      "15732/15732 [==============================] - 1176s 75ms/step - loss: 0.4768 - acc: 0.7562 - val_loss: 0.7973 - val_acc: 0.5612\n",
      "Epoch 15/15\n"
     ]
    },
    {
     "data": {
      "application/vnd.jupyter.widget-view+json": {
       "model_id": "",
       "version_major": 2,
       "version_minor": 0
      },
      "text/plain": [
       "HBox(children=(FloatProgress(value=0.0, description='Epoch 14', max=15732.0, style=ProgressStyle(description_w…"
      ]
     },
     "metadata": {},
     "output_type": "display_data"
    },
    {
     "name": "stdout",
     "output_type": "stream",
     "text": [
      "15732/15732 [==============================] - 1178s 75ms/step - loss: 0.4660 - acc: 0.7576 - val_loss: 0.7908 - val_acc: 0.5315\n",
      "\n"
     ]
    }
   ],
   "source": [
    "from keras_tqdm import TQDMNotebookCallback\n",
    "call = TQDMNotebookCallback()\n",
    "\n",
    "#Compliling the model\n",
    "model.compile(loss= 'binary_crossentropy', optimizer='adam', metrics=['accuracy'])\n",
    "\n",
    "#Training the model\n",
    "model.fit(X_train, y_train, batch_size=batch_size, epochs=epochs, verbose=1, validation_data=(X_test, y_test), shuffle=True,callbacks=[call])\n",
    "\n",
    "\n",
    "#Saving the  model to  use it later on\n",
    "deap_facial = model.to_json()\n",
    "with open(\"deap_facial_20_classification_dominance.json\", \"w\") as json_file:\n",
    "    json_file.write(deap_facial)\n",
    "model.save(\"model_facial_dominance_classification.h5\")\n",
    "model.save_weights(\"deap_facial_20_classification_dominance_weights.h5\")"
   ]
  },
  {
   "cell_type": "markdown",
   "metadata": {},
   "source": [
    "#### TRAINING FOR LIKING LABEL"
   ]
  },
  {
   "cell_type": "code",
   "execution_count": 57,
   "metadata": {
    "scrolled": true
   },
   "outputs": [
    {
     "name": "stdout",
     "output_type": "stream",
     "text": [
      "Train on 15732 samples, validate on 1748 samples\n"
     ]
    },
    {
     "data": {
      "application/vnd.jupyter.widget-view+json": {
       "model_id": "28b6f4ccf52f4ed8b7d7aa100255d9ce",
       "version_major": 2,
       "version_minor": 0
      },
      "text/plain": [
       "HBox(children=(FloatProgress(value=0.0, description='Training', max=15.0, style=ProgressStyle(description_widt…"
      ]
     },
     "metadata": {},
     "output_type": "display_data"
    },
    {
     "name": "stdout",
     "output_type": "stream",
     "text": [
      "Epoch 1/15\n"
     ]
    },
    {
     "data": {
      "application/vnd.jupyter.widget-view+json": {
       "model_id": "",
       "version_major": 2,
       "version_minor": 0
      },
      "text/plain": [
       "HBox(children=(FloatProgress(value=0.0, description='Epoch 0', max=15732.0, style=ProgressStyle(description_wi…"
      ]
     },
     "metadata": {},
     "output_type": "display_data"
    },
    {
     "name": "stdout",
     "output_type": "stream",
     "text": [
      "15732/15732 [==============================] - 1226s 78ms/step - loss: 0.5806 - acc: 0.7201 - val_loss: 0.6240 - val_acc: 0.6568\n",
      "Epoch 2/15\n"
     ]
    },
    {
     "data": {
      "application/vnd.jupyter.widget-view+json": {
       "model_id": "",
       "version_major": 2,
       "version_minor": 0
      },
      "text/plain": [
       "HBox(children=(FloatProgress(value=0.0, description='Epoch 1', max=15732.0, style=ProgressStyle(description_wi…"
      ]
     },
     "metadata": {},
     "output_type": "display_data"
    },
    {
     "name": "stdout",
     "output_type": "stream",
     "text": [
      "15732/15732 [==============================] - 1186s 75ms/step - loss: 0.5430 - acc: 0.7239 - val_loss: 0.6155 - val_acc: 0.6568\n",
      "Epoch 3/15\n"
     ]
    },
    {
     "data": {
      "application/vnd.jupyter.widget-view+json": {
       "model_id": "",
       "version_major": 2,
       "version_minor": 0
      },
      "text/plain": [
       "HBox(children=(FloatProgress(value=0.0, description='Epoch 2', max=15732.0, style=ProgressStyle(description_wi…"
      ]
     },
     "metadata": {},
     "output_type": "display_data"
    },
    {
     "name": "stdout",
     "output_type": "stream",
     "text": [
      "15732/15732 [==============================] - 1188s 75ms/step - loss: 0.5241 - acc: 0.7374 - val_loss: 0.6144 - val_acc: 0.6665\n",
      "Epoch 4/15\n"
     ]
    },
    {
     "data": {
      "application/vnd.jupyter.widget-view+json": {
       "model_id": "",
       "version_major": 2,
       "version_minor": 0
      },
      "text/plain": [
       "HBox(children=(FloatProgress(value=0.0, description='Epoch 3', max=15732.0, style=ProgressStyle(description_wi…"
      ]
     },
     "metadata": {},
     "output_type": "display_data"
    },
    {
     "name": "stdout",
     "output_type": "stream",
     "text": [
      "15732/15732 [==============================] - 1184s 75ms/step - loss: 0.4985 - acc: 0.7515 - val_loss: 0.6238 - val_acc: 0.6648\n",
      "Epoch 5/15\n"
     ]
    },
    {
     "data": {
      "application/vnd.jupyter.widget-view+json": {
       "model_id": "",
       "version_major": 2,
       "version_minor": 0
      },
      "text/plain": [
       "HBox(children=(FloatProgress(value=0.0, description='Epoch 4', max=15732.0, style=ProgressStyle(description_wi…"
      ]
     },
     "metadata": {},
     "output_type": "display_data"
    },
    {
     "name": "stdout",
     "output_type": "stream",
     "text": [
      "15732/15732 [==============================] - 1184s 75ms/step - loss: 0.4790 - acc: 0.7625 - val_loss: 0.6522 - val_acc: 0.6590\n",
      "Epoch 6/15\n"
     ]
    },
    {
     "data": {
      "application/vnd.jupyter.widget-view+json": {
       "model_id": "",
       "version_major": 2,
       "version_minor": 0
      },
      "text/plain": [
       "HBox(children=(FloatProgress(value=0.0, description='Epoch 5', max=15732.0, style=ProgressStyle(description_wi…"
      ]
     },
     "metadata": {},
     "output_type": "display_data"
    },
    {
     "name": "stdout",
     "output_type": "stream",
     "text": [
      "15732/15732 [==============================] - 1185s 75ms/step - loss: 0.4569 - acc: 0.7763 - val_loss: 0.7030 - val_acc: 0.6585\n",
      "Epoch 7/15\n"
     ]
    },
    {
     "data": {
      "application/vnd.jupyter.widget-view+json": {
       "model_id": "",
       "version_major": 2,
       "version_minor": 0
      },
      "text/plain": [
       "HBox(children=(FloatProgress(value=0.0, description='Epoch 6', max=15732.0, style=ProgressStyle(description_wi…"
      ]
     },
     "metadata": {},
     "output_type": "display_data"
    },
    {
     "name": "stdout",
     "output_type": "stream",
     "text": [
      "15732/15732 [==============================] - 1185s 75ms/step - loss: 0.4357 - acc: 0.7838 - val_loss: 0.6933 - val_acc: 0.6333\n",
      "Epoch 8/15\n"
     ]
    },
    {
     "data": {
      "application/vnd.jupyter.widget-view+json": {
       "model_id": "",
       "version_major": 2,
       "version_minor": 0
      },
      "text/plain": [
       "HBox(children=(FloatProgress(value=0.0, description='Epoch 7', max=15732.0, style=ProgressStyle(description_wi…"
      ]
     },
     "metadata": {},
     "output_type": "display_data"
    },
    {
     "name": "stdout",
     "output_type": "stream",
     "text": [
      "15732/15732 [==============================] - 1184s 75ms/step - loss: 0.4121 - acc: 0.8000 - val_loss: 0.6790 - val_acc: 0.6362\n",
      "Epoch 9/15\n"
     ]
    },
    {
     "data": {
      "application/vnd.jupyter.widget-view+json": {
       "model_id": "",
       "version_major": 2,
       "version_minor": 0
      },
      "text/plain": [
       "HBox(children=(FloatProgress(value=0.0, description='Epoch 8', max=15732.0, style=ProgressStyle(description_wi…"
      ]
     },
     "metadata": {},
     "output_type": "display_data"
    },
    {
     "name": "stdout",
     "output_type": "stream",
     "text": [
      "15732/15732 [==============================] - 1185s 75ms/step - loss: 0.3943 - acc: 0.8085 - val_loss: 0.7122 - val_acc: 0.6138\n",
      "Epoch 10/15\n"
     ]
    },
    {
     "data": {
      "application/vnd.jupyter.widget-view+json": {
       "model_id": "",
       "version_major": 2,
       "version_minor": 0
      },
      "text/plain": [
       "HBox(children=(FloatProgress(value=0.0, description='Epoch 9', max=15732.0, style=ProgressStyle(description_wi…"
      ]
     },
     "metadata": {},
     "output_type": "display_data"
    },
    {
     "name": "stdout",
     "output_type": "stream",
     "text": [
      "15732/15732 [==============================] - 1183s 75ms/step - loss: 0.3797 - acc: 0.8202 - val_loss: 0.8493 - val_acc: 0.5749\n",
      "Epoch 11/15\n"
     ]
    },
    {
     "data": {
      "application/vnd.jupyter.widget-view+json": {
       "model_id": "",
       "version_major": 2,
       "version_minor": 0
      },
      "text/plain": [
       "HBox(children=(FloatProgress(value=0.0, description='Epoch 10', max=15732.0, style=ProgressStyle(description_w…"
      ]
     },
     "metadata": {},
     "output_type": "display_data"
    },
    {
     "name": "stdout",
     "output_type": "stream",
     "text": [
      "15732/15732 [==============================] - 1184s 75ms/step - loss: 0.3596 - acc: 0.8300 - val_loss: 0.7914 - val_acc: 0.5812\n",
      "Epoch 12/15\n"
     ]
    },
    {
     "data": {
      "application/vnd.jupyter.widget-view+json": {
       "model_id": "",
       "version_major": 2,
       "version_minor": 0
      },
      "text/plain": [
       "HBox(children=(FloatProgress(value=0.0, description='Epoch 11', max=15732.0, style=ProgressStyle(description_w…"
      ]
     },
     "metadata": {},
     "output_type": "display_data"
    },
    {
     "name": "stdout",
     "output_type": "stream",
     "text": [
      "15732/15732 [==============================] - 1185s 75ms/step - loss: 0.3412 - acc: 0.8389 - val_loss: 0.8170 - val_acc: 0.5967\n",
      "Epoch 13/15\n"
     ]
    },
    {
     "data": {
      "application/vnd.jupyter.widget-view+json": {
       "model_id": "",
       "version_major": 2,
       "version_minor": 0
      },
      "text/plain": [
       "HBox(children=(FloatProgress(value=0.0, description='Epoch 12', max=15732.0, style=ProgressStyle(description_w…"
      ]
     },
     "metadata": {},
     "output_type": "display_data"
    },
    {
     "name": "stdout",
     "output_type": "stream",
     "text": [
      "15732/15732 [==============================] - 1185s 75ms/step - loss: 0.3284 - acc: 0.8478 - val_loss: 0.8246 - val_acc: 0.5595\n",
      "Epoch 14/15\n"
     ]
    },
    {
     "data": {
      "application/vnd.jupyter.widget-view+json": {
       "model_id": "",
       "version_major": 2,
       "version_minor": 0
      },
      "text/plain": [
       "HBox(children=(FloatProgress(value=0.0, description='Epoch 13', max=15732.0, style=ProgressStyle(description_w…"
      ]
     },
     "metadata": {},
     "output_type": "display_data"
    },
    {
     "name": "stdout",
     "output_type": "stream",
     "text": [
      "15732/15732 [==============================] - 1190s 76ms/step - loss: 0.3160 - acc: 0.8551 - val_loss: 0.8577 - val_acc: 0.5601\n",
      "Epoch 15/15\n"
     ]
    },
    {
     "data": {
      "application/vnd.jupyter.widget-view+json": {
       "model_id": "",
       "version_major": 2,
       "version_minor": 0
      },
      "text/plain": [
       "HBox(children=(FloatProgress(value=0.0, description='Epoch 14', max=15732.0, style=ProgressStyle(description_w…"
      ]
     },
     "metadata": {},
     "output_type": "display_data"
    },
    {
     "name": "stdout",
     "output_type": "stream",
     "text": [
      "15732/15732 [==============================] - 1173s 75ms/step - loss: 0.3069 - acc: 0.8614 - val_loss: 0.8717 - val_acc: 0.5744\n",
      "\n"
     ]
    }
   ],
   "source": [
    "from keras_tqdm import TQDMNotebookCallback\n",
    "call = TQDMNotebookCallback()\n",
    "\n",
    "#Compliling the model\n",
    "model.compile(loss= 'binary_crossentropy', optimizer='adam', metrics=['accuracy'])\n",
    "\n",
    "#Training the model\n",
    "model.fit(X_train, y_train, batch_size=batch_size, epochs=epochs, verbose=1, validation_data=(X_test, y_test), shuffle=True,callbacks=[call])\n",
    "\n",
    "\n",
    "#Saving the  model to  use it later on\n",
    "deap_facial = model.to_json()\n",
    "with open(\"deap_facial_20_classification_liking.json\", \"w\") as json_file:\n",
    "    json_file.write(deap_facial)\n",
    "model.save(\"model_facial_liking_classification.h5\")\n",
    "model.save_weights(\"deap_facial_20_classification_liking_weights.h5\")"
   ]
  }
 ],
 "metadata": {
  "kernelspec": {
   "display_name": "Python 3",
   "language": "python",
   "name": "python3"
  },
  "language_info": {
   "codemirror_mode": {
    "name": "ipython",
    "version": 3
   },
   "file_extension": ".py",
   "mimetype": "text/x-python",
   "name": "python",
   "nbconvert_exporter": "python",
   "pygments_lexer": "ipython3",
   "version": "3.7.6"
  }
 },
 "nbformat": 4,
 "nbformat_minor": 2
}
